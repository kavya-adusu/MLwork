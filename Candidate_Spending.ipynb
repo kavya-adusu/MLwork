{
  "nbformat": 4,
  "nbformat_minor": 0,
  "metadata": {
    "colab": {
      "provenance": [],
      "authorship_tag": "ABX9TyNVKAl9OqTzMZmK0HfvCs74"
    },
    "kernelspec": {
      "name": "python3",
      "display_name": "Python 3"
    },
    "language_info": {
      "name": "python"
    }
  },
  "cells": [
    {
      "cell_type": "code",
      "execution_count": null,
      "metadata": {
        "id": "9JdWvOmqwjHE"
      },
      "outputs": [],
      "source": [
        "import pandas as pd"
      ]
    },
    {
      "cell_type": "code",
      "source": [
        "df = pd.read_csv(\"CandidateSummaryAction1.csv\")"
      ],
      "metadata": {
        "id": "SQpsxki_wmr_"
      },
      "execution_count": null,
      "outputs": []
    },
    {
      "cell_type": "code",
      "source": [
        "df.head()"
      ],
      "metadata": {
        "colab": {
          "base_uri": "https://localhost:8080/",
          "height": 456
        },
        "id": "nKsWrX03wx0m",
        "outputId": "8021e2bc-ac01-4cf4-dba5-b0bb1ea30351"
      },
      "execution_count": null,
      "outputs": [
        {
          "output_type": "execute_result",
          "data": {
            "text/plain": [
              "      can_id           can_nam can_off can_off_sta  can_off_dis can_par_aff  \\\n",
              "0  H2GA12121  ALLEN, RICHARD W       H          GA         12.0         REP   \n",
              "1  H6PA02171     EVANS, DWIGHT       H          PA          2.0         DEM   \n",
              "2  H6FL04105  RUTHERFORD, JOHN       H          FL          4.0         REP   \n",
              "3  H4MT01041     ZINKE, RYAN K       H          MT          0.0         REP   \n",
              "4  H8CA09060      LEE, BARBARA       H          CA         13.0         DEM   \n",
              "\n",
              "  can_inc_cha_ope_sea                 can_str1 can_str2       can_cit  ...  \\\n",
              "0           INCUMBENT          2237 PICKENS RD      NaN       AUGUSTA  ...   \n",
              "1          CHALLENGER              PO BOX 6578      NaN  PHILADELPHIA  ...   \n",
              "2                OPEN  3817 VICKERS LAKE DRIVE      NaN  JACKSONVILLE  ...   \n",
              "3           INCUMBENT             409 2ND ST W      NaN     WHITEFISH  ...   \n",
              "4           INCUMBENT     409 13TH ST, 17TH FL      NaN       OAKLAND  ...   \n",
              "\n",
              "  cas_on_han_beg_of_per  cas_on_han_clo_of_per         net_con  \\\n",
              "0           $60,109.57            $175,613.35   $1,074,949.50    \n",
              "1                   NaN           $105,687.23   $1,406,719.06    \n",
              "2                   NaN            $35,645.09     $650,855.38    \n",
              "3           $83,815.78            $399,122.61   $4,938,943.74    \n",
              "4           $83,690.60            $181,338.23   $1,197,676.61    \n",
              "\n",
              "      net_ope_exp  deb_owe_by_com deb_owe_to_com cov_sta_dat cov_end_dat  \\\n",
              "0    $907,156.21   $1,125,000.00             NaN    1/1/2015  10/19/2016   \n",
              "1  $1,298,831.83              NaN            NaN   11/2/2015  10/19/2016   \n",
              "2    $656,210.29      $60,000.00             NaN    4/1/2016  10/19/2016   \n",
              "3  $5,055,942.15              NaN            NaN    1/1/2015  10/19/2016   \n",
              "4    $949,488.98       $4,401.75             NaN    1/1/2015  10/19/2016   \n",
              "\n",
              "  winner     votes  \n",
              "0      Y  158708.0  \n",
              "1      Y  310770.0  \n",
              "2      Y  286018.0  \n",
              "3      Y  280476.0  \n",
              "4      Y  277390.0  \n",
              "\n",
              "[5 rows x 51 columns]"
            ],
            "text/html": [
              "\n",
              "  <div id=\"df-925b6f94-d90e-4955-b885-2f8428fe7d76\">\n",
              "    <div class=\"colab-df-container\">\n",
              "      <div>\n",
              "<style scoped>\n",
              "    .dataframe tbody tr th:only-of-type {\n",
              "        vertical-align: middle;\n",
              "    }\n",
              "\n",
              "    .dataframe tbody tr th {\n",
              "        vertical-align: top;\n",
              "    }\n",
              "\n",
              "    .dataframe thead th {\n",
              "        text-align: right;\n",
              "    }\n",
              "</style>\n",
              "<table border=\"1\" class=\"dataframe\">\n",
              "  <thead>\n",
              "    <tr style=\"text-align: right;\">\n",
              "      <th></th>\n",
              "      <th>can_id</th>\n",
              "      <th>can_nam</th>\n",
              "      <th>can_off</th>\n",
              "      <th>can_off_sta</th>\n",
              "      <th>can_off_dis</th>\n",
              "      <th>can_par_aff</th>\n",
              "      <th>can_inc_cha_ope_sea</th>\n",
              "      <th>can_str1</th>\n",
              "      <th>can_str2</th>\n",
              "      <th>can_cit</th>\n",
              "      <th>...</th>\n",
              "      <th>cas_on_han_beg_of_per</th>\n",
              "      <th>cas_on_han_clo_of_per</th>\n",
              "      <th>net_con</th>\n",
              "      <th>net_ope_exp</th>\n",
              "      <th>deb_owe_by_com</th>\n",
              "      <th>deb_owe_to_com</th>\n",
              "      <th>cov_sta_dat</th>\n",
              "      <th>cov_end_dat</th>\n",
              "      <th>winner</th>\n",
              "      <th>votes</th>\n",
              "    </tr>\n",
              "  </thead>\n",
              "  <tbody>\n",
              "    <tr>\n",
              "      <th>0</th>\n",
              "      <td>H2GA12121</td>\n",
              "      <td>ALLEN, RICHARD W</td>\n",
              "      <td>H</td>\n",
              "      <td>GA</td>\n",
              "      <td>12.0</td>\n",
              "      <td>REP</td>\n",
              "      <td>INCUMBENT</td>\n",
              "      <td>2237 PICKENS RD</td>\n",
              "      <td>NaN</td>\n",
              "      <td>AUGUSTA</td>\n",
              "      <td>...</td>\n",
              "      <td>$60,109.57</td>\n",
              "      <td>$175,613.35</td>\n",
              "      <td>$1,074,949.50</td>\n",
              "      <td>$907,156.21</td>\n",
              "      <td>$1,125,000.00</td>\n",
              "      <td>NaN</td>\n",
              "      <td>1/1/2015</td>\n",
              "      <td>10/19/2016</td>\n",
              "      <td>Y</td>\n",
              "      <td>158708.0</td>\n",
              "    </tr>\n",
              "    <tr>\n",
              "      <th>1</th>\n",
              "      <td>H6PA02171</td>\n",
              "      <td>EVANS, DWIGHT</td>\n",
              "      <td>H</td>\n",
              "      <td>PA</td>\n",
              "      <td>2.0</td>\n",
              "      <td>DEM</td>\n",
              "      <td>CHALLENGER</td>\n",
              "      <td>PO BOX 6578</td>\n",
              "      <td>NaN</td>\n",
              "      <td>PHILADELPHIA</td>\n",
              "      <td>...</td>\n",
              "      <td>NaN</td>\n",
              "      <td>$105,687.23</td>\n",
              "      <td>$1,406,719.06</td>\n",
              "      <td>$1,298,831.83</td>\n",
              "      <td>NaN</td>\n",
              "      <td>NaN</td>\n",
              "      <td>11/2/2015</td>\n",
              "      <td>10/19/2016</td>\n",
              "      <td>Y</td>\n",
              "      <td>310770.0</td>\n",
              "    </tr>\n",
              "    <tr>\n",
              "      <th>2</th>\n",
              "      <td>H6FL04105</td>\n",
              "      <td>RUTHERFORD, JOHN</td>\n",
              "      <td>H</td>\n",
              "      <td>FL</td>\n",
              "      <td>4.0</td>\n",
              "      <td>REP</td>\n",
              "      <td>OPEN</td>\n",
              "      <td>3817 VICKERS LAKE DRIVE</td>\n",
              "      <td>NaN</td>\n",
              "      <td>JACKSONVILLE</td>\n",
              "      <td>...</td>\n",
              "      <td>NaN</td>\n",
              "      <td>$35,645.09</td>\n",
              "      <td>$650,855.38</td>\n",
              "      <td>$656,210.29</td>\n",
              "      <td>$60,000.00</td>\n",
              "      <td>NaN</td>\n",
              "      <td>4/1/2016</td>\n",
              "      <td>10/19/2016</td>\n",
              "      <td>Y</td>\n",
              "      <td>286018.0</td>\n",
              "    </tr>\n",
              "    <tr>\n",
              "      <th>3</th>\n",
              "      <td>H4MT01041</td>\n",
              "      <td>ZINKE, RYAN K</td>\n",
              "      <td>H</td>\n",
              "      <td>MT</td>\n",
              "      <td>0.0</td>\n",
              "      <td>REP</td>\n",
              "      <td>INCUMBENT</td>\n",
              "      <td>409 2ND ST W</td>\n",
              "      <td>NaN</td>\n",
              "      <td>WHITEFISH</td>\n",
              "      <td>...</td>\n",
              "      <td>$83,815.78</td>\n",
              "      <td>$399,122.61</td>\n",
              "      <td>$4,938,943.74</td>\n",
              "      <td>$5,055,942.15</td>\n",
              "      <td>NaN</td>\n",
              "      <td>NaN</td>\n",
              "      <td>1/1/2015</td>\n",
              "      <td>10/19/2016</td>\n",
              "      <td>Y</td>\n",
              "      <td>280476.0</td>\n",
              "    </tr>\n",
              "    <tr>\n",
              "      <th>4</th>\n",
              "      <td>H8CA09060</td>\n",
              "      <td>LEE, BARBARA</td>\n",
              "      <td>H</td>\n",
              "      <td>CA</td>\n",
              "      <td>13.0</td>\n",
              "      <td>DEM</td>\n",
              "      <td>INCUMBENT</td>\n",
              "      <td>409 13TH ST, 17TH FL</td>\n",
              "      <td>NaN</td>\n",
              "      <td>OAKLAND</td>\n",
              "      <td>...</td>\n",
              "      <td>$83,690.60</td>\n",
              "      <td>$181,338.23</td>\n",
              "      <td>$1,197,676.61</td>\n",
              "      <td>$949,488.98</td>\n",
              "      <td>$4,401.75</td>\n",
              "      <td>NaN</td>\n",
              "      <td>1/1/2015</td>\n",
              "      <td>10/19/2016</td>\n",
              "      <td>Y</td>\n",
              "      <td>277390.0</td>\n",
              "    </tr>\n",
              "  </tbody>\n",
              "</table>\n",
              "<p>5 rows × 51 columns</p>\n",
              "</div>\n",
              "      <button class=\"colab-df-convert\" onclick=\"convertToInteractive('df-925b6f94-d90e-4955-b885-2f8428fe7d76')\"\n",
              "              title=\"Convert this dataframe to an interactive table.\"\n",
              "              style=\"display:none;\">\n",
              "        \n",
              "  <svg xmlns=\"http://www.w3.org/2000/svg\" height=\"24px\"viewBox=\"0 0 24 24\"\n",
              "       width=\"24px\">\n",
              "    <path d=\"M0 0h24v24H0V0z\" fill=\"none\"/>\n",
              "    <path d=\"M18.56 5.44l.94 2.06.94-2.06 2.06-.94-2.06-.94-.94-2.06-.94 2.06-2.06.94zm-11 1L8.5 8.5l.94-2.06 2.06-.94-2.06-.94L8.5 2.5l-.94 2.06-2.06.94zm10 10l.94 2.06.94-2.06 2.06-.94-2.06-.94-.94-2.06-.94 2.06-2.06.94z\"/><path d=\"M17.41 7.96l-1.37-1.37c-.4-.4-.92-.59-1.43-.59-.52 0-1.04.2-1.43.59L10.3 9.45l-7.72 7.72c-.78.78-.78 2.05 0 2.83L4 21.41c.39.39.9.59 1.41.59.51 0 1.02-.2 1.41-.59l7.78-7.78 2.81-2.81c.8-.78.8-2.07 0-2.86zM5.41 20L4 18.59l7.72-7.72 1.47 1.35L5.41 20z\"/>\n",
              "  </svg>\n",
              "      </button>\n",
              "      \n",
              "  <style>\n",
              "    .colab-df-container {\n",
              "      display:flex;\n",
              "      flex-wrap:wrap;\n",
              "      gap: 12px;\n",
              "    }\n",
              "\n",
              "    .colab-df-convert {\n",
              "      background-color: #E8F0FE;\n",
              "      border: none;\n",
              "      border-radius: 50%;\n",
              "      cursor: pointer;\n",
              "      display: none;\n",
              "      fill: #1967D2;\n",
              "      height: 32px;\n",
              "      padding: 0 0 0 0;\n",
              "      width: 32px;\n",
              "    }\n",
              "\n",
              "    .colab-df-convert:hover {\n",
              "      background-color: #E2EBFA;\n",
              "      box-shadow: 0px 1px 2px rgba(60, 64, 67, 0.3), 0px 1px 3px 1px rgba(60, 64, 67, 0.15);\n",
              "      fill: #174EA6;\n",
              "    }\n",
              "\n",
              "    [theme=dark] .colab-df-convert {\n",
              "      background-color: #3B4455;\n",
              "      fill: #D2E3FC;\n",
              "    }\n",
              "\n",
              "    [theme=dark] .colab-df-convert:hover {\n",
              "      background-color: #434B5C;\n",
              "      box-shadow: 0px 1px 3px 1px rgba(0, 0, 0, 0.15);\n",
              "      filter: drop-shadow(0px 1px 2px rgba(0, 0, 0, 0.3));\n",
              "      fill: #FFFFFF;\n",
              "    }\n",
              "  </style>\n",
              "\n",
              "      <script>\n",
              "        const buttonEl =\n",
              "          document.querySelector('#df-925b6f94-d90e-4955-b885-2f8428fe7d76 button.colab-df-convert');\n",
              "        buttonEl.style.display =\n",
              "          google.colab.kernel.accessAllowed ? 'block' : 'none';\n",
              "\n",
              "        async function convertToInteractive(key) {\n",
              "          const element = document.querySelector('#df-925b6f94-d90e-4955-b885-2f8428fe7d76');\n",
              "          const dataTable =\n",
              "            await google.colab.kernel.invokeFunction('convertToInteractive',\n",
              "                                                     [key], {});\n",
              "          if (!dataTable) return;\n",
              "\n",
              "          const docLinkHtml = 'Like what you see? Visit the ' +\n",
              "            '<a target=\"_blank\" href=https://colab.research.google.com/notebooks/data_table.ipynb>data table notebook</a>'\n",
              "            + ' to learn more about interactive tables.';\n",
              "          element.innerHTML = '';\n",
              "          dataTable['output_type'] = 'display_data';\n",
              "          await google.colab.output.renderOutput(dataTable, element);\n",
              "          const docLink = document.createElement('div');\n",
              "          docLink.innerHTML = docLinkHtml;\n",
              "          element.appendChild(docLink);\n",
              "        }\n",
              "      </script>\n",
              "    </div>\n",
              "  </div>\n",
              "  "
            ]
          },
          "metadata": {},
          "execution_count": 3
        }
      ]
    },
    {
      "cell_type": "code",
      "source": [
        "df.winner"
      ],
      "metadata": {
        "colab": {
          "base_uri": "https://localhost:8080/"
        },
        "id": "N_rUGZA90MBk",
        "outputId": "0117d977-d51a-4b5a-f98f-8fb7f060e835"
      },
      "execution_count": null,
      "outputs": [
        {
          "output_type": "execute_result",
          "data": {
            "text/plain": [
              "0         Y\n",
              "1         Y\n",
              "2         Y\n",
              "3         Y\n",
              "4         Y\n",
              "       ... \n",
              "1809    NaN\n",
              "1810    NaN\n",
              "1811    NaN\n",
              "1812    NaN\n",
              "1813    NaN\n",
              "Name: winner, Length: 1814, dtype: object"
            ]
          },
          "metadata": {},
          "execution_count": 4
        }
      ]
    },
    {
      "cell_type": "code",
      "source": [
        "df[\"winner\"] = df.winner.fillna(\"N\")"
      ],
      "metadata": {
        "id": "fxctscIX07sd"
      },
      "execution_count": null,
      "outputs": []
    },
    {
      "cell_type": "code",
      "source": [
        "df.columns"
      ],
      "metadata": {
        "colab": {
          "base_uri": "https://localhost:8080/"
        },
        "id": "DdyJ_MH3y8KU",
        "outputId": "eca8e21a-e2e2-4fd6-a9de-b44ec9a51d1e"
      },
      "execution_count": null,
      "outputs": [
        {
          "output_type": "execute_result",
          "data": {
            "text/plain": [
              "Index(['can_id', 'can_nam', 'can_off', 'can_off_sta', 'can_off_dis',\n",
              "       'can_par_aff', 'can_inc_cha_ope_sea', 'can_str1', 'can_str2', 'can_cit',\n",
              "       'can_sta', 'can_zip', 'ind_ite_con', 'ind_uni_con', 'ind_con',\n",
              "       'par_com_con', 'oth_com_con', 'can_con', 'tot_con',\n",
              "       'tra_fro_oth_aut_com', 'can_loa', 'oth_loa', 'tot_loa',\n",
              "       'off_to_ope_exp', 'off_to_fun', 'off_to_leg_acc', 'oth_rec', 'tot_rec',\n",
              "       'ope_exp', 'exe_leg_acc_dis', 'fun_dis', 'tra_to_oth_aut_com',\n",
              "       'can_loa_rep', 'oth_loa_rep', 'tot_loa_rep', 'ind_ref', 'par_com_ref',\n",
              "       'oth_com_ref', 'tot_con_ref', 'oth_dis', 'tot_dis',\n",
              "       'cas_on_han_beg_of_per', 'cas_on_han_clo_of_per', 'net_con',\n",
              "       'net_ope_exp', 'deb_owe_by_com', 'deb_owe_to_com', 'cov_sta_dat',\n",
              "       'cov_end_dat', 'winner', 'votes'],\n",
              "      dtype='object')"
            ]
          },
          "metadata": {},
          "execution_count": 6
        }
      ]
    },
    {
      "cell_type": "code",
      "source": [
        "df.par_com_con.value_counts()"
      ],
      "metadata": {
        "colab": {
          "base_uri": "https://localhost:8080/"
        },
        "id": "WxuKfYoug4IP",
        "outputId": "848f2b1c-6c50-4ea9-9d66-df4325762552"
      },
      "execution_count": null,
      "outputs": [
        {
          "output_type": "execute_result",
          "data": {
            "text/plain": [
              "$5,000.00      29\n",
              "$1,000.00      19\n",
              "$500.00        18\n",
              "$250.00        18\n",
              "$2,500.00      11\n",
              "               ..\n",
              "$59,300.00      1\n",
              "$1.00           1\n",
              "$900.00         1\n",
              "$45.00          1\n",
              "$8,215.00       1\n",
              "Name: par_com_con, Length: 212, dtype: int64"
            ]
          },
          "metadata": {},
          "execution_count": 7
        }
      ]
    },
    {
      "cell_type": "code",
      "source": [
        "df.deb_owe_to_com.value_counts()"
      ],
      "metadata": {
        "colab": {
          "base_uri": "https://localhost:8080/"
        },
        "id": "ADq0InkSgsTW",
        "outputId": "0061b5f8-01aa-4a89-af52-65c6b0441a11"
      },
      "execution_count": null,
      "outputs": [
        {
          "output_type": "execute_result",
          "data": {
            "text/plain": [
              "$5,000.00       2\n",
              "$1,750.00       1\n",
              "$250,000.00     1\n",
              "$26,800.00      1\n",
              "$143,337.35     1\n",
              "$3,000.00       1\n",
              "$12,783.00      1\n",
              "$817.67         1\n",
              "$17,258.00      1\n",
              "$500.00         1\n",
              "$2,514.41       1\n",
              "$11,461.83      1\n",
              "$0.78           1\n",
              "$14,857.00      1\n",
              "$5,002.36       1\n",
              "$629.36         1\n",
              "$25,000.00      1\n",
              "$19,000.00      1\n",
              "$22,000.00      1\n",
              "$1,889.62       1\n",
              "$540.12         1\n",
              "$11,250.00      1\n",
              "Name: deb_owe_to_com, dtype: int64"
            ]
          },
          "metadata": {},
          "execution_count": 8
        }
      ]
    },
    {
      "cell_type": "code",
      "source": [
        "df.votes.value_counts()"
      ],
      "metadata": {
        "colab": {
          "base_uri": "https://localhost:8080/"
        },
        "id": "4feBAupkfKQi",
        "outputId": "3e8aaa5b-26aa-4f2a-bebb-6d53a1b50706"
      },
      "execution_count": null,
      "outputs": [
        {
          "output_type": "execute_result",
          "data": {
            "text/plain": [
              "216772.0    2\n",
              "158708.0    1\n",
              "169076.0    1\n",
              "169233.0    1\n",
              "169905.0    1\n",
              "           ..\n",
              "203671.0    1\n",
              "203834.0    1\n",
              "203920.0    1\n",
              "203942.0    1\n",
              "68481.0     1\n",
              "Name: votes, Length: 378, dtype: int64"
            ]
          },
          "metadata": {},
          "execution_count": 9
        }
      ]
    },
    {
      "cell_type": "code",
      "source": [
        "import matplotlib.pyplot as plt\n"
      ],
      "metadata": {
        "id": "5H1o2b2xxC1h"
      },
      "execution_count": null,
      "outputs": []
    },
    {
      "cell_type": "code",
      "source": [
        "df.can_off.value_counts()\n"
      ],
      "metadata": {
        "colab": {
          "base_uri": "https://localhost:8080/"
        },
        "id": "3dGKPujMxlrC",
        "outputId": "6076ba9c-b676-4ac2-f7e3-fe06b26dbab9"
      },
      "execution_count": null,
      "outputs": [
        {
          "output_type": "execute_result",
          "data": {
            "text/plain": [
              "H    1429\n",
              "S     227\n",
              "P     158\n",
              "Name: can_off, dtype: int64"
            ]
          },
          "metadata": {},
          "execution_count": 11
        }
      ]
    },
    {
      "cell_type": "code",
      "source": [
        "df[[\"can_off\", \"winner\"]].value_counts()"
      ],
      "metadata": {
        "colab": {
          "base_uri": "https://localhost:8080/"
        },
        "id": "Yd7HV6vRzoLN",
        "outputId": "d7783b5f-5381-4cf0-fb7f-cb35cdba417a"
      },
      "execution_count": null,
      "outputs": [
        {
          "output_type": "execute_result",
          "data": {
            "text/plain": [
              "can_off  winner\n",
              "H        N         994\n",
              "         Y         435\n",
              "S        N         192\n",
              "P        N         157\n",
              "S        Y          35\n",
              "P        Y           1\n",
              "dtype: int64"
            ]
          },
          "metadata": {},
          "execution_count": 12
        }
      ]
    },
    {
      "cell_type": "code",
      "source": [
        "df.winner.value_counts()"
      ],
      "metadata": {
        "colab": {
          "base_uri": "https://localhost:8080/"
        },
        "id": "z0JG6l4Lz_s7",
        "outputId": "a435bbd3-86a9-4e4e-9718-a70fb1cd964e"
      },
      "execution_count": null,
      "outputs": [
        {
          "output_type": "execute_result",
          "data": {
            "text/plain": [
              "N    1343\n",
              "Y     471\n",
              "Name: winner, dtype: int64"
            ]
          },
          "metadata": {},
          "execution_count": 13
        }
      ]
    },
    {
      "cell_type": "code",
      "source": [
        "plt.bar([\"House\", \"Senate\", \"President\"], [1429, 227, 158])"
      ],
      "metadata": {
        "colab": {
          "base_uri": "https://localhost:8080/",
          "height": 283
        },
        "id": "eIKICH4myIuQ",
        "outputId": "eb0f724a-e0b3-4ac0-9097-ee33ea78bc2d"
      },
      "execution_count": null,
      "outputs": [
        {
          "output_type": "execute_result",
          "data": {
            "text/plain": [
              "<BarContainer object of 3 artists>"
            ]
          },
          "metadata": {},
          "execution_count": 14
        },
        {
          "output_type": "display_data",
          "data": {
            "text/plain": [
              "<Figure size 432x288 with 1 Axes>"
            ],
            "image/png": "[encoded data removed]"
          },
          "metadata": {
            "needs_background": "light"
          }
        }
      ]
    },
    {
      "cell_type": "markdown",
      "source": [
        "# House"
      ],
      "metadata": {
        "id": "7r2TisdxzY8v"
      }
    },
    {
      "cell_type": "code",
      "source": [
        "House = df.loc[df.can_off==\"H\"]"
      ],
      "metadata": {
        "id": "ESb_Lh_uzc9P"
      },
      "execution_count": null,
      "outputs": []
    },
    {
      "cell_type": "code",
      "source": [
        "House.head()"
      ],
      "metadata": {
        "colab": {
          "base_uri": "https://localhost:8080/",
          "height": 456
        },
        "id": "Gg7bESJJz-Ly",
        "outputId": "c50b302a-f54f-4a8c-eed6-66682f915120"
      },
      "execution_count": null,
      "outputs": [
        {
          "output_type": "execute_result",
          "data": {
            "text/plain": [
              "      can_id           can_nam can_off can_off_sta  can_off_dis can_par_aff  \\\n",
              "0  H2GA12121  ALLEN, RICHARD W       H          GA         12.0         REP   \n",
              "1  H6PA02171     EVANS, DWIGHT       H          PA          2.0         DEM   \n",
              "2  H6FL04105  RUTHERFORD, JOHN       H          FL          4.0         REP   \n",
              "3  H4MT01041     ZINKE, RYAN K       H          MT          0.0         REP   \n",
              "4  H8CA09060      LEE, BARBARA       H          CA         13.0         DEM   \n",
              "\n",
              "  can_inc_cha_ope_sea                 can_str1 can_str2       can_cit  ...  \\\n",
              "0           INCUMBENT          2237 PICKENS RD      NaN       AUGUSTA  ...   \n",
              "1          CHALLENGER              PO BOX 6578      NaN  PHILADELPHIA  ...   \n",
              "2                OPEN  3817 VICKERS LAKE DRIVE      NaN  JACKSONVILLE  ...   \n",
              "3           INCUMBENT             409 2ND ST W      NaN     WHITEFISH  ...   \n",
              "4           INCUMBENT     409 13TH ST, 17TH FL      NaN       OAKLAND  ...   \n",
              "\n",
              "  cas_on_han_beg_of_per  cas_on_han_clo_of_per         net_con  \\\n",
              "0           $60,109.57            $175,613.35   $1,074,949.50    \n",
              "1                   NaN           $105,687.23   $1,406,719.06    \n",
              "2                   NaN            $35,645.09     $650,855.38    \n",
              "3           $83,815.78            $399,122.61   $4,938,943.74    \n",
              "4           $83,690.60            $181,338.23   $1,197,676.61    \n",
              "\n",
              "      net_ope_exp  deb_owe_by_com deb_owe_to_com cov_sta_dat cov_end_dat  \\\n",
              "0    $907,156.21   $1,125,000.00             NaN    1/1/2015  10/19/2016   \n",
              "1  $1,298,831.83              NaN            NaN   11/2/2015  10/19/2016   \n",
              "2    $656,210.29      $60,000.00             NaN    4/1/2016  10/19/2016   \n",
              "3  $5,055,942.15              NaN            NaN    1/1/2015  10/19/2016   \n",
              "4    $949,488.98       $4,401.75             NaN    1/1/2015  10/19/2016   \n",
              "\n",
              "  winner     votes  \n",
              "0      Y  158708.0  \n",
              "1      Y  310770.0  \n",
              "2      Y  286018.0  \n",
              "3      Y  280476.0  \n",
              "4      Y  277390.0  \n",
              "\n",
              "[5 rows x 51 columns]"
            ],
            "text/html": [
              "\n",
              "  <div id=\"df-726b32dd-3bda-41af-a41c-9b740c702c04\">\n",
              "    <div class=\"colab-df-container\">\n",
              "      <div>\n",
              "<style scoped>\n",
              "    .dataframe tbody tr th:only-of-type {\n",
              "        vertical-align: middle;\n",
              "    }\n",
              "\n",
              "    .dataframe tbody tr th {\n",
              "        vertical-align: top;\n",
              "    }\n",
              "\n",
              "    .dataframe thead th {\n",
              "        text-align: right;\n",
              "    }\n",
              "</style>\n",
              "<table border=\"1\" class=\"dataframe\">\n",
              "  <thead>\n",
              "    <tr style=\"text-align: right;\">\n",
              "      <th></th>\n",
              "      <th>can_id</th>\n",
              "      <th>can_nam</th>\n",
              "      <th>can_off</th>\n",
              "      <th>can_off_sta</th>\n",
              "      <th>can_off_dis</th>\n",
              "      <th>can_par_aff</th>\n",
              "      <th>can_inc_cha_ope_sea</th>\n",
              "      <th>can_str1</th>\n",
              "      <th>can_str2</th>\n",
              "      <th>can_cit</th>\n",
              "      <th>...</th>\n",
              "      <th>cas_on_han_beg_of_per</th>\n",
              "      <th>cas_on_han_clo_of_per</th>\n",
              "      <th>net_con</th>\n",
              "      <th>net_ope_exp</th>\n",
              "      <th>deb_owe_by_com</th>\n",
              "      <th>deb_owe_to_com</th>\n",
              "      <th>cov_sta_dat</th>\n",
              "      <th>cov_end_dat</th>\n",
              "      <th>winner</th>\n",
              "      <th>votes</th>\n",
              "    </tr>\n",
              "  </thead>\n",
              "  <tbody>\n",
              "    <tr>\n",
              "      <th>0</th>\n",
              "      <td>H2GA12121</td>\n",
              "      <td>ALLEN, RICHARD W</td>\n",
              "      <td>H</td>\n",
              "      <td>GA</td>\n",
              "      <td>12.0</td>\n",
              "      <td>REP</td>\n",
              "      <td>INCUMBENT</td>\n",
              "      <td>2237 PICKENS RD</td>\n",
              "      <td>NaN</td>\n",
              "      <td>AUGUSTA</td>\n",
              "      <td>...</td>\n",
              "      <td>$60,109.57</td>\n",
              "      <td>$175,613.35</td>\n",
              "      <td>$1,074,949.50</td>\n",
              "      <td>$907,156.21</td>\n",
              "      <td>$1,125,000.00</td>\n",
              "      <td>NaN</td>\n",
              "      <td>1/1/2015</td>\n",
              "      <td>10/19/2016</td>\n",
              "      <td>Y</td>\n",
              "      <td>158708.0</td>\n",
              "    </tr>\n",
              "    <tr>\n",
              "      <th>1</th>\n",
              "      <td>H6PA02171</td>\n",
              "      <td>EVANS, DWIGHT</td>\n",
              "      <td>H</td>\n",
              "      <td>PA</td>\n",
              "      <td>2.0</td>\n",
              "      <td>DEM</td>\n",
              "      <td>CHALLENGER</td>\n",
              "      <td>PO BOX 6578</td>\n",
              "      <td>NaN</td>\n",
              "      <td>PHILADELPHIA</td>\n",
              "      <td>...</td>\n",
              "      <td>NaN</td>\n",
              "      <td>$105,687.23</td>\n",
              "      <td>$1,406,719.06</td>\n",
              "      <td>$1,298,831.83</td>\n",
              "      <td>NaN</td>\n",
              "      <td>NaN</td>\n",
              "      <td>11/2/2015</td>\n",
              "      <td>10/19/2016</td>\n",
              "      <td>Y</td>\n",
              "      <td>310770.0</td>\n",
              "    </tr>\n",
              "    <tr>\n",
              "      <th>2</th>\n",
              "      <td>H6FL04105</td>\n",
              "      <td>RUTHERFORD, JOHN</td>\n",
              "      <td>H</td>\n",
              "      <td>FL</td>\n",
              "      <td>4.0</td>\n",
              "      <td>REP</td>\n",
              "      <td>OPEN</td>\n",
              "      <td>3817 VICKERS LAKE DRIVE</td>\n",
              "      <td>NaN</td>\n",
              "      <td>JACKSONVILLE</td>\n",
              "      <td>...</td>\n",
              "      <td>NaN</td>\n",
              "      <td>$35,645.09</td>\n",
              "      <td>$650,855.38</td>\n",
              "      <td>$656,210.29</td>\n",
              "      <td>$60,000.00</td>\n",
              "      <td>NaN</td>\n",
              "      <td>4/1/2016</td>\n",
              "      <td>10/19/2016</td>\n",
              "      <td>Y</td>\n",
              "      <td>286018.0</td>\n",
              "    </tr>\n",
              "    <tr>\n",
              "      <th>3</th>\n",
              "      <td>H4MT01041</td>\n",
              "      <td>ZINKE, RYAN K</td>\n",
              "      <td>H</td>\n",
              "      <td>MT</td>\n",
              "      <td>0.0</td>\n",
              "      <td>REP</td>\n",
              "      <td>INCUMBENT</td>\n",
              "      <td>409 2ND ST W</td>\n",
              "      <td>NaN</td>\n",
              "      <td>WHITEFISH</td>\n",
              "      <td>...</td>\n",
              "      <td>$83,815.78</td>\n",
              "      <td>$399,122.61</td>\n",
              "      <td>$4,938,943.74</td>\n",
              "      <td>$5,055,942.15</td>\n",
              "      <td>NaN</td>\n",
              "      <td>NaN</td>\n",
              "      <td>1/1/2015</td>\n",
              "      <td>10/19/2016</td>\n",
              "      <td>Y</td>\n",
              "      <td>280476.0</td>\n",
              "    </tr>\n",
              "    <tr>\n",
              "      <th>4</th>\n",
              "      <td>H8CA09060</td>\n",
              "      <td>LEE, BARBARA</td>\n",
              "      <td>H</td>\n",
              "      <td>CA</td>\n",
              "      <td>13.0</td>\n",
              "      <td>DEM</td>\n",
              "      <td>INCUMBENT</td>\n",
              "      <td>409 13TH ST, 17TH FL</td>\n",
              "      <td>NaN</td>\n",
              "      <td>OAKLAND</td>\n",
              "      <td>...</td>\n",
              "      <td>$83,690.60</td>\n",
              "      <td>$181,338.23</td>\n",
              "      <td>$1,197,676.61</td>\n",
              "      <td>$949,488.98</td>\n",
              "      <td>$4,401.75</td>\n",
              "      <td>NaN</td>\n",
              "      <td>1/1/2015</td>\n",
              "      <td>10/19/2016</td>\n",
              "      <td>Y</td>\n",
              "      <td>277390.0</td>\n",
              "    </tr>\n",
              "  </tbody>\n",
              "</table>\n",
              "<p>5 rows × 51 columns</p>\n",
              "</div>\n",
              "      <button class=\"colab-df-convert\" onclick=\"convertToInteractive('df-726b32dd-3bda-41af-a41c-9b740c702c04')\"\n",
              "              title=\"Convert this dataframe to an interactive table.\"\n",
              "              style=\"display:none;\">\n",
              "        \n",
              "  <svg xmlns=\"http://www.w3.org/2000/svg\" height=\"24px\"viewBox=\"0 0 24 24\"\n",
              "       width=\"24px\">\n",
              "    <path d=\"M0 0h24v24H0V0z\" fill=\"none\"/>\n",
              "    <path d=\"M18.56 5.44l.94 2.06.94-2.06 2.06-.94-2.06-.94-.94-2.06-.94 2.06-2.06.94zm-11 1L8.5 8.5l.94-2.06 2.06-.94-2.06-.94L8.5 2.5l-.94 2.06-2.06.94zm10 10l.94 2.06.94-2.06 2.06-.94-2.06-.94-.94-2.06-.94 2.06-2.06.94z\"/><path d=\"M17.41 7.96l-1.37-1.37c-.4-.4-.92-.59-1.43-.59-.52 0-1.04.2-1.43.59L10.3 9.45l-7.72 7.72c-.78.78-.78 2.05 0 2.83L4 21.41c.39.39.9.59 1.41.59.51 0 1.02-.2 1.41-.59l7.78-7.78 2.81-2.81c.8-.78.8-2.07 0-2.86zM5.41 20L4 18.59l7.72-7.72 1.47 1.35L5.41 20z\"/>\n",
              "  </svg>\n",
              "      </button>\n",
              "      \n",
              "  <style>\n",
              "    .colab-df-container {\n",
              "      display:flex;\n",
              "      flex-wrap:wrap;\n",
              "      gap: 12px;\n",
              "    }\n",
              "\n",
              "    .colab-df-convert {\n",
              "      background-color: #E8F0FE;\n",
              "      border: none;\n",
              "      border-radius: 50%;\n",
              "      cursor: pointer;\n",
              "      display: none;\n",
              "      fill: #1967D2;\n",
              "      height: 32px;\n",
              "      padding: 0 0 0 0;\n",
              "      width: 32px;\n",
              "    }\n",
              "\n",
              "    .colab-df-convert:hover {\n",
              "      background-color: #E2EBFA;\n",
              "      box-shadow: 0px 1px 2px rgba(60, 64, 67, 0.3), 0px 1px 3px 1px rgba(60, 64, 67, 0.15);\n",
              "      fill: #174EA6;\n",
              "    }\n",
              "\n",
              "    [theme=dark] .colab-df-convert {\n",
              "      background-color: #3B4455;\n",
              "      fill: #D2E3FC;\n",
              "    }\n",
              "\n",
              "    [theme=dark] .colab-df-convert:hover {\n",
              "      background-color: #434B5C;\n",
              "      box-shadow: 0px 1px 3px 1px rgba(0, 0, 0, 0.15);\n",
              "      filter: drop-shadow(0px 1px 2px rgba(0, 0, 0, 0.3));\n",
              "      fill: #FFFFFF;\n",
              "    }\n",
              "  </style>\n",
              "\n",
              "      <script>\n",
              "        const buttonEl =\n",
              "          document.querySelector('#df-726b32dd-3bda-41af-a41c-9b740c702c04 button.colab-df-convert');\n",
              "        buttonEl.style.display =\n",
              "          google.colab.kernel.accessAllowed ? 'block' : 'none';\n",
              "\n",
              "        async function convertToInteractive(key) {\n",
              "          const element = document.querySelector('#df-726b32dd-3bda-41af-a41c-9b740c702c04');\n",
              "          const dataTable =\n",
              "            await google.colab.kernel.invokeFunction('convertToInteractive',\n",
              "                                                     [key], {});\n",
              "          if (!dataTable) return;\n",
              "\n",
              "          const docLinkHtml = 'Like what you see? Visit the ' +\n",
              "            '<a target=\"_blank\" href=https://colab.research.google.com/notebooks/data_table.ipynb>data table notebook</a>'\n",
              "            + ' to learn more about interactive tables.';\n",
              "          element.innerHTML = '';\n",
              "          dataTable['output_type'] = 'display_data';\n",
              "          await google.colab.output.renderOutput(dataTable, element);\n",
              "          const docLink = document.createElement('div');\n",
              "          docLink.innerHTML = docLinkHtml;\n",
              "          element.appendChild(docLink);\n",
              "        }\n",
              "      </script>\n",
              "    </div>\n",
              "  </div>\n",
              "  "
            ]
          },
          "metadata": {},
          "execution_count": 16
        }
      ]
    },
    {
      "cell_type": "code",
      "source": [
        "House_state = House.can_off_sta.value_counts().to_frame()"
      ],
      "metadata": {
        "id": "Xpu-j4bC1ANV"
      },
      "execution_count": null,
      "outputs": []
    },
    {
      "cell_type": "code",
      "source": [
        "House_state.head()"
      ],
      "metadata": {
        "colab": {
          "base_uri": "https://localhost:8080/",
          "height": 206
        },
        "id": "gvVlt9jx1enj",
        "outputId": "2ca6a08a-685b-4650-fb4c-3652bfe7eb20"
      },
      "execution_count": null,
      "outputs": [
        {
          "output_type": "execute_result",
          "data": {
            "text/plain": [
              "    can_off_sta\n",
              "CA          160\n",
              "FL          136\n",
              "TX          110\n",
              "NY           86\n",
              "NC           61"
            ],
            "text/html": [
              "\n",
              "  <div id=\"df-ba925c30-0cc6-4821-866e-e587f9bd6742\">\n",
              "    <div class=\"colab-df-container\">\n",
              "      <div>\n",
              "<style scoped>\n",
              "    .dataframe tbody tr th:only-of-type {\n",
              "        vertical-align: middle;\n",
              "    }\n",
              "\n",
              "    .dataframe tbody tr th {\n",
              "        vertical-align: top;\n",
              "    }\n",
              "\n",
              "    .dataframe thead th {\n",
              "        text-align: right;\n",
              "    }\n",
              "</style>\n",
              "<table border=\"1\" class=\"dataframe\">\n",
              "  <thead>\n",
              "    <tr style=\"text-align: right;\">\n",
              "      <th></th>\n",
              "      <th>can_off_sta</th>\n",
              "    </tr>\n",
              "  </thead>\n",
              "  <tbody>\n",
              "    <tr>\n",
              "      <th>CA</th>\n",
              "      <td>160</td>\n",
              "    </tr>\n",
              "    <tr>\n",
              "      <th>FL</th>\n",
              "      <td>136</td>\n",
              "    </tr>\n",
              "    <tr>\n",
              "      <th>TX</th>\n",
              "      <td>110</td>\n",
              "    </tr>\n",
              "    <tr>\n",
              "      <th>NY</th>\n",
              "      <td>86</td>\n",
              "    </tr>\n",
              "    <tr>\n",
              "      <th>NC</th>\n",
              "      <td>61</td>\n",
              "    </tr>\n",
              "  </tbody>\n",
              "</table>\n",
              "</div>\n",
              "      <button class=\"colab-df-convert\" onclick=\"convertToInteractive('df-ba925c30-0cc6-4821-866e-e587f9bd6742')\"\n",
              "              title=\"Convert this dataframe to an interactive table.\"\n",
              "              style=\"display:none;\">\n",
              "        \n",
              "  <svg xmlns=\"http://www.w3.org/2000/svg\" height=\"24px\"viewBox=\"0 0 24 24\"\n",
              "       width=\"24px\">\n",
              "    <path d=\"M0 0h24v24H0V0z\" fill=\"none\"/>\n",
              "    <path d=\"M18.56 5.44l.94 2.06.94-2.06 2.06-.94-2.06-.94-.94-2.06-.94 2.06-2.06.94zm-11 1L8.5 8.5l.94-2.06 2.06-.94-2.06-.94L8.5 2.5l-.94 2.06-2.06.94zm10 10l.94 2.06.94-2.06 2.06-.94-2.06-.94-.94-2.06-.94 2.06-2.06.94z\"/><path d=\"M17.41 7.96l-1.37-1.37c-.4-.4-.92-.59-1.43-.59-.52 0-1.04.2-1.43.59L10.3 9.45l-7.72 7.72c-.78.78-.78 2.05 0 2.83L4 21.41c.39.39.9.59 1.41.59.51 0 1.02-.2 1.41-.59l7.78-7.78 2.81-2.81c.8-.78.8-2.07 0-2.86zM5.41 20L4 18.59l7.72-7.72 1.47 1.35L5.41 20z\"/>\n",
              "  </svg>\n",
              "      </button>\n",
              "      \n",
              "  <style>\n",
              "    .colab-df-container {\n",
              "      display:flex;\n",
              "      flex-wrap:wrap;\n",
              "      gap: 12px;\n",
              "    }\n",
              "\n",
              "    .colab-df-convert {\n",
              "      background-color: #E8F0FE;\n",
              "      border: none;\n",
              "      border-radius: 50%;\n",
              "      cursor: pointer;\n",
              "      display: none;\n",
              "      fill: #1967D2;\n",
              "      height: 32px;\n",
              "      padding: 0 0 0 0;\n",
              "      width: 32px;\n",
              "    }\n",
              "\n",
              "    .colab-df-convert:hover {\n",
              "      background-color: #E2EBFA;\n",
              "      box-shadow: 0px 1px 2px rgba(60, 64, 67, 0.3), 0px 1px 3px 1px rgba(60, 64, 67, 0.15);\n",
              "      fill: #174EA6;\n",
              "    }\n",
              "\n",
              "    [theme=dark] .colab-df-convert {\n",
              "      background-color: #3B4455;\n",
              "      fill: #D2E3FC;\n",
              "    }\n",
              "\n",
              "    [theme=dark] .colab-df-convert:hover {\n",
              "      background-color: #434B5C;\n",
              "      box-shadow: 0px 1px 3px 1px rgba(0, 0, 0, 0.15);\n",
              "      filter: drop-shadow(0px 1px 2px rgba(0, 0, 0, 0.3));\n",
              "      fill: #FFFFFF;\n",
              "    }\n",
              "  </style>\n",
              "\n",
              "      <script>\n",
              "        const buttonEl =\n",
              "          document.querySelector('#df-ba925c30-0cc6-4821-866e-e587f9bd6742 button.colab-df-convert');\n",
              "        buttonEl.style.display =\n",
              "          google.colab.kernel.accessAllowed ? 'block' : 'none';\n",
              "\n",
              "        async function convertToInteractive(key) {\n",
              "          const element = document.querySelector('#df-ba925c30-0cc6-4821-866e-e587f9bd6742');\n",
              "          const dataTable =\n",
              "            await google.colab.kernel.invokeFunction('convertToInteractive',\n",
              "                                                     [key], {});\n",
              "          if (!dataTable) return;\n",
              "\n",
              "          const docLinkHtml = 'Like what you see? Visit the ' +\n",
              "            '<a target=\"_blank\" href=https://colab.research.google.com/notebooks/data_table.ipynb>data table notebook</a>'\n",
              "            + ' to learn more about interactive tables.';\n",
              "          element.innerHTML = '';\n",
              "          dataTable['output_type'] = 'display_data';\n",
              "          await google.colab.output.renderOutput(dataTable, element);\n",
              "          const docLink = document.createElement('div');\n",
              "          docLink.innerHTML = docLinkHtml;\n",
              "          element.appendChild(docLink);\n",
              "        }\n",
              "      </script>\n",
              "    </div>\n",
              "  </div>\n",
              "  "
            ]
          },
          "metadata": {},
          "execution_count": 18
        }
      ]
    },
    {
      "cell_type": "code",
      "source": [
        "plt.bar(House_state.index, House_state.can_off_sta)"
      ],
      "metadata": {
        "colab": {
          "base_uri": "https://localhost:8080/",
          "height": 283
        },
        "id": "oXxLefG-0UxV",
        "outputId": "003b815f-f78c-41db-b281-35d0af5f2449"
      },
      "execution_count": null,
      "outputs": [
        {
          "output_type": "execute_result",
          "data": {
            "text/plain": [
              "<BarContainer object of 56 artists>"
            ]
          },
          "metadata": {},
          "execution_count": 19
        },
        {
          "output_type": "display_data",
          "data": {
            "text/plain": [
              "<Figure size 432x288 with 1 Axes>"
            ],
            "image/png": "[encoded data removed]"
          },
          "metadata": {
            "needs_background": "light"
          }
        }
      ]
    },
    {
      "cell_type": "markdown",
      "source": [
        "States are not a good predictor, because there are not enough candidates running for House in each state"
      ],
      "metadata": {
        "id": "SRydstgZ13fl"
      }
    },
    {
      "cell_type": "code",
      "source": [
        "House_district = House.can_off_dis.value_counts().to_frame()"
      ],
      "metadata": {
        "id": "ILZmM6oT2yKm"
      },
      "execution_count": null,
      "outputs": []
    },
    {
      "cell_type": "code",
      "source": [
        "House_district.head()"
      ],
      "metadata": {
        "colab": {
          "base_uri": "https://localhost:8080/",
          "height": 206
        },
        "id": "FELNVNRR2-qu",
        "outputId": "cdd70fb8-b899-45d3-818d-3539d8f45c8b"
      },
      "execution_count": null,
      "outputs": [
        {
          "output_type": "execute_result",
          "data": {
            "text/plain": [
              "     can_off_dis\n",
              "1.0          151\n",
              "2.0          120\n",
              "3.0          119\n",
              "4.0          100\n",
              "8.0           96"
            ],
            "text/html": [
              "\n",
              "  <div id=\"df-ccf56a0c-ea17-4792-8b61-5eb598c82383\">\n",
              "    <div class=\"colab-df-container\">\n",
              "      <div>\n",
              "<style scoped>\n",
              "    .dataframe tbody tr th:only-of-type {\n",
              "        vertical-align: middle;\n",
              "    }\n",
              "\n",
              "    .dataframe tbody tr th {\n",
              "        vertical-align: top;\n",
              "    }\n",
              "\n",
              "    .dataframe thead th {\n",
              "        text-align: right;\n",
              "    }\n",
              "</style>\n",
              "<table border=\"1\" class=\"dataframe\">\n",
              "  <thead>\n",
              "    <tr style=\"text-align: right;\">\n",
              "      <th></th>\n",
              "      <th>can_off_dis</th>\n",
              "    </tr>\n",
              "  </thead>\n",
              "  <tbody>\n",
              "    <tr>\n",
              "      <th>1.0</th>\n",
              "      <td>151</td>\n",
              "    </tr>\n",
              "    <tr>\n",
              "      <th>2.0</th>\n",
              "      <td>120</td>\n",
              "    </tr>\n",
              "    <tr>\n",
              "      <th>3.0</th>\n",
              "      <td>119</td>\n",
              "    </tr>\n",
              "    <tr>\n",
              "      <th>4.0</th>\n",
              "      <td>100</td>\n",
              "    </tr>\n",
              "    <tr>\n",
              "      <th>8.0</th>\n",
              "      <td>96</td>\n",
              "    </tr>\n",
              "  </tbody>\n",
              "</table>\n",
              "</div>\n",
              "      <button class=\"colab-df-convert\" onclick=\"convertToInteractive('df-ccf56a0c-ea17-4792-8b61-5eb598c82383')\"\n",
              "              title=\"Convert this dataframe to an interactive table.\"\n",
              "              style=\"display:none;\">\n",
              "        \n",
              "  <svg xmlns=\"http://www.w3.org/2000/svg\" height=\"24px\"viewBox=\"0 0 24 24\"\n",
              "       width=\"24px\">\n",
              "    <path d=\"M0 0h24v24H0V0z\" fill=\"none\"/>\n",
              "    <path d=\"M18.56 5.44l.94 2.06.94-2.06 2.06-.94-2.06-.94-.94-2.06-.94 2.06-2.06.94zm-11 1L8.5 8.5l.94-2.06 2.06-.94-2.06-.94L8.5 2.5l-.94 2.06-2.06.94zm10 10l.94 2.06.94-2.06 2.06-.94-2.06-.94-.94-2.06-.94 2.06-2.06.94z\"/><path d=\"M17.41 7.96l-1.37-1.37c-.4-.4-.92-.59-1.43-.59-.52 0-1.04.2-1.43.59L10.3 9.45l-7.72 7.72c-.78.78-.78 2.05 0 2.83L4 21.41c.39.39.9.59 1.41.59.51 0 1.02-.2 1.41-.59l7.78-7.78 2.81-2.81c.8-.78.8-2.07 0-2.86zM5.41 20L4 18.59l7.72-7.72 1.47 1.35L5.41 20z\"/>\n",
              "  </svg>\n",
              "      </button>\n",
              "      \n",
              "  <style>\n",
              "    .colab-df-container {\n",
              "      display:flex;\n",
              "      flex-wrap:wrap;\n",
              "      gap: 12px;\n",
              "    }\n",
              "\n",
              "    .colab-df-convert {\n",
              "      background-color: #E8F0FE;\n",
              "      border: none;\n",
              "      border-radius: 50%;\n",
              "      cursor: pointer;\n",
              "      display: none;\n",
              "      fill: #1967D2;\n",
              "      height: 32px;\n",
              "      padding: 0 0 0 0;\n",
              "      width: 32px;\n",
              "    }\n",
              "\n",
              "    .colab-df-convert:hover {\n",
              "      background-color: #E2EBFA;\n",
              "      box-shadow: 0px 1px 2px rgba(60, 64, 67, 0.3), 0px 1px 3px 1px rgba(60, 64, 67, 0.15);\n",
              "      fill: #174EA6;\n",
              "    }\n",
              "\n",
              "    [theme=dark] .colab-df-convert {\n",
              "      background-color: #3B4455;\n",
              "      fill: #D2E3FC;\n",
              "    }\n",
              "\n",
              "    [theme=dark] .colab-df-convert:hover {\n",
              "      background-color: #434B5C;\n",
              "      box-shadow: 0px 1px 3px 1px rgba(0, 0, 0, 0.15);\n",
              "      filter: drop-shadow(0px 1px 2px rgba(0, 0, 0, 0.3));\n",
              "      fill: #FFFFFF;\n",
              "    }\n",
              "  </style>\n",
              "\n",
              "      <script>\n",
              "        const buttonEl =\n",
              "          document.querySelector('#df-ccf56a0c-ea17-4792-8b61-5eb598c82383 button.colab-df-convert');\n",
              "        buttonEl.style.display =\n",
              "          google.colab.kernel.accessAllowed ? 'block' : 'none';\n",
              "\n",
              "        async function convertToInteractive(key) {\n",
              "          const element = document.querySelector('#df-ccf56a0c-ea17-4792-8b61-5eb598c82383');\n",
              "          const dataTable =\n",
              "            await google.colab.kernel.invokeFunction('convertToInteractive',\n",
              "                                                     [key], {});\n",
              "          if (!dataTable) return;\n",
              "\n",
              "          const docLinkHtml = 'Like what you see? Visit the ' +\n",
              "            '<a target=\"_blank\" href=https://colab.research.google.com/notebooks/data_table.ipynb>data table notebook</a>'\n",
              "            + ' to learn more about interactive tables.';\n",
              "          element.innerHTML = '';\n",
              "          dataTable['output_type'] = 'display_data';\n",
              "          await google.colab.output.renderOutput(dataTable, element);\n",
              "          const docLink = document.createElement('div');\n",
              "          docLink.innerHTML = docLinkHtml;\n",
              "          element.appendChild(docLink);\n",
              "        }\n",
              "      </script>\n",
              "    </div>\n",
              "  </div>\n",
              "  "
            ]
          },
          "metadata": {},
          "execution_count": 21
        }
      ]
    },
    {
      "cell_type": "code",
      "source": [
        "plt.bar(House_district.index, House_district.can_off_dis)"
      ],
      "metadata": {
        "colab": {
          "base_uri": "https://localhost:8080/",
          "height": 283
        },
        "id": "lpTqIAFN1-L4",
        "outputId": "28ac70f5-1834-47d9-edad-748a01c06d44"
      },
      "execution_count": null,
      "outputs": [
        {
          "output_type": "execute_result",
          "data": {
            "text/plain": [
              "<BarContainer object of 54 artists>"
            ]
          },
          "metadata": {},
          "execution_count": 22
        },
        {
          "output_type": "display_data",
          "data": {
            "text/plain": [
              "<Figure size 432x288 with 1 Axes>"
            ],
            "image/png": "[encoded data removed]"
          },
          "metadata": {
            "needs_background": "light"
          }
        }
      ]
    },
    {
      "cell_type": "markdown",
      "source": [
        "Not an equal amount of people running for House from each district, so it would not be a good predictor."
      ],
      "metadata": {
        "id": "_YCkjUw-3Pxy"
      }
    },
    {
      "cell_type": "code",
      "source": [
        "House[[\"can_par_aff\", \"winner\"]].value_counts()"
      ],
      "metadata": {
        "colab": {
          "base_uri": "https://localhost:8080/"
        },
        "id": "q0KAwSCE3U71",
        "outputId": "6c1efebd-27c1-4f3b-d43e-7ee63678be06"
      },
      "execution_count": null,
      "outputs": [
        {
          "output_type": "execute_result",
          "data": {
            "text/plain": [
              "can_par_aff  winner\n",
              "REP          N         489\n",
              "DEM          N         418\n",
              "REP          Y         238\n",
              "DEM          Y         193\n",
              "IND          N          29\n",
              "LIB          N          15\n",
              "GRE          N           8\n",
              "NPA          N           7\n",
              "OTH          N           6\n",
              "NNE          N           4\n",
              "CON          N           3\n",
              "UNK          N           3\n",
              "             Y           2\n",
              "UN           N           2\n",
              "NON          N           2\n",
              "DFL          Y           2\n",
              "             N           2\n",
              "W            N           2\n",
              "PPT          N           1\n",
              "NPP          N           1\n",
              "IDP          N           1\n",
              "dtype: int64"
            ]
          },
          "metadata": {},
          "execution_count": 23
        }
      ]
    },
    {
      "cell_type": "code",
      "source": [
        "import numpy as np\n"
      ],
      "metadata": {
        "id": "hXD5B_-z40C9"
      },
      "execution_count": null,
      "outputs": []
    },
    {
      "cell_type": "code",
      "source": [
        "other_parties = House.can_par_aff.value_counts().to_frame().index.to_list()[2:]"
      ],
      "metadata": {
        "id": "SZl-1o9c5zUy"
      },
      "execution_count": null,
      "outputs": []
    },
    {
      "cell_type": "code",
      "source": [
        "other_parties"
      ],
      "metadata": {
        "colab": {
          "base_uri": "https://localhost:8080/"
        },
        "id": "kDSXZhkw7nvW",
        "outputId": "a923021a-748b-4767-c079-137b34d3ff47"
      },
      "execution_count": null,
      "outputs": [
        {
          "output_type": "execute_result",
          "data": {
            "text/plain": [
              "['IND',\n",
              " 'LIB',\n",
              " 'GRE',\n",
              " 'NPA',\n",
              " 'OTH',\n",
              " 'UNK',\n",
              " 'DFL',\n",
              " 'NNE',\n",
              " 'CON',\n",
              " 'NON',\n",
              " 'UN',\n",
              " 'W',\n",
              " 'NPP',\n",
              " 'PPT',\n",
              " 'IDP']"
            ]
          },
          "metadata": {},
          "execution_count": 26
        }
      ]
    },
    {
      "cell_type": "code",
      "source": [
        "House[\"can_par_aff\"].isin(other_parties)"
      ],
      "metadata": {
        "colab": {
          "base_uri": "https://localhost:8080/"
        },
        "id": "6USzBe3Q8PEO",
        "outputId": "6e7360be-e154-46f9-f57d-bfe19b1cb59d"
      },
      "execution_count": null,
      "outputs": [
        {
          "output_type": "execute_result",
          "data": {
            "text/plain": [
              "0       False\n",
              "1       False\n",
              "2       False\n",
              "3       False\n",
              "4       False\n",
              "        ...  \n",
              "1793     True\n",
              "1794    False\n",
              "1800    False\n",
              "1812    False\n",
              "1813    False\n",
              "Name: can_par_aff, Length: 1429, dtype: bool"
            ]
          },
          "metadata": {},
          "execution_count": 27
        }
      ]
    },
    {
      "cell_type": "code",
      "source": [
        "House.loc[House[\"can_par_aff\"].isin(other_parties),\"can_par_aff\"] = \"other\""
      ],
      "metadata": {
        "id": "AE8dun2j4dmE"
      },
      "execution_count": null,
      "outputs": []
    },
    {
      "cell_type": "code",
      "source": [
        "House[[\"can_par_aff\", \"winner\"]].value_counts()"
      ],
      "metadata": {
        "colab": {
          "base_uri": "https://localhost:8080/"
        },
        "id": "W6exQZnZ63dp",
        "outputId": "94cbebc4-2e85-4b5d-ba79-24cd5f22a020"
      },
      "execution_count": null,
      "outputs": [
        {
          "output_type": "execute_result",
          "data": {
            "text/plain": [
              "can_par_aff  winner\n",
              "REP          N         489\n",
              "DEM          N         418\n",
              "REP          Y         238\n",
              "DEM          Y         193\n",
              "other        N          86\n",
              "             Y           4\n",
              "dtype: int64"
            ]
          },
          "metadata": {},
          "execution_count": 29
        }
      ]
    },
    {
      "cell_type": "code",
      "source": [
        "from pandas.tseries.offsets import YearBegin\n",
        "X = ['REP', 'DEM','other']\n",
        "Y = [238,193,4]\n",
        "N = [489,418,86]\n",
        "\n",
        "X_axis = np.arange(len(X))\n",
        "\n",
        "plt.bar(X_axis - 0.2, Y, 0.4, label = 'Yes')\n",
        "plt.bar(X_axis + 0.2, N, 0.4, label = 'No')\n",
        "\n",
        "plt.xticks(X_axis, X)\n",
        "plt.xlabel(\"Political Party\")\n",
        "plt.ylabel(\"# of Candidates\")\n",
        "plt.title(\"Number of Candidates in each group\")\n",
        "plt.legend()\n",
        "plt.show()"
      ],
      "metadata": {
        "colab": {
          "base_uri": "https://localhost:8080/",
          "height": 295
        },
        "id": "eK7vf23j80GY",
        "outputId": "2d5a6c9b-cbb8-47fe-df3a-dae1d9b16aa7"
      },
      "execution_count": null,
      "outputs": [
        {
          "output_type": "display_data",
          "data": {
            "text/plain": [
              "<Figure size 432x288 with 1 Axes>"
            ],
            "image/png": "[encoded data removed]"
          },
          "metadata": {
            "needs_background": "light"
          }
        }
      ]
    },
    {
      "cell_type": "markdown",
      "source": [
        "Yes, it is a good predictor, because there are enough candidates running for each party."
      ],
      "metadata": {
        "id": "JnUj01s_-G4u"
      }
    },
    {
      "cell_type": "code",
      "source": [
        "can_inc_cha_ope_se = House.can_inc_cha_ope_sea.value_counts().to_frame().index.to_list()"
      ],
      "metadata": {
        "id": "1pGgn8_4-TJm"
      },
      "execution_count": null,
      "outputs": []
    },
    {
      "cell_type": "code",
      "source": [
        "can_inc_cha_ope_se"
      ],
      "metadata": {
        "colab": {
          "base_uri": "https://localhost:8080/"
        },
        "id": "T_JvMcy9_hB5",
        "outputId": "14f8b26f-7541-4499-ae0e-2e27534ccbb2"
      },
      "execution_count": null,
      "outputs": [
        {
          "output_type": "execute_result",
          "data": {
            "text/plain": [
              "['CHALLENGER', 'INCUMBENT', 'OPEN']"
            ]
          },
          "metadata": {},
          "execution_count": 32
        }
      ]
    },
    {
      "cell_type": "code",
      "source": [
        "House.can_inc_cha_ope_sea.value_counts()"
      ],
      "metadata": {
        "colab": {
          "base_uri": "https://localhost:8080/"
        },
        "id": "DGbWG2W7_kXG",
        "outputId": "2843aa1c-fea4-46f3-c396-0bf7239666cb"
      },
      "execution_count": null,
      "outputs": [
        {
          "output_type": "execute_result",
          "data": {
            "text/plain": [
              "CHALLENGER    713\n",
              "INCUMBENT     396\n",
              "OPEN          318\n",
              "Name: can_inc_cha_ope_sea, dtype: int64"
            ]
          },
          "metadata": {},
          "execution_count": 33
        }
      ]
    },
    {
      "cell_type": "code",
      "source": [
        "House[[\"can_inc_cha_ope_sea\", \"winner\"]].value_counts()"
      ],
      "metadata": {
        "colab": {
          "base_uri": "https://localhost:8080/"
        },
        "id": "MT6VCBGHTDG1",
        "outputId": "0eb74b12-121b-4e2a-cae5-44133707c7c8"
      },
      "execution_count": null,
      "outputs": [
        {
          "output_type": "execute_result",
          "data": {
            "text/plain": [
              "can_inc_cha_ope_sea  winner\n",
              "CHALLENGER           N         698\n",
              "INCUMBENT            Y         379\n",
              "OPEN                 N         277\n",
              "                     Y          41\n",
              "INCUMBENT            N          17\n",
              "CHALLENGER           Y          15\n",
              "dtype: int64"
            ]
          },
          "metadata": {},
          "execution_count": 34
        }
      ]
    },
    {
      "cell_type": "code",
      "source": [
        "from pandas.tseries.offsets import YearBegin\n",
        "X = ['Challenger', 'Incumbent','Open']\n",
        "Y = [15,379, 41]\n",
        "N = [698,17,277]\n",
        "\n",
        "X_axis = np.arange(len(X))\n",
        "\n",
        "plt.bar(X_axis - 0.2, Y, 0.4, label = 'Yes')\n",
        "plt.bar(X_axis + 0.2, N, 0.4, label = 'No')\n",
        "\n",
        "plt.xticks(X_axis, X)\n",
        "plt.xlabel(\"Candidate Incumbent Challenger Open Seat\")\n",
        "plt.ylabel(\"# of Candidates\")\n",
        "plt.title(\"Number of Candidates in each seat\")\n",
        "plt.legend()\n",
        "plt.show()"
      ],
      "metadata": {
        "colab": {
          "base_uri": "https://localhost:8080/",
          "height": 295
        },
        "id": "6rcPpXYzThPt",
        "outputId": "be165159-c718-45ad-90a9-500d37113a5c"
      },
      "execution_count": null,
      "outputs": [
        {
          "output_type": "display_data",
          "data": {
            "text/plain": [
              "<Figure size 432x288 with 1 Axes>"
            ],
            "image/png": "[encoded data removed]"
          },
          "metadata": {
            "needs_background": "light"
          }
        }
      ]
    },
    {
      "cell_type": "markdown",
      "source": [
        "In the Incumbent group, most of them win, compared to the Open and Challenger seat. Therefore, this is a good predictor."
      ],
      "metadata": {
        "id": "q1yVjtwwUUBE"
      }
    },
    {
      "cell_type": "code",
      "source": [
        "House[\"cas_on_han_beg_of_per\"] = House.cas_on_han_beg_of_per.replace(\"\\$\", \"\", regex = True).replace(\",\", \"\", regex = True).replace(\"[()]\", \"\", regex = True).astype(float)"
      ],
      "metadata": {
        "colab": {
          "base_uri": "https://localhost:8080/"
        },
        "id": "xyeFYn6GVlPK",
        "outputId": "78373726-c581-4e89-ec9a-31be083af844"
      },
      "execution_count": null,
      "outputs": [
        {
          "output_type": "stream",
          "name": "stderr",
          "text": [
            "<ipython-input-36-ff67074bb863>:1: SettingWithCopyWarning: \n",
            "A value is trying to be set on a copy of a slice from a DataFrame.\n",
            "Try using .loc[row_indexer,col_indexer] = value instead\n",
            "\n",
            "See the caveats in the documentation: https://pandas.pydata.org/pandas-docs/stable/user_guide/indexing.html#returning-a-view-versus-a-copy\n",
            "  House[\"cas_on_han_beg_of_per\"] = House.cas_on_han_beg_of_per.replace(\"\\$\", \"\", regex = True).replace(\",\", \"\", regex = True).replace(\"[()]\", \"\", regex = True).astype(float)\n"
          ]
        }
      ]
    },
    {
      "cell_type": "code",
      "source": [
        "House.cas_on_han_beg_of_per.describe()"
      ],
      "metadata": {
        "colab": {
          "base_uri": "https://localhost:8080/"
        },
        "id": "MpH0Qda_ZTvL",
        "outputId": "431b0aa8-e879-4409-d2cd-20c726e27cce"
      },
      "execution_count": null,
      "outputs": [
        {
          "output_type": "execute_result",
          "data": {
            "text/plain": [
              "count    5.930000e+02\n",
              "mean     3.049194e+05\n",
              "std      4.917627e+05\n",
              "min      5.000000e-01\n",
              "25%      3.712090e+03\n",
              "50%      9.073647e+04\n",
              "75%      3.944832e+05\n",
              "max      3.750024e+06\n",
              "Name: cas_on_han_beg_of_per, dtype: float64"
            ]
          },
          "metadata": {},
          "execution_count": 37
        }
      ]
    },
    {
      "cell_type": "code",
      "source": [
        "import seaborn as sns"
      ],
      "metadata": {
        "id": "3BXTBb5raD5F"
      },
      "execution_count": null,
      "outputs": []
    },
    {
      "cell_type": "code",
      "source": [
        "sns.boxplot(House.cas_on_han_beg_of_per, House.winner)"
      ],
      "metadata": {
        "colab": {
          "base_uri": "https://localhost:8080/",
          "height": 354
        },
        "id": "aipVtxkQUs5L",
        "outputId": "8ca339b0-d5ca-408f-b763-ef6f182087dd"
      },
      "execution_count": null,
      "outputs": [
        {
          "output_type": "stream",
          "name": "stderr",
          "text": [
            "/usr/local/lib/python3.9/dist-packages/seaborn/_decorators.py:36: FutureWarning: Pass the following variables as keyword args: x, y. From version 0.12, the only valid positional argument will be `data`, and passing other arguments without an explicit keyword will result in an error or misinterpretation.\n",
            "  warnings.warn(\n"
          ]
        },
        {
          "output_type": "execute_result",
          "data": {
            "text/plain": [
              "<AxesSubplot:xlabel='cas_on_han_beg_of_per', ylabel='winner'>"
            ]
          },
          "metadata": {},
          "execution_count": 39
        },
        {
          "output_type": "display_data",
          "data": {
            "text/plain": [
              "<Figure size 432x288 with 1 Axes>"
            ],
            "image/png": "[encoded data removed]"
          },
          "metadata": {
            "needs_background": "light"
          }
        }
      ]
    },
    {
      "cell_type": "markdown",
      "source": [
        "There is a significant difference in the distribution of the winner group, compared to the ones that did not win. Therefore, cash on hand is a good predictor."
      ],
      "metadata": {
        "id": "fSNRtjtzaLKO"
      }
    },
    {
      "cell_type": "markdown",
      "source": [
        "\"can_inc_cha_ope_sea\", cas_on_han_beg_of_per, can_par_aff, net_con, net_ope_exp, deb_owe_by_com"
      ],
      "metadata": {
        "id": "pe0ZaWKL7Tny"
      }
    },
    {
      "cell_type": "code",
      "source": [
        "House[\"net_con\"] = House.net_con.replace(\"\\$\", \"\", regex = True).replace(\",\", \"\", regex = True).replace(\"[()]\", \"\", regex = True).astype(float)"
      ],
      "metadata": {
        "colab": {
          "base_uri": "https://localhost:8080/"
        },
        "id": "DA5SbvfKaasr",
        "outputId": "df6618aa-7573-4002-b513-3d4095ef1676"
      },
      "execution_count": null,
      "outputs": [
        {
          "output_type": "stream",
          "name": "stderr",
          "text": [
            "<ipython-input-40-e6de5610aa5d>:1: SettingWithCopyWarning: \n",
            "A value is trying to be set on a copy of a slice from a DataFrame.\n",
            "Try using .loc[row_indexer,col_indexer] = value instead\n",
            "\n",
            "See the caveats in the documentation: https://pandas.pydata.org/pandas-docs/stable/user_guide/indexing.html#returning-a-view-versus-a-copy\n",
            "  House[\"net_con\"] = House.net_con.replace(\"\\$\", \"\", regex = True).replace(\",\", \"\", regex = True).replace(\"[()]\", \"\", regex = True).astype(float)\n"
          ]
        }
      ]
    },
    {
      "cell_type": "code",
      "source": [
        "House.net_con.describe()"
      ],
      "metadata": {
        "colab": {
          "base_uri": "https://localhost:8080/"
        },
        "id": "Qh2GWugub5Pi",
        "outputId": "21b2b5ae-568d-4c04-fbce-cdab362e67cb"
      },
      "execution_count": null,
      "outputs": [
        {
          "output_type": "execute_result",
          "data": {
            "text/plain": [
              "count    1.374000e+03\n",
              "mean     6.175497e+05\n",
              "std      9.483735e+05\n",
              "min      2.000000e+00\n",
              "25%      1.990519e+04\n",
              "50%      1.481854e+05\n",
              "75%      9.801455e+05\n",
              "max      1.342095e+07\n",
              "Name: net_con, dtype: float64"
            ]
          },
          "metadata": {},
          "execution_count": 41
        }
      ]
    },
    {
      "cell_type": "code",
      "source": [
        "sns.boxplot(House.net_con, House.winner)"
      ],
      "metadata": {
        "colab": {
          "base_uri": "https://localhost:8080/",
          "height": 354
        },
        "id": "Soas1cNvb-JO",
        "outputId": "08f8a642-7c45-475c-fb71-5c135a67de4a"
      },
      "execution_count": null,
      "outputs": [
        {
          "output_type": "stream",
          "name": "stderr",
          "text": [
            "/usr/local/lib/python3.9/dist-packages/seaborn/_decorators.py:36: FutureWarning: Pass the following variables as keyword args: x, y. From version 0.12, the only valid positional argument will be `data`, and passing other arguments without an explicit keyword will result in an error or misinterpretation.\n",
            "  warnings.warn(\n"
          ]
        },
        {
          "output_type": "execute_result",
          "data": {
            "text/plain": [
              "<AxesSubplot:xlabel='net_con', ylabel='winner'>"
            ]
          },
          "metadata": {},
          "execution_count": 42
        },
        {
          "output_type": "display_data",
          "data": {
            "text/plain": [
              "<Figure size 432x288 with 1 Axes>"
            ],
            "image/png": "[encoded data removed]"
          },
          "metadata": {
            "needs_background": "light"
          }
        }
      ]
    },
    {
      "cell_type": "markdown",
      "source": [
        "Middle 50% for the Yes group is significantly higher, making Net contributions a good predictor."
      ],
      "metadata": {
        "id": "56G0cqDgcH_V"
      }
    },
    {
      "cell_type": "code",
      "source": [
        "House[\"net_ope_exp\"] = House.net_ope_exp.replace(\"\\$\", \"\", regex = True).replace(\",\", \"\", regex = True).replace(\"[()]\", \"\", regex = True).astype(float)"
      ],
      "metadata": {
        "colab": {
          "base_uri": "https://localhost:8080/"
        },
        "id": "phh9XFVGcPyD",
        "outputId": "b19bc3dc-eb60-4019-b43d-ed2d050c6697"
      },
      "execution_count": null,
      "outputs": [
        {
          "output_type": "stream",
          "name": "stderr",
          "text": [
            "<ipython-input-43-db1630e1163c>:1: SettingWithCopyWarning: \n",
            "A value is trying to be set on a copy of a slice from a DataFrame.\n",
            "Try using .loc[row_indexer,col_indexer] = value instead\n",
            "\n",
            "See the caveats in the documentation: https://pandas.pydata.org/pandas-docs/stable/user_guide/indexing.html#returning-a-view-versus-a-copy\n",
            "  House[\"net_ope_exp\"] = House.net_ope_exp.replace(\"\\$\", \"\", regex = True).replace(\",\", \"\", regex = True).replace(\"[()]\", \"\", regex = True).astype(float)\n"
          ]
        }
      ]
    },
    {
      "cell_type": "code",
      "source": [
        "House.net_ope_exp.describe()"
      ],
      "metadata": {
        "colab": {
          "base_uri": "https://localhost:8080/"
        },
        "id": "jxiPYqc3c0Uh",
        "outputId": "378f5802-40f9-412a-f619-472b56bef4ea"
      },
      "execution_count": null,
      "outputs": [
        {
          "output_type": "execute_result",
          "data": {
            "text/plain": [
              "count    1.386000e+03\n",
              "mean     5.120849e+05\n",
              "std      8.475574e+05\n",
              "min      1.800000e+00\n",
              "25%      2.293585e+04\n",
              "50%      1.716497e+05\n",
              "75%      7.211021e+05\n",
              "max      1.338192e+07\n",
              "Name: net_ope_exp, dtype: float64"
            ]
          },
          "metadata": {},
          "execution_count": 44
        }
      ]
    },
    {
      "cell_type": "code",
      "source": [
        "sns.boxplot(House.net_ope_exp, House.winner)"
      ],
      "metadata": {
        "colab": {
          "base_uri": "https://localhost:8080/",
          "height": 354
        },
        "id": "MueIMx19c5i6",
        "outputId": "7469d73f-83c8-46a0-e8b5-4f9c39d7ca3e"
      },
      "execution_count": null,
      "outputs": [
        {
          "output_type": "stream",
          "name": "stderr",
          "text": [
            "/usr/local/lib/python3.9/dist-packages/seaborn/_decorators.py:36: FutureWarning: Pass the following variables as keyword args: x, y. From version 0.12, the only valid positional argument will be `data`, and passing other arguments without an explicit keyword will result in an error or misinterpretation.\n",
            "  warnings.warn(\n"
          ]
        },
        {
          "output_type": "execute_result",
          "data": {
            "text/plain": [
              "<AxesSubplot:xlabel='net_ope_exp', ylabel='winner'>"
            ]
          },
          "metadata": {},
          "execution_count": 45
        },
        {
          "output_type": "display_data",
          "data": {
            "text/plain": [
              "<Figure size 432x288 with 1 Axes>"
            ],
            "image/png": "[encoded data removed]"
          },
          "metadata": {
            "needs_background": "light"
          }
        }
      ]
    },
    {
      "cell_type": "markdown",
      "source": [
        "Middle 50% for Winners is siginificantly greater than ones who didn't win, so net operating expenditure would be a good predictor."
      ],
      "metadata": {
        "id": "d2JE28FEc_Q2"
      }
    },
    {
      "cell_type": "code",
      "source": [
        "House[\"deb_owe_by_com\"] = House.deb_owe_by_com.replace(\"\\$\", \"\", regex = True).replace(\",\", \"\", regex = True).replace(\"[()]\", \"\", regex = True).astype(float)"
      ],
      "metadata": {
        "colab": {
          "base_uri": "https://localhost:8080/"
        },
        "id": "_kQsN3DJdN3s",
        "outputId": "e2b0bc3c-5048-4eef-afce-bf48e0fdda03"
      },
      "execution_count": null,
      "outputs": [
        {
          "output_type": "stream",
          "name": "stderr",
          "text": [
            "<ipython-input-46-5d9afa80baf7>:1: SettingWithCopyWarning: \n",
            "A value is trying to be set on a copy of a slice from a DataFrame.\n",
            "Try using .loc[row_indexer,col_indexer] = value instead\n",
            "\n",
            "See the caveats in the documentation: https://pandas.pydata.org/pandas-docs/stable/user_guide/indexing.html#returning-a-view-versus-a-copy\n",
            "  House[\"deb_owe_by_com\"] = House.deb_owe_by_com.replace(\"\\$\", \"\", regex = True).replace(\",\", \"\", regex = True).replace(\"[()]\", \"\", regex = True).astype(float)\n"
          ]
        }
      ]
    },
    {
      "cell_type": "code",
      "source": [
        "House.deb_owe_by_com.describe()"
      ],
      "metadata": {
        "colab": {
          "base_uri": "https://localhost:8080/"
        },
        "id": "010PGULHdusa",
        "outputId": "c611d9d9-1840-47ac-a28c-5eece9e5a1a5"
      },
      "execution_count": null,
      "outputs": [
        {
          "output_type": "execute_result",
          "data": {
            "text/plain": [
              "count    6.030000e+02\n",
              "mean     1.225252e+05\n",
              "std      3.339072e+05\n",
              "min      3.000000e+01\n",
              "25%      7.271000e+03\n",
              "50%      2.500000e+04\n",
              "75%      1.000000e+05\n",
              "max      4.000000e+06\n",
              "Name: deb_owe_by_com, dtype: float64"
            ]
          },
          "metadata": {},
          "execution_count": 47
        }
      ]
    },
    {
      "cell_type": "code",
      "source": [
        "sns.boxplot(House.deb_owe_by_com, House.winner)"
      ],
      "metadata": {
        "colab": {
          "base_uri": "https://localhost:8080/",
          "height": 354
        },
        "id": "3IEp9tRDdy3-",
        "outputId": "22ad8a35-8f28-4b4a-e5bc-abe320756368"
      },
      "execution_count": null,
      "outputs": [
        {
          "output_type": "stream",
          "name": "stderr",
          "text": [
            "/usr/local/lib/python3.9/dist-packages/seaborn/_decorators.py:36: FutureWarning: Pass the following variables as keyword args: x, y. From version 0.12, the only valid positional argument will be `data`, and passing other arguments without an explicit keyword will result in an error or misinterpretation.\n",
            "  warnings.warn(\n"
          ]
        },
        {
          "output_type": "execute_result",
          "data": {
            "text/plain": [
              "<AxesSubplot:xlabel='deb_owe_by_com', ylabel='winner'>"
            ]
          },
          "metadata": {},
          "execution_count": 48
        },
        {
          "output_type": "display_data",
          "data": {
            "text/plain": [
              "<Figure size 432x288 with 1 Axes>"
            ],
            "image/png": "[encoded data removed]"
          },
          "metadata": {
            "needs_background": "light"
          }
        }
      ]
    },
    {
      "cell_type": "markdown",
      "source": [
        "The middle 50% for winners is significantly higher, so debt owed by committee would be a good predictor."
      ],
      "metadata": {
        "id": "pCpMalutd6Cn"
      }
    },
    {
      "cell_type": "code",
      "source": [
        "House[\"deb_owe_to_com\"] = House.deb_owe_to_com.replace(\"\\$\", \"\", regex = True).replace(\",\", \"\", regex = True).replace(\"[()]\", \"\", regex = True).astype(float)"
      ],
      "metadata": {
        "colab": {
          "base_uri": "https://localhost:8080/"
        },
        "id": "0Y27AnLSeC6o",
        "outputId": "34961a5d-ec67-4e1b-b2fa-c0efb12c876c"
      },
      "execution_count": null,
      "outputs": [
        {
          "output_type": "stream",
          "name": "stderr",
          "text": [
            "<ipython-input-49-edff0a28afa6>:1: SettingWithCopyWarning: \n",
            "A value is trying to be set on a copy of a slice from a DataFrame.\n",
            "Try using .loc[row_indexer,col_indexer] = value instead\n",
            "\n",
            "See the caveats in the documentation: https://pandas.pydata.org/pandas-docs/stable/user_guide/indexing.html#returning-a-view-versus-a-copy\n",
            "  House[\"deb_owe_to_com\"] = House.deb_owe_to_com.replace(\"\\$\", \"\", regex = True).replace(\",\", \"\", regex = True).replace(\"[()]\", \"\", regex = True).astype(float)\n"
          ]
        }
      ]
    },
    {
      "cell_type": "code",
      "source": [
        "House.deb_owe_to_com.describe()"
      ],
      "metadata": {
        "colab": {
          "base_uri": "https://localhost:8080/"
        },
        "id": "iYjweX8hea0I",
        "outputId": "592529df-6473-407e-9bcc-a931aa85c796"
      },
      "execution_count": null,
      "outputs": [
        {
          "output_type": "execute_result",
          "data": {
            "text/plain": [
              "count        18.000000\n",
              "mean      21959.063889\n",
              "std       57629.174937\n",
              "min           0.780000\n",
              "25%        1784.905000\n",
              "50%        5000.000000\n",
              "75%       17964.250000\n",
              "max      250000.000000\n",
              "Name: deb_owe_to_com, dtype: float64"
            ]
          },
          "metadata": {},
          "execution_count": 50
        }
      ]
    },
    {
      "cell_type": "code",
      "source": [
        "sns.boxplot(House.deb_owe_to_com, House.winner)"
      ],
      "metadata": {
        "colab": {
          "base_uri": "https://localhost:8080/",
          "height": 354
        },
        "id": "d43riqX5eewN",
        "outputId": "dafbc156-d220-43b6-e5f5-d1f5ae921cc4"
      },
      "execution_count": null,
      "outputs": [
        {
          "output_type": "stream",
          "name": "stderr",
          "text": [
            "/usr/local/lib/python3.9/dist-packages/seaborn/_decorators.py:36: FutureWarning: Pass the following variables as keyword args: x, y. From version 0.12, the only valid positional argument will be `data`, and passing other arguments without an explicit keyword will result in an error or misinterpretation.\n",
            "  warnings.warn(\n"
          ]
        },
        {
          "output_type": "execute_result",
          "data": {
            "text/plain": [
              "<AxesSubplot:xlabel='deb_owe_to_com', ylabel='winner'>"
            ]
          },
          "metadata": {},
          "execution_count": 51
        },
        {
          "output_type": "display_data",
          "data": {
            "text/plain": [
              "<Figure size 432x288 with 1 Axes>"
            ],
            "image/png": "[encoded data removed]"
          },
          "metadata": {
            "needs_background": "light"
          }
        }
      ]
    },
    {
      "cell_type": "markdown",
      "source": [
        "This wouldn't be a good predictor because the distribution is pretty similar for people who won and lost."
      ],
      "metadata": {
        "id": "rUBgVQt8ekxY"
      }
    },
    {
      "cell_type": "markdown",
      "source": [],
      "metadata": {
        "id": "-mzS1tYE7lgU"
      }
    },
    {
      "cell_type": "markdown",
      "source": [
        "##Senate"
      ],
      "metadata": {
        "id": "1dYmUWkc2QmW"
      }
    },
    {
      "cell_type": "code",
      "source": [
        "Senate = df.loc[df.can_off==\"S\"]"
      ],
      "metadata": {
        "id": "U_FmwKNheskb"
      },
      "execution_count": null,
      "outputs": []
    },
    {
      "cell_type": "code",
      "source": [
        "Senate.head()"
      ],
      "metadata": {
        "colab": {
          "base_uri": "https://localhost:8080/",
          "height": 421
        },
        "id": "nmQ7triX2sSW",
        "outputId": "6fd59867-cb2c-4ccb-f413-806d0b7a7fc0"
      },
      "execution_count": null,
      "outputs": [
        {
          "output_type": "execute_result",
          "data": {
            "text/plain": [
              "        can_id                can_nam can_off can_off_sta  can_off_dis  \\\n",
              "379  S6IL00292     DUCKWORTH, L TAMMY       S          IL          0.0   \n",
              "380  S6NH00091  HASSAN, MARGARET WOOD       S          NH          0.0   \n",
              "383  S6CO00309   GRAHAM, JOHN COLLINS       S          CO          0.0   \n",
              "399  S0KS00166       WIESNER, PATRICK       S          KS          0.0   \n",
              "402  S6OR05085          STINE, KEVIN        S          OR          0.0   \n",
              "\n",
              "    can_par_aff can_inc_cha_ope_sea         can_str1 can_str2   can_cit  ...  \\\n",
              "379         DEM          CHALLENGER     PO BOX 10793      NaN   CHICAGO  ...   \n",
              "380         DEM          CHALLENGER       PO BOX 298      NaN   CONCORD  ...   \n",
              "383         REP          CHALLENGER    PO BOX 101177      NaN    DENVER  ...   \n",
              "399         DEM          CHALLENGER  2717 ANN  COURT      NaN  LAWRENCE  ...   \n",
              "402         DEM          CHALLENGER      PO BOX 1209      NaN   MEDFORD  ...   \n",
              "\n",
              "    cas_on_han_beg_of_per  cas_on_han_clo_of_per          net_con  \\\n",
              "379                   NaN         $2,520,008.00   $13,059,804.00    \n",
              "380                   NaN         $1,805,530.00   $14,006,424.00    \n",
              "383                   NaN                    NaN     $483,847.00    \n",
              "399            $2,653.00              $8,070.00       $15,026.00    \n",
              "402                   NaN                    NaN       $5,735.00    \n",
              "\n",
              "         net_ope_exp deb_owe_by_com deb_owe_to_com cov_sta_dat cov_end_dat  \\\n",
              "379  $12,412,571.00             NaN            NaN   3/30/2015  10/19/2016   \n",
              "380  $13,622,825.00             NaN            NaN   10/5/2015  10/19/2016   \n",
              "383   $2,358,939.00             NaN            NaN    1/1/2016  12/31/2016   \n",
              "399      $29,603.00     $20,000.00             NaN    1/1/2015  10/28/2016   \n",
              "402       $6,436.00        $702.00             NaN    9/1/2015  10/25/2016   \n",
              "\n",
              "    winner votes  \n",
              "379      Y   NaN  \n",
              "380      Y   NaN  \n",
              "383      N   NaN  \n",
              "399      N   NaN  \n",
              "402      N   NaN  \n",
              "\n",
              "[5 rows x 51 columns]"
            ],
            "text/html": [
              "\n",
              "  <div id=\"df-5a3f3dd5-5be4-4bd2-a779-5f541b50a91b\">\n",
              "    <div class=\"colab-df-container\">\n",
              "      <div>\n",
              "<style scoped>\n",
              "    .dataframe tbody tr th:only-of-type {\n",
              "        vertical-align: middle;\n",
              "    }\n",
              "\n",
              "    .dataframe tbody tr th {\n",
              "        vertical-align: top;\n",
              "    }\n",
              "\n",
              "    .dataframe thead th {\n",
              "        text-align: right;\n",
              "    }\n",
              "</style>\n",
              "<table border=\"1\" class=\"dataframe\">\n",
              "  <thead>\n",
              "    <tr style=\"text-align: right;\">\n",
              "      <th></th>\n",
              "      <th>can_id</th>\n",
              "      <th>can_nam</th>\n",
              "      <th>can_off</th>\n",
              "      <th>can_off_sta</th>\n",
              "      <th>can_off_dis</th>\n",
              "      <th>can_par_aff</th>\n",
              "      <th>can_inc_cha_ope_sea</th>\n",
              "      <th>can_str1</th>\n",
              "      <th>can_str2</th>\n",
              "      <th>can_cit</th>\n",
              "      <th>...</th>\n",
              "      <th>cas_on_han_beg_of_per</th>\n",
              "      <th>cas_on_han_clo_of_per</th>\n",
              "      <th>net_con</th>\n",
              "      <th>net_ope_exp</th>\n",
              "      <th>deb_owe_by_com</th>\n",
              "      <th>deb_owe_to_com</th>\n",
              "      <th>cov_sta_dat</th>\n",
              "      <th>cov_end_dat</th>\n",
              "      <th>winner</th>\n",
              "      <th>votes</th>\n",
              "    </tr>\n",
              "  </thead>\n",
              "  <tbody>\n",
              "    <tr>\n",
              "      <th>379</th>\n",
              "      <td>S6IL00292</td>\n",
              "      <td>DUCKWORTH, L TAMMY</td>\n",
              "      <td>S</td>\n",
              "      <td>IL</td>\n",
              "      <td>0.0</td>\n",
              "      <td>DEM</td>\n",
              "      <td>CHALLENGER</td>\n",
              "      <td>PO BOX 10793</td>\n",
              "      <td>NaN</td>\n",
              "      <td>CHICAGO</td>\n",
              "      <td>...</td>\n",
              "      <td>NaN</td>\n",
              "      <td>$2,520,008.00</td>\n",
              "      <td>$13,059,804.00</td>\n",
              "      <td>$12,412,571.00</td>\n",
              "      <td>NaN</td>\n",
              "      <td>NaN</td>\n",
              "      <td>3/30/2015</td>\n",
              "      <td>10/19/2016</td>\n",
              "      <td>Y</td>\n",
              "      <td>NaN</td>\n",
              "    </tr>\n",
              "    <tr>\n",
              "      <th>380</th>\n",
              "      <td>S6NH00091</td>\n",
              "      <td>HASSAN, MARGARET WOOD</td>\n",
              "      <td>S</td>\n",
              "      <td>NH</td>\n",
              "      <td>0.0</td>\n",
              "      <td>DEM</td>\n",
              "      <td>CHALLENGER</td>\n",
              "      <td>PO BOX 298</td>\n",
              "      <td>NaN</td>\n",
              "      <td>CONCORD</td>\n",
              "      <td>...</td>\n",
              "      <td>NaN</td>\n",
              "      <td>$1,805,530.00</td>\n",
              "      <td>$14,006,424.00</td>\n",
              "      <td>$13,622,825.00</td>\n",
              "      <td>NaN</td>\n",
              "      <td>NaN</td>\n",
              "      <td>10/5/2015</td>\n",
              "      <td>10/19/2016</td>\n",
              "      <td>Y</td>\n",
              "      <td>NaN</td>\n",
              "    </tr>\n",
              "    <tr>\n",
              "      <th>383</th>\n",
              "      <td>S6CO00309</td>\n",
              "      <td>GRAHAM, JOHN COLLINS</td>\n",
              "      <td>S</td>\n",
              "      <td>CO</td>\n",
              "      <td>0.0</td>\n",
              "      <td>REP</td>\n",
              "      <td>CHALLENGER</td>\n",
              "      <td>PO BOX 101177</td>\n",
              "      <td>NaN</td>\n",
              "      <td>DENVER</td>\n",
              "      <td>...</td>\n",
              "      <td>NaN</td>\n",
              "      <td>NaN</td>\n",
              "      <td>$483,847.00</td>\n",
              "      <td>$2,358,939.00</td>\n",
              "      <td>NaN</td>\n",
              "      <td>NaN</td>\n",
              "      <td>1/1/2016</td>\n",
              "      <td>12/31/2016</td>\n",
              "      <td>N</td>\n",
              "      <td>NaN</td>\n",
              "    </tr>\n",
              "    <tr>\n",
              "      <th>399</th>\n",
              "      <td>S0KS00166</td>\n",
              "      <td>WIESNER, PATRICK</td>\n",
              "      <td>S</td>\n",
              "      <td>KS</td>\n",
              "      <td>0.0</td>\n",
              "      <td>DEM</td>\n",
              "      <td>CHALLENGER</td>\n",
              "      <td>2717 ANN  COURT</td>\n",
              "      <td>NaN</td>\n",
              "      <td>LAWRENCE</td>\n",
              "      <td>...</td>\n",
              "      <td>$2,653.00</td>\n",
              "      <td>$8,070.00</td>\n",
              "      <td>$15,026.00</td>\n",
              "      <td>$29,603.00</td>\n",
              "      <td>$20,000.00</td>\n",
              "      <td>NaN</td>\n",
              "      <td>1/1/2015</td>\n",
              "      <td>10/28/2016</td>\n",
              "      <td>N</td>\n",
              "      <td>NaN</td>\n",
              "    </tr>\n",
              "    <tr>\n",
              "      <th>402</th>\n",
              "      <td>S6OR05085</td>\n",
              "      <td>STINE, KEVIN</td>\n",
              "      <td>S</td>\n",
              "      <td>OR</td>\n",
              "      <td>0.0</td>\n",
              "      <td>DEM</td>\n",
              "      <td>CHALLENGER</td>\n",
              "      <td>PO BOX 1209</td>\n",
              "      <td>NaN</td>\n",
              "      <td>MEDFORD</td>\n",
              "      <td>...</td>\n",
              "      <td>NaN</td>\n",
              "      <td>NaN</td>\n",
              "      <td>$5,735.00</td>\n",
              "      <td>$6,436.00</td>\n",
              "      <td>$702.00</td>\n",
              "      <td>NaN</td>\n",
              "      <td>9/1/2015</td>\n",
              "      <td>10/25/2016</td>\n",
              "      <td>N</td>\n",
              "      <td>NaN</td>\n",
              "    </tr>\n",
              "  </tbody>\n",
              "</table>\n",
              "<p>5 rows × 51 columns</p>\n",
              "</div>\n",
              "      <button class=\"colab-df-convert\" onclick=\"convertToInteractive('df-5a3f3dd5-5be4-4bd2-a779-5f541b50a91b')\"\n",
              "              title=\"Convert this dataframe to an interactive table.\"\n",
              "              style=\"display:none;\">\n",
              "        \n",
              "  <svg xmlns=\"http://www.w3.org/2000/svg\" height=\"24px\"viewBox=\"0 0 24 24\"\n",
              "       width=\"24px\">\n",
              "    <path d=\"M0 0h24v24H0V0z\" fill=\"none\"/>\n",
              "    <path d=\"M18.56 5.44l.94 2.06.94-2.06 2.06-.94-2.06-.94-.94-2.06-.94 2.06-2.06.94zm-11 1L8.5 8.5l.94-2.06 2.06-.94-2.06-.94L8.5 2.5l-.94 2.06-2.06.94zm10 10l.94 2.06.94-2.06 2.06-.94-2.06-.94-.94-2.06-.94 2.06-2.06.94z\"/><path d=\"M17.41 7.96l-1.37-1.37c-.4-.4-.92-.59-1.43-.59-.52 0-1.04.2-1.43.59L10.3 9.45l-7.72 7.72c-.78.78-.78 2.05 0 2.83L4 21.41c.39.39.9.59 1.41.59.51 0 1.02-.2 1.41-.59l7.78-7.78 2.81-2.81c.8-.78.8-2.07 0-2.86zM5.41 20L4 18.59l7.72-7.72 1.47 1.35L5.41 20z\"/>\n",
              "  </svg>\n",
              "      </button>\n",
              "      \n",
              "  <style>\n",
              "    .colab-df-container {\n",
              "      display:flex;\n",
              "      flex-wrap:wrap;\n",
              "      gap: 12px;\n",
              "    }\n",
              "\n",
              "    .colab-df-convert {\n",
              "      background-color: #E8F0FE;\n",
              "      border: none;\n",
              "      border-radius: 50%;\n",
              "      cursor: pointer;\n",
              "      display: none;\n",
              "      fill: #1967D2;\n",
              "      height: 32px;\n",
              "      padding: 0 0 0 0;\n",
              "      width: 32px;\n",
              "    }\n",
              "\n",
              "    .colab-df-convert:hover {\n",
              "      background-color: #E2EBFA;\n",
              "      box-shadow: 0px 1px 2px rgba(60, 64, 67, 0.3), 0px 1px 3px 1px rgba(60, 64, 67, 0.15);\n",
              "      fill: #174EA6;\n",
              "    }\n",
              "\n",
              "    [theme=dark] .colab-df-convert {\n",
              "      background-color: #3B4455;\n",
              "      fill: #D2E3FC;\n",
              "    }\n",
              "\n",
              "    [theme=dark] .colab-df-convert:hover {\n",
              "      background-color: #434B5C;\n",
              "      box-shadow: 0px 1px 3px 1px rgba(0, 0, 0, 0.15);\n",
              "      filter: drop-shadow(0px 1px 2px rgba(0, 0, 0, 0.3));\n",
              "      fill: #FFFFFF;\n",
              "    }\n",
              "  </style>\n",
              "\n",
              "      <script>\n",
              "        const buttonEl =\n",
              "          document.querySelector('#df-5a3f3dd5-5be4-4bd2-a779-5f541b50a91b button.colab-df-convert');\n",
              "        buttonEl.style.display =\n",
              "          google.colab.kernel.accessAllowed ? 'block' : 'none';\n",
              "\n",
              "        async function convertToInteractive(key) {\n",
              "          const element = document.querySelector('#df-5a3f3dd5-5be4-4bd2-a779-5f541b50a91b');\n",
              "          const dataTable =\n",
              "            await google.colab.kernel.invokeFunction('convertToInteractive',\n",
              "                                                     [key], {});\n",
              "          if (!dataTable) return;\n",
              "\n",
              "          const docLinkHtml = 'Like what you see? Visit the ' +\n",
              "            '<a target=\"_blank\" href=https://colab.research.google.com/notebooks/data_table.ipynb>data table notebook</a>'\n",
              "            + ' to learn more about interactive tables.';\n",
              "          element.innerHTML = '';\n",
              "          dataTable['output_type'] = 'display_data';\n",
              "          await google.colab.output.renderOutput(dataTable, element);\n",
              "          const docLink = document.createElement('div');\n",
              "          docLink.innerHTML = docLinkHtml;\n",
              "          element.appendChild(docLink);\n",
              "        }\n",
              "      </script>\n",
              "    </div>\n",
              "  </div>\n",
              "  "
            ]
          },
          "metadata": {},
          "execution_count": 53
        }
      ]
    },
    {
      "cell_type": "code",
      "source": [
        "Senate_state = Senate.can_off_sta.value_counts().to_frame()"
      ],
      "metadata": {
        "id": "9W4BJ55X2wGc"
      },
      "execution_count": null,
      "outputs": []
    },
    {
      "cell_type": "code",
      "source": [
        "Senate_state.head()"
      ],
      "metadata": {
        "colab": {
          "base_uri": "https://localhost:8080/",
          "height": 206
        },
        "id": "dvndDAtY2y5U",
        "outputId": "5c765180-805c-42de-84c6-ec32545fbd9d"
      },
      "execution_count": null,
      "outputs": [
        {
          "output_type": "execute_result",
          "data": {
            "text/plain": [
              "    can_off_sta\n",
              "CA           23\n",
              "FL           20\n",
              "LA           14\n",
              "CO           13\n",
              "NV           10"
            ],
            "text/html": [
              "\n",
              "  <div id=\"df-6afcc9cc-d0e7-4d78-a2ed-cbda7b9328c8\">\n",
              "    <div class=\"colab-df-container\">\n",
              "      <div>\n",
              "<style scoped>\n",
              "    .dataframe tbody tr th:only-of-type {\n",
              "        vertical-align: middle;\n",
              "    }\n",
              "\n",
              "    .dataframe tbody tr th {\n",
              "        vertical-align: top;\n",
              "    }\n",
              "\n",
              "    .dataframe thead th {\n",
              "        text-align: right;\n",
              "    }\n",
              "</style>\n",
              "<table border=\"1\" class=\"dataframe\">\n",
              "  <thead>\n",
              "    <tr style=\"text-align: right;\">\n",
              "      <th></th>\n",
              "      <th>can_off_sta</th>\n",
              "    </tr>\n",
              "  </thead>\n",
              "  <tbody>\n",
              "    <tr>\n",
              "      <th>CA</th>\n",
              "      <td>23</td>\n",
              "    </tr>\n",
              "    <tr>\n",
              "      <th>FL</th>\n",
              "      <td>20</td>\n",
              "    </tr>\n",
              "    <tr>\n",
              "      <th>LA</th>\n",
              "      <td>14</td>\n",
              "    </tr>\n",
              "    <tr>\n",
              "      <th>CO</th>\n",
              "      <td>13</td>\n",
              "    </tr>\n",
              "    <tr>\n",
              "      <th>NV</th>\n",
              "      <td>10</td>\n",
              "    </tr>\n",
              "  </tbody>\n",
              "</table>\n",
              "</div>\n",
              "      <button class=\"colab-df-convert\" onclick=\"convertToInteractive('df-6afcc9cc-d0e7-4d78-a2ed-cbda7b9328c8')\"\n",
              "              title=\"Convert this dataframe to an interactive table.\"\n",
              "              style=\"display:none;\">\n",
              "        \n",
              "  <svg xmlns=\"http://www.w3.org/2000/svg\" height=\"24px\"viewBox=\"0 0 24 24\"\n",
              "       width=\"24px\">\n",
              "    <path d=\"M0 0h24v24H0V0z\" fill=\"none\"/>\n",
              "    <path d=\"M18.56 5.44l.94 2.06.94-2.06 2.06-.94-2.06-.94-.94-2.06-.94 2.06-2.06.94zm-11 1L8.5 8.5l.94-2.06 2.06-.94-2.06-.94L8.5 2.5l-.94 2.06-2.06.94zm10 10l.94 2.06.94-2.06 2.06-.94-2.06-.94-.94-2.06-.94 2.06-2.06.94z\"/><path d=\"M17.41 7.96l-1.37-1.37c-.4-.4-.92-.59-1.43-.59-.52 0-1.04.2-1.43.59L10.3 9.45l-7.72 7.72c-.78.78-.78 2.05 0 2.83L4 21.41c.39.39.9.59 1.41.59.51 0 1.02-.2 1.41-.59l7.78-7.78 2.81-2.81c.8-.78.8-2.07 0-2.86zM5.41 20L4 18.59l7.72-7.72 1.47 1.35L5.41 20z\"/>\n",
              "  </svg>\n",
              "      </button>\n",
              "      \n",
              "  <style>\n",
              "    .colab-df-container {\n",
              "      display:flex;\n",
              "      flex-wrap:wrap;\n",
              "      gap: 12px;\n",
              "    }\n",
              "\n",
              "    .colab-df-convert {\n",
              "      background-color: #E8F0FE;\n",
              "      border: none;\n",
              "      border-radius: 50%;\n",
              "      cursor: pointer;\n",
              "      display: none;\n",
              "      fill: #1967D2;\n",
              "      height: 32px;\n",
              "      padding: 0 0 0 0;\n",
              "      width: 32px;\n",
              "    }\n",
              "\n",
              "    .colab-df-convert:hover {\n",
              "      background-color: #E2EBFA;\n",
              "      box-shadow: 0px 1px 2px rgba(60, 64, 67, 0.3), 0px 1px 3px 1px rgba(60, 64, 67, 0.15);\n",
              "      fill: #174EA6;\n",
              "    }\n",
              "\n",
              "    [theme=dark] .colab-df-convert {\n",
              "      background-color: #3B4455;\n",
              "      fill: #D2E3FC;\n",
              "    }\n",
              "\n",
              "    [theme=dark] .colab-df-convert:hover {\n",
              "      background-color: #434B5C;\n",
              "      box-shadow: 0px 1px 3px 1px rgba(0, 0, 0, 0.15);\n",
              "      filter: drop-shadow(0px 1px 2px rgba(0, 0, 0, 0.3));\n",
              "      fill: #FFFFFF;\n",
              "    }\n",
              "  </style>\n",
              "\n",
              "      <script>\n",
              "        const buttonEl =\n",
              "          document.querySelector('#df-6afcc9cc-d0e7-4d78-a2ed-cbda7b9328c8 button.colab-df-convert');\n",
              "        buttonEl.style.display =\n",
              "          google.colab.kernel.accessAllowed ? 'block' : 'none';\n",
              "\n",
              "        async function convertToInteractive(key) {\n",
              "          const element = document.querySelector('#df-6afcc9cc-d0e7-4d78-a2ed-cbda7b9328c8');\n",
              "          const dataTable =\n",
              "            await google.colab.kernel.invokeFunction('convertToInteractive',\n",
              "                                                     [key], {});\n",
              "          if (!dataTable) return;\n",
              "\n",
              "          const docLinkHtml = 'Like what you see? Visit the ' +\n",
              "            '<a target=\"_blank\" href=https://colab.research.google.com/notebooks/data_table.ipynb>data table notebook</a>'\n",
              "            + ' to learn more about interactive tables.';\n",
              "          element.innerHTML = '';\n",
              "          dataTable['output_type'] = 'display_data';\n",
              "          await google.colab.output.renderOutput(dataTable, element);\n",
              "          const docLink = document.createElement('div');\n",
              "          docLink.innerHTML = docLinkHtml;\n",
              "          element.appendChild(docLink);\n",
              "        }\n",
              "      </script>\n",
              "    </div>\n",
              "  </div>\n",
              "  "
            ]
          },
          "metadata": {},
          "execution_count": 55
        }
      ]
    },
    {
      "cell_type": "code",
      "source": [
        "plt.bar(Senate_state.index, Senate_state.can_off_sta)"
      ],
      "metadata": {
        "colab": {
          "base_uri": "https://localhost:8080/",
          "height": 283
        },
        "id": "Ih24B98u22KK",
        "outputId": "c8ac6c41-de37-4bbc-f0ff-6e6f6b12539b"
      },
      "execution_count": null,
      "outputs": [
        {
          "output_type": "execute_result",
          "data": {
            "text/plain": [
              "<BarContainer object of 35 artists>"
            ]
          },
          "metadata": {},
          "execution_count": 56
        },
        {
          "output_type": "display_data",
          "data": {
            "text/plain": [
              "<Figure size 432x288 with 1 Axes>"
            ],
            "image/png": "[encoded data removed]"
          },
          "metadata": {
            "needs_background": "light"
          }
        }
      ]
    },
    {
      "cell_type": "markdown",
      "source": [
        "Senate is not a good predictor because some states don't have enough candidates running."
      ],
      "metadata": {
        "id": "32pkBPfd3Ak-"
      }
    },
    {
      "cell_type": "code",
      "source": [
        "Senate_district = Senate.can_off_dis.value_counts().to_frame()"
      ],
      "metadata": {
        "id": "aa4rRP7x3FcJ"
      },
      "execution_count": null,
      "outputs": []
    },
    {
      "cell_type": "code",
      "source": [
        "Senate_district.head()"
      ],
      "metadata": {
        "colab": {
          "base_uri": "https://localhost:8080/",
          "height": 81
        },
        "id": "Cb40FbGY3H8s",
        "outputId": "d3737e2d-f0c8-4f52-aaab-5b3aed1bee3d"
      },
      "execution_count": null,
      "outputs": [
        {
          "output_type": "execute_result",
          "data": {
            "text/plain": [
              "     can_off_dis\n",
              "0.0          227"
            ],
            "text/html": [
              "\n",
              "  <div id=\"df-b90c2b95-5f7d-4f93-9afd-810343958475\">\n",
              "    <div class=\"colab-df-container\">\n",
              "      <div>\n",
              "<style scoped>\n",
              "    .dataframe tbody tr th:only-of-type {\n",
              "        vertical-align: middle;\n",
              "    }\n",
              "\n",
              "    .dataframe tbody tr th {\n",
              "        vertical-align: top;\n",
              "    }\n",
              "\n",
              "    .dataframe thead th {\n",
              "        text-align: right;\n",
              "    }\n",
              "</style>\n",
              "<table border=\"1\" class=\"dataframe\">\n",
              "  <thead>\n",
              "    <tr style=\"text-align: right;\">\n",
              "      <th></th>\n",
              "      <th>can_off_dis</th>\n",
              "    </tr>\n",
              "  </thead>\n",
              "  <tbody>\n",
              "    <tr>\n",
              "      <th>0.0</th>\n",
              "      <td>227</td>\n",
              "    </tr>\n",
              "  </tbody>\n",
              "</table>\n",
              "</div>\n",
              "      <button class=\"colab-df-convert\" onclick=\"convertToInteractive('df-b90c2b95-5f7d-4f93-9afd-810343958475')\"\n",
              "              title=\"Convert this dataframe to an interactive table.\"\n",
              "              style=\"display:none;\">\n",
              "        \n",
              "  <svg xmlns=\"http://www.w3.org/2000/svg\" height=\"24px\"viewBox=\"0 0 24 24\"\n",
              "       width=\"24px\">\n",
              "    <path d=\"M0 0h24v24H0V0z\" fill=\"none\"/>\n",
              "    <path d=\"M18.56 5.44l.94 2.06.94-2.06 2.06-.94-2.06-.94-.94-2.06-.94 2.06-2.06.94zm-11 1L8.5 8.5l.94-2.06 2.06-.94-2.06-.94L8.5 2.5l-.94 2.06-2.06.94zm10 10l.94 2.06.94-2.06 2.06-.94-2.06-.94-.94-2.06-.94 2.06-2.06.94z\"/><path d=\"M17.41 7.96l-1.37-1.37c-.4-.4-.92-.59-1.43-.59-.52 0-1.04.2-1.43.59L10.3 9.45l-7.72 7.72c-.78.78-.78 2.05 0 2.83L4 21.41c.39.39.9.59 1.41.59.51 0 1.02-.2 1.41-.59l7.78-7.78 2.81-2.81c.8-.78.8-2.07 0-2.86zM5.41 20L4 18.59l7.72-7.72 1.47 1.35L5.41 20z\"/>\n",
              "  </svg>\n",
              "      </button>\n",
              "      \n",
              "  <style>\n",
              "    .colab-df-container {\n",
              "      display:flex;\n",
              "      flex-wrap:wrap;\n",
              "      gap: 12px;\n",
              "    }\n",
              "\n",
              "    .colab-df-convert {\n",
              "      background-color: #E8F0FE;\n",
              "      border: none;\n",
              "      border-radius: 50%;\n",
              "      cursor: pointer;\n",
              "      display: none;\n",
              "      fill: #1967D2;\n",
              "      height: 32px;\n",
              "      padding: 0 0 0 0;\n",
              "      width: 32px;\n",
              "    }\n",
              "\n",
              "    .colab-df-convert:hover {\n",
              "      background-color: #E2EBFA;\n",
              "      box-shadow: 0px 1px 2px rgba(60, 64, 67, 0.3), 0px 1px 3px 1px rgba(60, 64, 67, 0.15);\n",
              "      fill: #174EA6;\n",
              "    }\n",
              "\n",
              "    [theme=dark] .colab-df-convert {\n",
              "      background-color: #3B4455;\n",
              "      fill: #D2E3FC;\n",
              "    }\n",
              "\n",
              "    [theme=dark] .colab-df-convert:hover {\n",
              "      background-color: #434B5C;\n",
              "      box-shadow: 0px 1px 3px 1px rgba(0, 0, 0, 0.15);\n",
              "      filter: drop-shadow(0px 1px 2px rgba(0, 0, 0, 0.3));\n",
              "      fill: #FFFFFF;\n",
              "    }\n",
              "  </style>\n",
              "\n",
              "      <script>\n",
              "        const buttonEl =\n",
              "          document.querySelector('#df-b90c2b95-5f7d-4f93-9afd-810343958475 button.colab-df-convert');\n",
              "        buttonEl.style.display =\n",
              "          google.colab.kernel.accessAllowed ? 'block' : 'none';\n",
              "\n",
              "        async function convertToInteractive(key) {\n",
              "          const element = document.querySelector('#df-b90c2b95-5f7d-4f93-9afd-810343958475');\n",
              "          const dataTable =\n",
              "            await google.colab.kernel.invokeFunction('convertToInteractive',\n",
              "                                                     [key], {});\n",
              "          if (!dataTable) return;\n",
              "\n",
              "          const docLinkHtml = 'Like what you see? Visit the ' +\n",
              "            '<a target=\"_blank\" href=https://colab.research.google.com/notebooks/data_table.ipynb>data table notebook</a>'\n",
              "            + ' to learn more about interactive tables.';\n",
              "          element.innerHTML = '';\n",
              "          dataTable['output_type'] = 'display_data';\n",
              "          await google.colab.output.renderOutput(dataTable, element);\n",
              "          const docLink = document.createElement('div');\n",
              "          docLink.innerHTML = docLinkHtml;\n",
              "          element.appendChild(docLink);\n",
              "        }\n",
              "      </script>\n",
              "    </div>\n",
              "  </div>\n",
              "  "
            ]
          },
          "metadata": {},
          "execution_count": 58
        }
      ]
    },
    {
      "cell_type": "code",
      "source": [
        "plt.bar(Senate_district.index, Senate_district.can_off_dis)"
      ],
      "metadata": {
        "colab": {
          "base_uri": "https://localhost:8080/",
          "height": 283
        },
        "id": "pAH8lkLA3Jr5",
        "outputId": "166d3eea-e53d-49cd-b9e8-02b69bb69142"
      },
      "execution_count": null,
      "outputs": [
        {
          "output_type": "execute_result",
          "data": {
            "text/plain": [
              "<BarContainer object of 1 artists>"
            ]
          },
          "metadata": {},
          "execution_count": 59
        },
        {
          "output_type": "display_data",
          "data": {
            "text/plain": [
              "<Figure size 432x288 with 1 Axes>"
            ],
            "image/png": "[encoded data removed]"
          },
          "metadata": {
            "needs_background": "light"
          }
        }
      ]
    },
    {
      "cell_type": "markdown",
      "source": [
        "**Review code above^^^^^**\n",
        "\n",
        "\n"
      ],
      "metadata": {
        "id": "Df_cJFox3Y1n"
      }
    },
    {
      "cell_type": "code",
      "source": [
        "Senate[[\"can_par_aff\", \"winner\"]].value_counts()"
      ],
      "metadata": {
        "colab": {
          "base_uri": "https://localhost:8080/"
        },
        "id": "j6H5Dicu3Li5",
        "outputId": "104b4ee8-f397-4518-8c2e-95ec6f90db71"
      },
      "execution_count": null,
      "outputs": [
        {
          "output_type": "execute_result",
          "data": {
            "text/plain": [
              "can_par_aff  winner\n",
              "REP          N         81\n",
              "DEM          N         67\n",
              "REP          Y         22\n",
              "IND          N         19\n",
              "DEM          Y         13\n",
              "LIB          N         11\n",
              "OTH          N          5\n",
              "GRE          N          4\n",
              "ID           N          1\n",
              "NNE          N          1\n",
              "NPA          N          1\n",
              "UN           N          1\n",
              "UNK          N          1\n",
              "dtype: int64"
            ]
          },
          "metadata": {},
          "execution_count": 60
        }
      ]
    },
    {
      "cell_type": "code",
      "source": [
        "import numpy as np"
      ],
      "metadata": {
        "id": "V1nkJM1n3lBP"
      },
      "execution_count": null,
      "outputs": []
    },
    {
      "cell_type": "code",
      "source": [
        "other_parties = Senate.can_par_aff.value_counts().to_frame().index.to_list()[2:]"
      ],
      "metadata": {
        "id": "arqp3Cu43mxm"
      },
      "execution_count": null,
      "outputs": []
    },
    {
      "cell_type": "code",
      "source": [
        "other_parties"
      ],
      "metadata": {
        "colab": {
          "base_uri": "https://localhost:8080/"
        },
        "id": "tsfy4Mft3oqZ",
        "outputId": "8e3fbf41-cd41-404b-ea7a-70f5614622f8"
      },
      "execution_count": null,
      "outputs": [
        {
          "output_type": "execute_result",
          "data": {
            "text/plain": [
              "['IND', 'LIB', 'OTH', 'GRE', 'UNK', 'UN', 'NNE', 'NPA', 'ID']"
            ]
          },
          "metadata": {},
          "execution_count": 63
        }
      ]
    },
    {
      "cell_type": "code",
      "source": [
        "Senate[\"can_par_aff\"].isin(other_parties)"
      ],
      "metadata": {
        "colab": {
          "base_uri": "https://localhost:8080/"
        },
        "id": "83gKr5Jb3uNo",
        "outputId": "67850e67-4381-4b6f-d896-3881bc41c1a1"
      },
      "execution_count": null,
      "outputs": [
        {
          "output_type": "execute_result",
          "data": {
            "text/plain": [
              "379     False\n",
              "380     False\n",
              "383     False\n",
              "399     False\n",
              "402     False\n",
              "        ...  \n",
              "1749    False\n",
              "1764    False\n",
              "1795    False\n",
              "1810    False\n",
              "1811    False\n",
              "Name: can_par_aff, Length: 227, dtype: bool"
            ]
          },
          "metadata": {},
          "execution_count": 64
        }
      ]
    },
    {
      "cell_type": "code",
      "source": [
        "Senate.loc[Senate[\"can_par_aff\"].isin(other_parties),\"can_par_aff\"] = \"other\""
      ],
      "metadata": {
        "id": "JZgugq4g3wFY"
      },
      "execution_count": null,
      "outputs": []
    },
    {
      "cell_type": "code",
      "source": [
        "Senate[[\"can_par_aff\", \"winner\"]].value_counts()"
      ],
      "metadata": {
        "colab": {
          "base_uri": "https://localhost:8080/"
        },
        "id": "ER-CKnTQ3xrI",
        "outputId": "f38feb23-7554-4cbe-d2dd-3c2178c2ab71"
      },
      "execution_count": null,
      "outputs": [
        {
          "output_type": "execute_result",
          "data": {
            "text/plain": [
              "can_par_aff  winner\n",
              "REP          N         81\n",
              "DEM          N         67\n",
              "other        N         44\n",
              "REP          Y         22\n",
              "DEM          Y         13\n",
              "dtype: int64"
            ]
          },
          "metadata": {},
          "execution_count": 66
        }
      ]
    },
    {
      "cell_type": "code",
      "source": [
        "from pandas.tseries.offsets import YearBegin\n",
        "X = ['REP', 'DEM','other']\n",
        "Y = [22,13,0]\n",
        "N = [81,67,44]\n",
        "\n",
        "X_axis = np.arange(len(X))\n",
        "\n",
        "plt.bar(X_axis - 0.2, Y, 0.4, label = 'Yes')\n",
        "plt.bar(X_axis + 0.2, N, 0.4, label = 'No')\n",
        "\n",
        "plt.xticks(X_axis, X)\n",
        "plt.xlabel(\"Political Party\")\n",
        "plt.ylabel(\"# of Candidates\")\n",
        "plt.title(\"Number of Candidates in each group\")\n",
        "plt.legend()\n",
        "plt.show()"
      ],
      "metadata": {
        "colab": {
          "base_uri": "https://localhost:8080/",
          "height": 295
        },
        "id": "o_ZOrQTp3zal",
        "outputId": "0cbaaff8-d5fb-48e7-f6b3-eea0d9619d23"
      },
      "execution_count": null,
      "outputs": [
        {
          "output_type": "display_data",
          "data": {
            "text/plain": [
              "<Figure size 432x288 with 1 Axes>"
            ],
            "image/png": "[encoded data removed]"
          },
          "metadata": {
            "needs_background": "light"
          }
        }
      ]
    },
    {
      "cell_type": "markdown",
      "source": [
        "Enough candidates running so should be good predictor"
      ],
      "metadata": {
        "id": "SaCPITq_HsXm"
      }
    },
    {
      "cell_type": "code",
      "source": [
        "can_inc_cha_ope_se = Senate.can_inc_cha_ope_sea.value_counts().to_frame().index.to_list()"
      ],
      "metadata": {
        "id": "7cF67dpy32D7"
      },
      "execution_count": null,
      "outputs": []
    },
    {
      "cell_type": "code",
      "source": [
        "can_inc_cha_ope_se"
      ],
      "metadata": {
        "colab": {
          "base_uri": "https://localhost:8080/"
        },
        "id": "RnAdVYtw4P5-",
        "outputId": "ff01b043-181a-4faa-8cf9-673b17cb90cc"
      },
      "execution_count": null,
      "outputs": [
        {
          "output_type": "execute_result",
          "data": {
            "text/plain": [
              "['CHALLENGER', 'OPEN', 'INCUMBENT']"
            ]
          },
          "metadata": {},
          "execution_count": 69
        }
      ]
    },
    {
      "cell_type": "code",
      "source": [
        "Senate.can_inc_cha_ope_sea.value_counts()"
      ],
      "metadata": {
        "colab": {
          "base_uri": "https://localhost:8080/"
        },
        "id": "89ZwWaUx4ROM",
        "outputId": "efd4368f-3608-4577-ec59-6ac36230dd11"
      },
      "execution_count": null,
      "outputs": [
        {
          "output_type": "execute_result",
          "data": {
            "text/plain": [
              "CHALLENGER    135\n",
              "OPEN           63\n",
              "INCUMBENT      29\n",
              "Name: can_inc_cha_ope_sea, dtype: int64"
            ]
          },
          "metadata": {},
          "execution_count": 70
        }
      ]
    },
    {
      "cell_type": "code",
      "source": [
        "Senate[[\"can_inc_cha_ope_sea\", \"winner\"]].value_counts()"
      ],
      "metadata": {
        "colab": {
          "base_uri": "https://localhost:8080/"
        },
        "id": "7ACxyu-Q4SpL",
        "outputId": "0a64c3f0-6880-4bcc-ccc4-61e21623dc55"
      },
      "execution_count": null,
      "outputs": [
        {
          "output_type": "execute_result",
          "data": {
            "text/plain": [
              "can_inc_cha_ope_sea  winner\n",
              "CHALLENGER           N         133\n",
              "OPEN                 N          57\n",
              "INCUMBENT            Y          27\n",
              "OPEN                 Y           6\n",
              "CHALLENGER           Y           2\n",
              "INCUMBENT            N           2\n",
              "dtype: int64"
            ]
          },
          "metadata": {},
          "execution_count": 71
        }
      ]
    },
    {
      "cell_type": "code",
      "source": [
        "from pandas.tseries.offsets import YearBegin\n",
        "X = ['Challenger', 'Incumbent','Open']\n",
        "Y = [2,27, 6]\n",
        "N = [133,2,57]\n",
        "\n",
        "X_axis = np.arange(len(X))\n",
        "\n",
        "plt.bar(X_axis - 0.2, Y, 0.4, label = 'Yes')\n",
        "plt.bar(X_axis + 0.2, N, 0.4, label = 'No')\n",
        "\n",
        "plt.xticks(X_axis, X)\n",
        "plt.xlabel(\"Candidate Incumbent Challenger Open Seat\")\n",
        "plt.ylabel(\"# of Candidates\")\n",
        "plt.title(\"Number of Candidates in each seat\")\n",
        "plt.legend()\n",
        "plt.show()"
      ],
      "metadata": {
        "colab": {
          "base_uri": "https://localhost:8080/",
          "height": 295
        },
        "id": "CSpe0L7f4UN5",
        "outputId": "c522bec6-f1d6-4e59-e233-5e3eb8f59274"
      },
      "execution_count": null,
      "outputs": [
        {
          "output_type": "display_data",
          "data": {
            "text/plain": [
              "<Figure size 432x288 with 1 Axes>"
            ],
            "image/png": "[encoded data removed]"
          },
          "metadata": {
            "needs_background": "light"
          }
        }
      ]
    },
    {
      "cell_type": "markdown",
      "source": [
        "Challenger group has the most amount of No votes, seems like a good predictor."
      ],
      "metadata": {
        "id": "Xoynnegi5Nsd"
      }
    },
    {
      "cell_type": "code",
      "source": [
        "Senate[\"cas_on_han_beg_of_per\"] = Senate.cas_on_han_beg_of_per.replace(\"\\$\", \"\", regex = True).replace(\",\", \"\", regex = True).replace(\"[()]\", \"\", regex = True).astype(float)"
      ],
      "metadata": {
        "colab": {
          "base_uri": "https://localhost:8080/"
        },
        "id": "0jzmTuu_5WVL",
        "outputId": "31a228ba-a88b-4eb6-caa6-ea0a09c1c402"
      },
      "execution_count": null,
      "outputs": [
        {
          "output_type": "stream",
          "name": "stderr",
          "text": [
            "<ipython-input-73-962050b6024b>:1: SettingWithCopyWarning: \n",
            "A value is trying to be set on a copy of a slice from a DataFrame.\n",
            "Try using .loc[row_indexer,col_indexer] = value instead\n",
            "\n",
            "See the caveats in the documentation: https://pandas.pydata.org/pandas-docs/stable/user_guide/indexing.html#returning-a-view-versus-a-copy\n",
            "  Senate[\"cas_on_han_beg_of_per\"] = Senate.cas_on_han_beg_of_per.replace(\"\\$\", \"\", regex = True).replace(\",\", \"\", regex = True).replace(\"[()]\", \"\", regex = True).astype(float)\n"
          ]
        }
      ]
    },
    {
      "cell_type": "code",
      "source": [
        "Senate.cas_on_han_beg_of_per.describe()"
      ],
      "metadata": {
        "colab": {
          "base_uri": "https://localhost:8080/"
        },
        "id": "6O7SKvAs5dPu",
        "outputId": "b3db55af-cea2-4bad-d56f-395a4029b218"
      },
      "execution_count": null,
      "outputs": [
        {
          "output_type": "execute_result",
          "data": {
            "text/plain": [
              "count    6.700000e+01\n",
              "mean     1.559477e+06\n",
              "std      3.215394e+06\n",
              "min      1.000000e+01\n",
              "25%      1.530500e+03\n",
              "50%      3.665179e+05\n",
              "75%      1.688671e+06\n",
              "max      1.805543e+07\n",
              "Name: cas_on_han_beg_of_per, dtype: float64"
            ]
          },
          "metadata": {},
          "execution_count": 74
        }
      ]
    },
    {
      "cell_type": "code",
      "source": [
        "sns.boxplot(Senate.cas_on_han_beg_of_per, Senate.winner)"
      ],
      "metadata": {
        "colab": {
          "base_uri": "https://localhost:8080/",
          "height": 354
        },
        "id": "qbULJEuG5fuE",
        "outputId": "59715289-0185-45e6-9902-ecfd121c9375"
      },
      "execution_count": null,
      "outputs": [
        {
          "output_type": "stream",
          "name": "stderr",
          "text": [
            "/usr/local/lib/python3.9/dist-packages/seaborn/_decorators.py:36: FutureWarning: Pass the following variables as keyword args: x, y. From version 0.12, the only valid positional argument will be `data`, and passing other arguments without an explicit keyword will result in an error or misinterpretation.\n",
            "  warnings.warn(\n"
          ]
        },
        {
          "output_type": "execute_result",
          "data": {
            "text/plain": [
              "<AxesSubplot:xlabel='cas_on_han_beg_of_per', ylabel='winner'>"
            ]
          },
          "metadata": {},
          "execution_count": 75
        },
        {
          "output_type": "display_data",
          "data": {
            "text/plain": [
              "<Figure size 432x288 with 1 Axes>"
            ],
            "image/png": "[encoded data removed]"
          },
          "metadata": {
            "needs_background": "light"
          }
        }
      ]
    },
    {
      "cell_type": "markdown",
      "source": [
        "Significant difference in distribution, so good predictor[link text"
      ],
      "metadata": {
        "id": "gqx3vLcQ5lAH"
      }
    },
    {
      "cell_type": "code",
      "source": [
        "Senate[\"net_con\"] = Senate.net_con.replace(\"\\$\", \"\", regex = True).replace(\",\", \"\", regex = True).replace(\"[()]\", \"\", regex = True).astype(float)"
      ],
      "metadata": {
        "colab": {
          "base_uri": "https://localhost:8080/"
        },
        "id": "hql_hhj-5jP2",
        "outputId": "ad01fa60-ff21-4625-a69f-9a8ab13b2385"
      },
      "execution_count": null,
      "outputs": [
        {
          "output_type": "stream",
          "name": "stderr",
          "text": [
            "<ipython-input-76-dbd9d78e594c>:1: SettingWithCopyWarning: \n",
            "A value is trying to be set on a copy of a slice from a DataFrame.\n",
            "Try using .loc[row_indexer,col_indexer] = value instead\n",
            "\n",
            "See the caveats in the documentation: https://pandas.pydata.org/pandas-docs/stable/user_guide/indexing.html#returning-a-view-versus-a-copy\n",
            "  Senate[\"net_con\"] = Senate.net_con.replace(\"\\$\", \"\", regex = True).replace(\",\", \"\", regex = True).replace(\"[()]\", \"\", regex = True).astype(float)\n"
          ]
        }
      ]
    },
    {
      "cell_type": "code",
      "source": [
        "Senate.net_con.describe()"
      ],
      "metadata": {
        "colab": {
          "base_uri": "https://localhost:8080/"
        },
        "id": "x3lpepFe5vCB",
        "outputId": "fb50ebdf-bc73-48ac-a1b0-4b9b8a3f910d"
      },
      "execution_count": null,
      "outputs": [
        {
          "output_type": "execute_result",
          "data": {
            "text/plain": [
              "count    2.060000e+02\n",
              "mean     2.242267e+06\n",
              "std      4.278951e+06\n",
              "min      3.000000e+01\n",
              "25%      7.307000e+03\n",
              "50%      7.097450e+04\n",
              "75%      2.203568e+06\n",
              "max      2.105293e+07\n",
              "Name: net_con, dtype: float64"
            ]
          },
          "metadata": {},
          "execution_count": 77
        }
      ]
    },
    {
      "cell_type": "code",
      "source": [
        "sns.boxplot(Senate.net_con, Senate.winner)"
      ],
      "metadata": {
        "colab": {
          "base_uri": "https://localhost:8080/",
          "height": 354
        },
        "id": "d_Zf5ISk5zKn",
        "outputId": "91b3e23a-83f4-433c-8058-b56f89509fc8"
      },
      "execution_count": null,
      "outputs": [
        {
          "output_type": "stream",
          "name": "stderr",
          "text": [
            "/usr/local/lib/python3.9/dist-packages/seaborn/_decorators.py:36: FutureWarning: Pass the following variables as keyword args: x, y. From version 0.12, the only valid positional argument will be `data`, and passing other arguments without an explicit keyword will result in an error or misinterpretation.\n",
            "  warnings.warn(\n"
          ]
        },
        {
          "output_type": "execute_result",
          "data": {
            "text/plain": [
              "<AxesSubplot:xlabel='net_con', ylabel='winner'>"
            ]
          },
          "metadata": {},
          "execution_count": 78
        },
        {
          "output_type": "display_data",
          "data": {
            "text/plain": [
              "<Figure size 432x288 with 1 Axes>"
            ],
            "image/png": "[encoded data removed]"
          },
          "metadata": {
            "needs_background": "light"
          }
        }
      ]
    },
    {
      "cell_type": "markdown",
      "source": [
        "Significant difference in distribution, so good predictor"
      ],
      "metadata": {
        "id": "FJNuXoAb557X"
      }
    },
    {
      "cell_type": "code",
      "source": [
        "Senate[\"net_ope_exp\"] = Senate.net_ope_exp.replace(\"\\$\", \"\", regex = True).replace(\",\", \"\", regex = True).replace(\"[()]\", \"\", regex = True).astype(float)"
      ],
      "metadata": {
        "colab": {
          "base_uri": "https://localhost:8080/"
        },
        "id": "8JHCkaNe52Zw",
        "outputId": "3bd03743-c34e-4d45-cb75-2304e2e2c14e"
      },
      "execution_count": null,
      "outputs": [
        {
          "output_type": "stream",
          "name": "stderr",
          "text": [
            "<ipython-input-79-36f3fb0939d0>:1: SettingWithCopyWarning: \n",
            "A value is trying to be set on a copy of a slice from a DataFrame.\n",
            "Try using .loc[row_indexer,col_indexer] = value instead\n",
            "\n",
            "See the caveats in the documentation: https://pandas.pydata.org/pandas-docs/stable/user_guide/indexing.html#returning-a-view-versus-a-copy\n",
            "  Senate[\"net_ope_exp\"] = Senate.net_ope_exp.replace(\"\\$\", \"\", regex = True).replace(\",\", \"\", regex = True).replace(\"[()]\", \"\", regex = True).astype(float)\n"
          ]
        }
      ]
    },
    {
      "cell_type": "code",
      "source": [
        "Senate.net_ope_exp.describe()"
      ],
      "metadata": {
        "colab": {
          "base_uri": "https://localhost:8080/"
        },
        "id": "sPzFKffX5-wP",
        "outputId": "bedabd74-fb42-4f53-8280-81f5d6036ef7"
      },
      "execution_count": null,
      "outputs": [
        {
          "output_type": "execute_result",
          "data": {
            "text/plain": [
              "count    2.110000e+02\n",
              "mean     2.316215e+06\n",
              "std      4.584666e+06\n",
              "min      1.000000e+01\n",
              "25%      1.148600e+04\n",
              "50%      8.314556e+04\n",
              "75%      2.042846e+06\n",
              "max      3.011880e+07\n",
              "Name: net_ope_exp, dtype: float64"
            ]
          },
          "metadata": {},
          "execution_count": 80
        }
      ]
    },
    {
      "cell_type": "code",
      "source": [
        "sns.boxplot(Senate.net_ope_exp, Senate.winner)"
      ],
      "metadata": {
        "colab": {
          "base_uri": "https://localhost:8080/",
          "height": 354
        },
        "id": "_PQy_IZn6AAC",
        "outputId": "a3de62be-b55b-4e22-9402-eda62571c205"
      },
      "execution_count": null,
      "outputs": [
        {
          "output_type": "stream",
          "name": "stderr",
          "text": [
            "/usr/local/lib/python3.9/dist-packages/seaborn/_decorators.py:36: FutureWarning: Pass the following variables as keyword args: x, y. From version 0.12, the only valid positional argument will be `data`, and passing other arguments without an explicit keyword will result in an error or misinterpretation.\n",
            "  warnings.warn(\n"
          ]
        },
        {
          "output_type": "execute_result",
          "data": {
            "text/plain": [
              "<AxesSubplot:xlabel='net_ope_exp', ylabel='winner'>"
            ]
          },
          "metadata": {},
          "execution_count": 81
        },
        {
          "output_type": "display_data",
          "data": {
            "text/plain": [
              "<Figure size 432x288 with 1 Axes>"
            ],
            "image/png": "[encoded data removed]"
          },
          "metadata": {
            "needs_background": "light"
          }
        }
      ]
    },
    {
      "cell_type": "markdown",
      "source": [
        "Significant difference in distribution, so good predictor"
      ],
      "metadata": {
        "id": "_CxY83BM6G2e"
      }
    },
    {
      "cell_type": "code",
      "source": [
        "Senate[\"deb_owe_by_com\"] = Senate.deb_owe_by_com.replace(\"\\$\", \"\", regex = True).replace(\",\", \"\", regex = True).replace(\"[()]\", \"\", regex = True).astype(float)"
      ],
      "metadata": {
        "colab": {
          "base_uri": "https://localhost:8080/"
        },
        "id": "4qMcgunY6Gnn",
        "outputId": "f1481bf6-6640-4b8c-a5b2-80e9682b6b23"
      },
      "execution_count": null,
      "outputs": [
        {
          "output_type": "stream",
          "name": "stderr",
          "text": [
            "<ipython-input-82-86b1bbfaa2b3>:1: SettingWithCopyWarning: \n",
            "A value is trying to be set on a copy of a slice from a DataFrame.\n",
            "Try using .loc[row_indexer,col_indexer] = value instead\n",
            "\n",
            "See the caveats in the documentation: https://pandas.pydata.org/pandas-docs/stable/user_guide/indexing.html#returning-a-view-versus-a-copy\n",
            "  Senate[\"deb_owe_by_com\"] = Senate.deb_owe_by_com.replace(\"\\$\", \"\", regex = True).replace(\",\", \"\", regex = True).replace(\"[()]\", \"\", regex = True).astype(float)\n"
          ]
        }
      ]
    },
    {
      "cell_type": "code",
      "source": [
        "Senate.deb_owe_by_com.describe()"
      ],
      "metadata": {
        "colab": {
          "base_uri": "https://localhost:8080/"
        },
        "id": "3OAzlSJS6K2M",
        "outputId": "94c7a6c0-f811-4d89-b7aa-0b483b58e723"
      },
      "execution_count": null,
      "outputs": [
        {
          "output_type": "execute_result",
          "data": {
            "text/plain": [
              "count    8.500000e+01\n",
              "mean     2.994532e+05\n",
              "std      9.446060e+05\n",
              "min      2.100000e+01\n",
              "25%      4.080000e+03\n",
              "50%      3.068000e+04\n",
              "75%      1.550500e+05\n",
              "max      8.012850e+06\n",
              "Name: deb_owe_by_com, dtype: float64"
            ]
          },
          "metadata": {},
          "execution_count": 83
        }
      ]
    },
    {
      "cell_type": "code",
      "source": [
        "sns.boxplot(Senate.deb_owe_by_com, Senate.winner)"
      ],
      "metadata": {
        "colab": {
          "base_uri": "https://localhost:8080/",
          "height": 354
        },
        "id": "byZITgzT6MRd",
        "outputId": "02c8b5d0-e860-45c3-b177-030ee945ac3a"
      },
      "execution_count": null,
      "outputs": [
        {
          "output_type": "stream",
          "name": "stderr",
          "text": [
            "/usr/local/lib/python3.9/dist-packages/seaborn/_decorators.py:36: FutureWarning: Pass the following variables as keyword args: x, y. From version 0.12, the only valid positional argument will be `data`, and passing other arguments without an explicit keyword will result in an error or misinterpretation.\n",
            "  warnings.warn(\n"
          ]
        },
        {
          "output_type": "execute_result",
          "data": {
            "text/plain": [
              "<AxesSubplot:xlabel='deb_owe_by_com', ylabel='winner'>"
            ]
          },
          "metadata": {},
          "execution_count": 84
        },
        {
          "output_type": "display_data",
          "data": {
            "text/plain": [
              "<Figure size 432x288 with 1 Axes>"
            ],
            "image/png": "[encoded data removed]"
          },
          "metadata": {
            "needs_background": "light"
          }
        }
      ]
    },
    {
      "cell_type": "markdown",
      "source": [
        "Not too big of a difference in distribution, so not a good predictor."
      ],
      "metadata": {
        "id": "5fBU8qNo6SPx"
      }
    },
    {
      "cell_type": "code",
      "source": [
        "Senate[\"deb_owe_to_com\"] = Senate.deb_owe_to_com.replace(\"\\$\", \"\", regex = True).replace(\",\", \"\", regex = True).replace(\"[()]\", \"\", regex = True).astype(float)"
      ],
      "metadata": {
        "colab": {
          "base_uri": "https://localhost:8080/"
        },
        "id": "xV9RfxQw6V-k",
        "outputId": "20165290-0ce3-4360-acb6-23df302349a2"
      },
      "execution_count": null,
      "outputs": [
        {
          "output_type": "stream",
          "name": "stderr",
          "text": [
            "<ipython-input-85-c1e44ecd932a>:1: SettingWithCopyWarning: \n",
            "A value is trying to be set on a copy of a slice from a DataFrame.\n",
            "Try using .loc[row_indexer,col_indexer] = value instead\n",
            "\n",
            "See the caveats in the documentation: https://pandas.pydata.org/pandas-docs/stable/user_guide/indexing.html#returning-a-view-versus-a-copy\n",
            "  Senate[\"deb_owe_to_com\"] = Senate.deb_owe_to_com.replace(\"\\$\", \"\", regex = True).replace(\",\", \"\", regex = True).replace(\"[()]\", \"\", regex = True).astype(float)\n"
          ]
        }
      ]
    },
    {
      "cell_type": "code",
      "source": [
        "Senate.deb_owe_to_com.describe()"
      ],
      "metadata": {
        "colab": {
          "base_uri": "https://localhost:8080/"
        },
        "id": "rlBWJa6Q6ZCk",
        "outputId": "9acc0190-13c1-48d1-f7ca-8c0cf7599834"
      },
      "execution_count": null,
      "outputs": [
        {
          "output_type": "execute_result",
          "data": {
            "text/plain": [
              "count        2.000000\n",
              "mean      6641.500000\n",
              "std       8685.392593\n",
              "min        500.000000\n",
              "25%       3570.750000\n",
              "50%       6641.500000\n",
              "75%       9712.250000\n",
              "max      12783.000000\n",
              "Name: deb_owe_to_com, dtype: float64"
            ]
          },
          "metadata": {},
          "execution_count": 86
        }
      ]
    },
    {
      "cell_type": "code",
      "source": [
        "sns.boxplot(Senate.deb_owe_to_com, Senate.winner)"
      ],
      "metadata": {
        "colab": {
          "base_uri": "https://localhost:8080/",
          "height": 354
        },
        "id": "s1Hb9Eb06amm",
        "outputId": "3fceedef-a2d6-41c7-8918-70798d887286"
      },
      "execution_count": null,
      "outputs": [
        {
          "output_type": "stream",
          "name": "stderr",
          "text": [
            "/usr/local/lib/python3.9/dist-packages/seaborn/_decorators.py:36: FutureWarning: Pass the following variables as keyword args: x, y. From version 0.12, the only valid positional argument will be `data`, and passing other arguments without an explicit keyword will result in an error or misinterpretation.\n",
            "  warnings.warn(\n"
          ]
        },
        {
          "output_type": "execute_result",
          "data": {
            "text/plain": [
              "<AxesSubplot:xlabel='deb_owe_to_com', ylabel='winner'>"
            ]
          },
          "metadata": {},
          "execution_count": 87
        },
        {
          "output_type": "display_data",
          "data": {
            "text/plain": [
              "<Figure size 432x288 with 1 Axes>"
            ],
            "image/png": "[encoded data removed]"
          },
          "metadata": {
            "needs_background": "light"
          }
        }
      ]
    },
    {
      "cell_type": "markdown",
      "source": [
        "big difference in debt owed, so good predictor"
      ],
      "metadata": {
        "id": "y5enU7bdITqB"
      }
    },
    {
      "cell_type": "markdown",
      "source": [
        "##President"
      ],
      "metadata": {
        "id": "L-LtKdtN6jEK"
      }
    },
    {
      "cell_type": "code",
      "source": [
        "President = df.loc[df.can_off==\"P\"]"
      ],
      "metadata": {
        "id": "cPg2iItd7f0X"
      },
      "execution_count": null,
      "outputs": []
    },
    {
      "cell_type": "code",
      "source": [
        "President.head()"
      ],
      "metadata": {
        "colab": {
          "base_uri": "https://localhost:8080/",
          "height": 543
        },
        "id": "eamBSMp37gcu",
        "outputId": "b376fef0-44d6-41dc-d687-3e04a6289807"
      },
      "execution_count": null,
      "outputs": [
        {
          "output_type": "execute_result",
          "data": {
            "text/plain": [
              "         can_id                               can_nam can_off can_off_sta  \\\n",
              "1199  P20000089               FELLURE, LOWELL JACKSON       P          US   \n",
              "1208  P60006202            JONES, DANNY ROYCE MR. SR.       P          US   \n",
              "1319  P80001571  TRUMP, DONALD J. / MICHAEL R. PENCE        P          US   \n",
              "1322  P60005154                       CLARK, BRITTANY       P          US   \n",
              "1323  P60016383                     KITTINGTON, VALMA       P          US   \n",
              "\n",
              "      can_off_dis can_par_aff can_inc_cha_ope_sea  \\\n",
              "1199          0.0         REP          CHALLENGER   \n",
              "1208          0.0         REP          CHALLENGER   \n",
              "1319          0.0         REP                OPEN   \n",
              "1322          0.0         PPY                OPEN   \n",
              "1323          0.0         REP                OPEN   \n",
              "\n",
              "                               can_str1     can_str2         can_cit  ...  \\\n",
              "1199              682 ORCHARD PARK ROAD          NaN       HURRICANE  ...   \n",
              "1208                  609 SW 1ST STREET          NaN          KERENS  ...   \n",
              "1319                   725 FIFTH AVENUE          NaN        NEW YORK  ...   \n",
              "1322  28200 HIGHWAY 189, SUITE F-240-20  PO BOX 0274  LAKE ARROWHEAD  ...   \n",
              "1323                 79 RANDOLPH STREET          NaN    MIDLAND CITY  ...   \n",
              "\n",
              "     cas_on_han_beg_of_per  cas_on_han_clo_of_per           net_con  \\\n",
              "1199              $590.00                $590.00                NaN   \n",
              "1208                   NaN                    NaN               NaN   \n",
              "1319                   NaN        $15,994,453.57   $468,441,873.44    \n",
              "1322                   NaN             $6,453.00                NaN   \n",
              "1323                   NaN                    NaN               NaN   \n",
              "\n",
              "           net_ope_exp  deb_owe_by_com deb_owe_to_com cov_sta_dat cov_end_dat  \\\n",
              "1199               NaN      $3,762.00             NaN    1/1/2015   9/30/2015   \n",
              "1208               NaN             NaN            NaN    1/1/2015   6/30/2015   \n",
              "1319  $923,650,997.64   $2,086,572.41             NaN    4/2/2015  10/19/2016   \n",
              "1322               NaN     $19,586.00     $17,258.00    1/31/2016   1/31/2017   \n",
              "1323               NaN             NaN            NaN   7/15/2015  12/31/2016   \n",
              "\n",
              "     winner votes  \n",
              "1199      N   NaN  \n",
              "1208      N   NaN  \n",
              "1319      Y   NaN  \n",
              "1322      N   NaN  \n",
              "1323      N   NaN  \n",
              "\n",
              "[5 rows x 51 columns]"
            ],
            "text/html": [
              "\n",
              "  <div id=\"df-f99102d6-646d-4cde-9bb4-149380b6ea03\">\n",
              "    <div class=\"colab-df-container\">\n",
              "      <div>\n",
              "<style scoped>\n",
              "    .dataframe tbody tr th:only-of-type {\n",
              "        vertical-align: middle;\n",
              "    }\n",
              "\n",
              "    .dataframe tbody tr th {\n",
              "        vertical-align: top;\n",
              "    }\n",
              "\n",
              "    .dataframe thead th {\n",
              "        text-align: right;\n",
              "    }\n",
              "</style>\n",
              "<table border=\"1\" class=\"dataframe\">\n",
              "  <thead>\n",
              "    <tr style=\"text-align: right;\">\n",
              "      <th></th>\n",
              "      <th>can_id</th>\n",
              "      <th>can_nam</th>\n",
              "      <th>can_off</th>\n",
              "      <th>can_off_sta</th>\n",
              "      <th>can_off_dis</th>\n",
              "      <th>can_par_aff</th>\n",
              "      <th>can_inc_cha_ope_sea</th>\n",
              "      <th>can_str1</th>\n",
              "      <th>can_str2</th>\n",
              "      <th>can_cit</th>\n",
              "      <th>...</th>\n",
              "      <th>cas_on_han_beg_of_per</th>\n",
              "      <th>cas_on_han_clo_of_per</th>\n",
              "      <th>net_con</th>\n",
              "      <th>net_ope_exp</th>\n",
              "      <th>deb_owe_by_com</th>\n",
              "      <th>deb_owe_to_com</th>\n",
              "      <th>cov_sta_dat</th>\n",
              "      <th>cov_end_dat</th>\n",
              "      <th>winner</th>\n",
              "      <th>votes</th>\n",
              "    </tr>\n",
              "  </thead>\n",
              "  <tbody>\n",
              "    <tr>\n",
              "      <th>1199</th>\n",
              "      <td>P20000089</td>\n",
              "      <td>FELLURE, LOWELL JACKSON</td>\n",
              "      <td>P</td>\n",
              "      <td>US</td>\n",
              "      <td>0.0</td>\n",
              "      <td>REP</td>\n",
              "      <td>CHALLENGER</td>\n",
              "      <td>682 ORCHARD PARK ROAD</td>\n",
              "      <td>NaN</td>\n",
              "      <td>HURRICANE</td>\n",
              "      <td>...</td>\n",
              "      <td>$590.00</td>\n",
              "      <td>$590.00</td>\n",
              "      <td>NaN</td>\n",
              "      <td>NaN</td>\n",
              "      <td>$3,762.00</td>\n",
              "      <td>NaN</td>\n",
              "      <td>1/1/2015</td>\n",
              "      <td>9/30/2015</td>\n",
              "      <td>N</td>\n",
              "      <td>NaN</td>\n",
              "    </tr>\n",
              "    <tr>\n",
              "      <th>1208</th>\n",
              "      <td>P60006202</td>\n",
              "      <td>JONES, DANNY ROYCE MR. SR.</td>\n",
              "      <td>P</td>\n",
              "      <td>US</td>\n",
              "      <td>0.0</td>\n",
              "      <td>REP</td>\n",
              "      <td>CHALLENGER</td>\n",
              "      <td>609 SW 1ST STREET</td>\n",
              "      <td>NaN</td>\n",
              "      <td>KERENS</td>\n",
              "      <td>...</td>\n",
              "      <td>NaN</td>\n",
              "      <td>NaN</td>\n",
              "      <td>NaN</td>\n",
              "      <td>NaN</td>\n",
              "      <td>NaN</td>\n",
              "      <td>NaN</td>\n",
              "      <td>1/1/2015</td>\n",
              "      <td>6/30/2015</td>\n",
              "      <td>N</td>\n",
              "      <td>NaN</td>\n",
              "    </tr>\n",
              "    <tr>\n",
              "      <th>1319</th>\n",
              "      <td>P80001571</td>\n",
              "      <td>TRUMP, DONALD J. / MICHAEL R. PENCE</td>\n",
              "      <td>P</td>\n",
              "      <td>US</td>\n",
              "      <td>0.0</td>\n",
              "      <td>REP</td>\n",
              "      <td>OPEN</td>\n",
              "      <td>725 FIFTH AVENUE</td>\n",
              "      <td>NaN</td>\n",
              "      <td>NEW YORK</td>\n",
              "      <td>...</td>\n",
              "      <td>NaN</td>\n",
              "      <td>$15,994,453.57</td>\n",
              "      <td>$468,441,873.44</td>\n",
              "      <td>$923,650,997.64</td>\n",
              "      <td>$2,086,572.41</td>\n",
              "      <td>NaN</td>\n",
              "      <td>4/2/2015</td>\n",
              "      <td>10/19/2016</td>\n",
              "      <td>Y</td>\n",
              "      <td>NaN</td>\n",
              "    </tr>\n",
              "    <tr>\n",
              "      <th>1322</th>\n",
              "      <td>P60005154</td>\n",
              "      <td>CLARK, BRITTANY</td>\n",
              "      <td>P</td>\n",
              "      <td>US</td>\n",
              "      <td>0.0</td>\n",
              "      <td>PPY</td>\n",
              "      <td>OPEN</td>\n",
              "      <td>28200 HIGHWAY 189, SUITE F-240-20</td>\n",
              "      <td>PO BOX 0274</td>\n",
              "      <td>LAKE ARROWHEAD</td>\n",
              "      <td>...</td>\n",
              "      <td>NaN</td>\n",
              "      <td>$6,453.00</td>\n",
              "      <td>NaN</td>\n",
              "      <td>NaN</td>\n",
              "      <td>$19,586.00</td>\n",
              "      <td>$17,258.00</td>\n",
              "      <td>1/31/2016</td>\n",
              "      <td>1/31/2017</td>\n",
              "      <td>N</td>\n",
              "      <td>NaN</td>\n",
              "    </tr>\n",
              "    <tr>\n",
              "      <th>1323</th>\n",
              "      <td>P60016383</td>\n",
              "      <td>KITTINGTON, VALMA</td>\n",
              "      <td>P</td>\n",
              "      <td>US</td>\n",
              "      <td>0.0</td>\n",
              "      <td>REP</td>\n",
              "      <td>OPEN</td>\n",
              "      <td>79 RANDOLPH STREET</td>\n",
              "      <td>NaN</td>\n",
              "      <td>MIDLAND CITY</td>\n",
              "      <td>...</td>\n",
              "      <td>NaN</td>\n",
              "      <td>NaN</td>\n",
              "      <td>NaN</td>\n",
              "      <td>NaN</td>\n",
              "      <td>NaN</td>\n",
              "      <td>NaN</td>\n",
              "      <td>7/15/2015</td>\n",
              "      <td>12/31/2016</td>\n",
              "      <td>N</td>\n",
              "      <td>NaN</td>\n",
              "    </tr>\n",
              "  </tbody>\n",
              "</table>\n",
              "<p>5 rows × 51 columns</p>\n",
              "</div>\n",
              "      <button class=\"colab-df-convert\" onclick=\"convertToInteractive('df-f99102d6-646d-4cde-9bb4-149380b6ea03')\"\n",
              "              title=\"Convert this dataframe to an interactive table.\"\n",
              "              style=\"display:none;\">\n",
              "        \n",
              "  <svg xmlns=\"http://www.w3.org/2000/svg\" height=\"24px\"viewBox=\"0 0 24 24\"\n",
              "       width=\"24px\">\n",
              "    <path d=\"M0 0h24v24H0V0z\" fill=\"none\"/>\n",
              "    <path d=\"M18.56 5.44l.94 2.06.94-2.06 2.06-.94-2.06-.94-.94-2.06-.94 2.06-2.06.94zm-11 1L8.5 8.5l.94-2.06 2.06-.94-2.06-.94L8.5 2.5l-.94 2.06-2.06.94zm10 10l.94 2.06.94-2.06 2.06-.94-2.06-.94-.94-2.06-.94 2.06-2.06.94z\"/><path d=\"M17.41 7.96l-1.37-1.37c-.4-.4-.92-.59-1.43-.59-.52 0-1.04.2-1.43.59L10.3 9.45l-7.72 7.72c-.78.78-.78 2.05 0 2.83L4 21.41c.39.39.9.59 1.41.59.51 0 1.02-.2 1.41-.59l7.78-7.78 2.81-2.81c.8-.78.8-2.07 0-2.86zM5.41 20L4 18.59l7.72-7.72 1.47 1.35L5.41 20z\"/>\n",
              "  </svg>\n",
              "      </button>\n",
              "      \n",
              "  <style>\n",
              "    .colab-df-container {\n",
              "      display:flex;\n",
              "      flex-wrap:wrap;\n",
              "      gap: 12px;\n",
              "    }\n",
              "\n",
              "    .colab-df-convert {\n",
              "      background-color: #E8F0FE;\n",
              "      border: none;\n",
              "      border-radius: 50%;\n",
              "      cursor: pointer;\n",
              "      display: none;\n",
              "      fill: #1967D2;\n",
              "      height: 32px;\n",
              "      padding: 0 0 0 0;\n",
              "      width: 32px;\n",
              "    }\n",
              "\n",
              "    .colab-df-convert:hover {\n",
              "      background-color: #E2EBFA;\n",
              "      box-shadow: 0px 1px 2px rgba(60, 64, 67, 0.3), 0px 1px 3px 1px rgba(60, 64, 67, 0.15);\n",
              "      fill: #174EA6;\n",
              "    }\n",
              "\n",
              "    [theme=dark] .colab-df-convert {\n",
              "      background-color: #3B4455;\n",
              "      fill: #D2E3FC;\n",
              "    }\n",
              "\n",
              "    [theme=dark] .colab-df-convert:hover {\n",
              "      background-color: #434B5C;\n",
              "      box-shadow: 0px 1px 3px 1px rgba(0, 0, 0, 0.15);\n",
              "      filter: drop-shadow(0px 1px 2px rgba(0, 0, 0, 0.3));\n",
              "      fill: #FFFFFF;\n",
              "    }\n",
              "  </style>\n",
              "\n",
              "      <script>\n",
              "        const buttonEl =\n",
              "          document.querySelector('#df-f99102d6-646d-4cde-9bb4-149380b6ea03 button.colab-df-convert');\n",
              "        buttonEl.style.display =\n",
              "          google.colab.kernel.accessAllowed ? 'block' : 'none';\n",
              "\n",
              "        async function convertToInteractive(key) {\n",
              "          const element = document.querySelector('#df-f99102d6-646d-4cde-9bb4-149380b6ea03');\n",
              "          const dataTable =\n",
              "            await google.colab.kernel.invokeFunction('convertToInteractive',\n",
              "                                                     [key], {});\n",
              "          if (!dataTable) return;\n",
              "\n",
              "          const docLinkHtml = 'Like what you see? Visit the ' +\n",
              "            '<a target=\"_blank\" href=https://colab.research.google.com/notebooks/data_table.ipynb>data table notebook</a>'\n",
              "            + ' to learn more about interactive tables.';\n",
              "          element.innerHTML = '';\n",
              "          dataTable['output_type'] = 'display_data';\n",
              "          await google.colab.output.renderOutput(dataTable, element);\n",
              "          const docLink = document.createElement('div');\n",
              "          docLink.innerHTML = docLinkHtml;\n",
              "          element.appendChild(docLink);\n",
              "        }\n",
              "      </script>\n",
              "    </div>\n",
              "  </div>\n",
              "  "
            ]
          },
          "metadata": {},
          "execution_count": 89
        }
      ]
    },
    {
      "cell_type": "code",
      "source": [
        "President_state = President.can_off_sta.value_counts().to_frame()"
      ],
      "metadata": {
        "id": "ZYyvLUL77jFN"
      },
      "execution_count": null,
      "outputs": []
    },
    {
      "cell_type": "code",
      "source": [
        "President_state.head()"
      ],
      "metadata": {
        "colab": {
          "base_uri": "https://localhost:8080/",
          "height": 81
        },
        "id": "0iJgsDRZ7jnf",
        "outputId": "3b40f180-f09a-4f3e-9909-2b05fa37e620"
      },
      "execution_count": null,
      "outputs": [
        {
          "output_type": "execute_result",
          "data": {
            "text/plain": [
              "    can_off_sta\n",
              "US          158"
            ],
            "text/html": [
              "\n",
              "  <div id=\"df-83527c65-3d7f-414b-b072-5bcb57cf6ae3\">\n",
              "    <div class=\"colab-df-container\">\n",
              "      <div>\n",
              "<style scoped>\n",
              "    .dataframe tbody tr th:only-of-type {\n",
              "        vertical-align: middle;\n",
              "    }\n",
              "\n",
              "    .dataframe tbody tr th {\n",
              "        vertical-align: top;\n",
              "    }\n",
              "\n",
              "    .dataframe thead th {\n",
              "        text-align: right;\n",
              "    }\n",
              "</style>\n",
              "<table border=\"1\" class=\"dataframe\">\n",
              "  <thead>\n",
              "    <tr style=\"text-align: right;\">\n",
              "      <th></th>\n",
              "      <th>can_off_sta</th>\n",
              "    </tr>\n",
              "  </thead>\n",
              "  <tbody>\n",
              "    <tr>\n",
              "      <th>US</th>\n",
              "      <td>158</td>\n",
              "    </tr>\n",
              "  </tbody>\n",
              "</table>\n",
              "</div>\n",
              "      <button class=\"colab-df-convert\" onclick=\"convertToInteractive('df-83527c65-3d7f-414b-b072-5bcb57cf6ae3')\"\n",
              "              title=\"Convert this dataframe to an interactive table.\"\n",
              "              style=\"display:none;\">\n",
              "        \n",
              "  <svg xmlns=\"http://www.w3.org/2000/svg\" height=\"24px\"viewBox=\"0 0 24 24\"\n",
              "       width=\"24px\">\n",
              "    <path d=\"M0 0h24v24H0V0z\" fill=\"none\"/>\n",
              "    <path d=\"M18.56 5.44l.94 2.06.94-2.06 2.06-.94-2.06-.94-.94-2.06-.94 2.06-2.06.94zm-11 1L8.5 8.5l.94-2.06 2.06-.94-2.06-.94L8.5 2.5l-.94 2.06-2.06.94zm10 10l.94 2.06.94-2.06 2.06-.94-2.06-.94-.94-2.06-.94 2.06-2.06.94z\"/><path d=\"M17.41 7.96l-1.37-1.37c-.4-.4-.92-.59-1.43-.59-.52 0-1.04.2-1.43.59L10.3 9.45l-7.72 7.72c-.78.78-.78 2.05 0 2.83L4 21.41c.39.39.9.59 1.41.59.51 0 1.02-.2 1.41-.59l7.78-7.78 2.81-2.81c.8-.78.8-2.07 0-2.86zM5.41 20L4 18.59l7.72-7.72 1.47 1.35L5.41 20z\"/>\n",
              "  </svg>\n",
              "      </button>\n",
              "      \n",
              "  <style>\n",
              "    .colab-df-container {\n",
              "      display:flex;\n",
              "      flex-wrap:wrap;\n",
              "      gap: 12px;\n",
              "    }\n",
              "\n",
              "    .colab-df-convert {\n",
              "      background-color: #E8F0FE;\n",
              "      border: none;\n",
              "      border-radius: 50%;\n",
              "      cursor: pointer;\n",
              "      display: none;\n",
              "      fill: #1967D2;\n",
              "      height: 32px;\n",
              "      padding: 0 0 0 0;\n",
              "      width: 32px;\n",
              "    }\n",
              "\n",
              "    .colab-df-convert:hover {\n",
              "      background-color: #E2EBFA;\n",
              "      box-shadow: 0px 1px 2px rgba(60, 64, 67, 0.3), 0px 1px 3px 1px rgba(60, 64, 67, 0.15);\n",
              "      fill: #174EA6;\n",
              "    }\n",
              "\n",
              "    [theme=dark] .colab-df-convert {\n",
              "      background-color: #3B4455;\n",
              "      fill: #D2E3FC;\n",
              "    }\n",
              "\n",
              "    [theme=dark] .colab-df-convert:hover {\n",
              "      background-color: #434B5C;\n",
              "      box-shadow: 0px 1px 3px 1px rgba(0, 0, 0, 0.15);\n",
              "      filter: drop-shadow(0px 1px 2px rgba(0, 0, 0, 0.3));\n",
              "      fill: #FFFFFF;\n",
              "    }\n",
              "  </style>\n",
              "\n",
              "      <script>\n",
              "        const buttonEl =\n",
              "          document.querySelector('#df-83527c65-3d7f-414b-b072-5bcb57cf6ae3 button.colab-df-convert');\n",
              "        buttonEl.style.display =\n",
              "          google.colab.kernel.accessAllowed ? 'block' : 'none';\n",
              "\n",
              "        async function convertToInteractive(key) {\n",
              "          const element = document.querySelector('#df-83527c65-3d7f-414b-b072-5bcb57cf6ae3');\n",
              "          const dataTable =\n",
              "            await google.colab.kernel.invokeFunction('convertToInteractive',\n",
              "                                                     [key], {});\n",
              "          if (!dataTable) return;\n",
              "\n",
              "          const docLinkHtml = 'Like what you see? Visit the ' +\n",
              "            '<a target=\"_blank\" href=https://colab.research.google.com/notebooks/data_table.ipynb>data table notebook</a>'\n",
              "            + ' to learn more about interactive tables.';\n",
              "          element.innerHTML = '';\n",
              "          dataTable['output_type'] = 'display_data';\n",
              "          await google.colab.output.renderOutput(dataTable, element);\n",
              "          const docLink = document.createElement('div');\n",
              "          docLink.innerHTML = docLinkHtml;\n",
              "          element.appendChild(docLink);\n",
              "        }\n",
              "      </script>\n",
              "    </div>\n",
              "  </div>\n",
              "  "
            ]
          },
          "metadata": {},
          "execution_count": 91
        }
      ]
    },
    {
      "cell_type": "code",
      "source": [
        "plt.bar(President_state.index, President_state.can_off_sta)"
      ],
      "metadata": {
        "colab": {
          "base_uri": "https://localhost:8080/",
          "height": 283
        },
        "id": "KJRheH1R7k6S",
        "outputId": "491d2c1b-a771-4d68-a2a5-aad35bb35f17"
      },
      "execution_count": null,
      "outputs": [
        {
          "output_type": "execute_result",
          "data": {
            "text/plain": [
              "<BarContainer object of 1 artists>"
            ]
          },
          "metadata": {},
          "execution_count": 92
        },
        {
          "output_type": "display_data",
          "data": {
            "text/plain": [
              "<Figure size 432x288 with 1 Axes>"
            ],
            "image/png": "[encoded data removed]"
          },
          "metadata": {
            "needs_background": "light"
          }
        }
      ]
    },
    {
      "cell_type": "code",
      "source": [
        "President_district = President.can_off_dis.value_counts().to_frame()"
      ],
      "metadata": {
        "id": "fzVCmTAQ7mS1"
      },
      "execution_count": null,
      "outputs": []
    },
    {
      "cell_type": "code",
      "source": [
        "President_district.head()"
      ],
      "metadata": {
        "colab": {
          "base_uri": "https://localhost:8080/",
          "height": 81
        },
        "id": "E7tquGje7_yk",
        "outputId": "f8f35457-f059-4a0f-ca75-71481463edff"
      },
      "execution_count": null,
      "outputs": [
        {
          "output_type": "execute_result",
          "data": {
            "text/plain": [
              "     can_off_dis\n",
              "0.0          158"
            ],
            "text/html": [
              "\n",
              "  <div id=\"df-8ba16bba-ad5b-45e0-889e-75f230fc3cd4\">\n",
              "    <div class=\"colab-df-container\">\n",
              "      <div>\n",
              "<style scoped>\n",
              "    .dataframe tbody tr th:only-of-type {\n",
              "        vertical-align: middle;\n",
              "    }\n",
              "\n",
              "    .dataframe tbody tr th {\n",
              "        vertical-align: top;\n",
              "    }\n",
              "\n",
              "    .dataframe thead th {\n",
              "        text-align: right;\n",
              "    }\n",
              "</style>\n",
              "<table border=\"1\" class=\"dataframe\">\n",
              "  <thead>\n",
              "    <tr style=\"text-align: right;\">\n",
              "      <th></th>\n",
              "      <th>can_off_dis</th>\n",
              "    </tr>\n",
              "  </thead>\n",
              "  <tbody>\n",
              "    <tr>\n",
              "      <th>0.0</th>\n",
              "      <td>158</td>\n",
              "    </tr>\n",
              "  </tbody>\n",
              "</table>\n",
              "</div>\n",
              "      <button class=\"colab-df-convert\" onclick=\"convertToInteractive('df-8ba16bba-ad5b-45e0-889e-75f230fc3cd4')\"\n",
              "              title=\"Convert this dataframe to an interactive table.\"\n",
              "              style=\"display:none;\">\n",
              "        \n",
              "  <svg xmlns=\"http://www.w3.org/2000/svg\" height=\"24px\"viewBox=\"0 0 24 24\"\n",
              "       width=\"24px\">\n",
              "    <path d=\"M0 0h24v24H0V0z\" fill=\"none\"/>\n",
              "    <path d=\"M18.56 5.44l.94 2.06.94-2.06 2.06-.94-2.06-.94-.94-2.06-.94 2.06-2.06.94zm-11 1L8.5 8.5l.94-2.06 2.06-.94-2.06-.94L8.5 2.5l-.94 2.06-2.06.94zm10 10l.94 2.06.94-2.06 2.06-.94-2.06-.94-.94-2.06-.94 2.06-2.06.94z\"/><path d=\"M17.41 7.96l-1.37-1.37c-.4-.4-.92-.59-1.43-.59-.52 0-1.04.2-1.43.59L10.3 9.45l-7.72 7.72c-.78.78-.78 2.05 0 2.83L4 21.41c.39.39.9.59 1.41.59.51 0 1.02-.2 1.41-.59l7.78-7.78 2.81-2.81c.8-.78.8-2.07 0-2.86zM5.41 20L4 18.59l7.72-7.72 1.47 1.35L5.41 20z\"/>\n",
              "  </svg>\n",
              "      </button>\n",
              "      \n",
              "  <style>\n",
              "    .colab-df-container {\n",
              "      display:flex;\n",
              "      flex-wrap:wrap;\n",
              "      gap: 12px;\n",
              "    }\n",
              "\n",
              "    .colab-df-convert {\n",
              "      background-color: #E8F0FE;\n",
              "      border: none;\n",
              "      border-radius: 50%;\n",
              "      cursor: pointer;\n",
              "      display: none;\n",
              "      fill: #1967D2;\n",
              "      height: 32px;\n",
              "      padding: 0 0 0 0;\n",
              "      width: 32px;\n",
              "    }\n",
              "\n",
              "    .colab-df-convert:hover {\n",
              "      background-color: #E2EBFA;\n",
              "      box-shadow: 0px 1px 2px rgba(60, 64, 67, 0.3), 0px 1px 3px 1px rgba(60, 64, 67, 0.15);\n",
              "      fill: #174EA6;\n",
              "    }\n",
              "\n",
              "    [theme=dark] .colab-df-convert {\n",
              "      background-color: #3B4455;\n",
              "      fill: #D2E3FC;\n",
              "    }\n",
              "\n",
              "    [theme=dark] .colab-df-convert:hover {\n",
              "      background-color: #434B5C;\n",
              "      box-shadow: 0px 1px 3px 1px rgba(0, 0, 0, 0.15);\n",
              "      filter: drop-shadow(0px 1px 2px rgba(0, 0, 0, 0.3));\n",
              "      fill: #FFFFFF;\n",
              "    }\n",
              "  </style>\n",
              "\n",
              "      <script>\n",
              "        const buttonEl =\n",
              "          document.querySelector('#df-8ba16bba-ad5b-45e0-889e-75f230fc3cd4 button.colab-df-convert');\n",
              "        buttonEl.style.display =\n",
              "          google.colab.kernel.accessAllowed ? 'block' : 'none';\n",
              "\n",
              "        async function convertToInteractive(key) {\n",
              "          const element = document.querySelector('#df-8ba16bba-ad5b-45e0-889e-75f230fc3cd4');\n",
              "          const dataTable =\n",
              "            await google.colab.kernel.invokeFunction('convertToInteractive',\n",
              "                                                     [key], {});\n",
              "          if (!dataTable) return;\n",
              "\n",
              "          const docLinkHtml = 'Like what you see? Visit the ' +\n",
              "            '<a target=\"_blank\" href=https://colab.research.google.com/notebooks/data_table.ipynb>data table notebook</a>'\n",
              "            + ' to learn more about interactive tables.';\n",
              "          element.innerHTML = '';\n",
              "          dataTable['output_type'] = 'display_data';\n",
              "          await google.colab.output.renderOutput(dataTable, element);\n",
              "          const docLink = document.createElement('div');\n",
              "          docLink.innerHTML = docLinkHtml;\n",
              "          element.appendChild(docLink);\n",
              "        }\n",
              "      </script>\n",
              "    </div>\n",
              "  </div>\n",
              "  "
            ]
          },
          "metadata": {},
          "execution_count": 94
        }
      ]
    },
    {
      "cell_type": "code",
      "source": [
        "plt.bar(President_district.index, President_district.can_off_dis)"
      ],
      "metadata": {
        "colab": {
          "base_uri": "https://localhost:8080/",
          "height": 283
        },
        "id": "soDI_Wj78BrW",
        "outputId": "ae85dbd6-8ef1-45a7-9780-9f0ce4e11c20"
      },
      "execution_count": null,
      "outputs": [
        {
          "output_type": "execute_result",
          "data": {
            "text/plain": [
              "<BarContainer object of 1 artists>"
            ]
          },
          "metadata": {},
          "execution_count": 95
        },
        {
          "output_type": "display_data",
          "data": {
            "text/plain": [
              "<Figure size 432x288 with 1 Axes>"
            ],
            "image/png": "[encoded data removed]"
          },
          "metadata": {
            "needs_background": "light"
          }
        }
      ]
    },
    {
      "cell_type": "code",
      "source": [
        "President[[\"can_par_aff\", \"winner\"]].value_counts()"
      ],
      "metadata": {
        "colab": {
          "base_uri": "https://localhost:8080/"
        },
        "id": "Upw1BqlK8DiS",
        "outputId": "6863bdba-523e-4382-bdca-3628265c5b03"
      },
      "execution_count": null,
      "outputs": [
        {
          "output_type": "execute_result",
          "data": {
            "text/plain": [
              "can_par_aff  winner\n",
              "REP          N         51\n",
              "IND          N         37\n",
              "DEM          N         23\n",
              "NNE          N         10\n",
              "LIB          N          7\n",
              "UNK          N          6\n",
              "OTH          N          4\n",
              "GRE          N          4\n",
              "UN           N          3\n",
              "W            N          2\n",
              "IDP          N          2\n",
              "CON          N          1\n",
              "PBP          N          1\n",
              "PFD          N          1\n",
              "PPY          N          1\n",
              "NPA          N          1\n",
              "REP          Y          1\n",
              "SEP          N          1\n",
              "CST          N          1\n",
              "AMP          N          1\n",
              "dtype: int64"
            ]
          },
          "metadata": {},
          "execution_count": 96
        }
      ]
    },
    {
      "cell_type": "code",
      "source": [
        "other_parties = President.can_par_aff.value_counts().to_frame().index.to_list()"
      ],
      "metadata": {
        "id": "1UInNyiD8cJY"
      },
      "execution_count": null,
      "outputs": []
    },
    {
      "cell_type": "code",
      "source": [
        "other_parties"
      ],
      "metadata": {
        "colab": {
          "base_uri": "https://localhost:8080/"
        },
        "id": "Sc_y85hk5fxQ",
        "outputId": "6da9daa0-f049-4677-882c-faeb983f2440"
      },
      "execution_count": null,
      "outputs": [
        {
          "output_type": "execute_result",
          "data": {
            "text/plain": [
              "['REP',\n",
              " 'IND',\n",
              " 'DEM',\n",
              " 'NNE',\n",
              " 'LIB',\n",
              " 'UNK',\n",
              " 'GRE',\n",
              " 'OTH',\n",
              " 'UN',\n",
              " 'W',\n",
              " 'IDP',\n",
              " 'CON',\n",
              " 'AMP',\n",
              " 'NPA',\n",
              " 'PPY',\n",
              " 'PFD',\n",
              " 'PBP',\n",
              " 'SEP',\n",
              " 'CST']"
            ]
          },
          "metadata": {},
          "execution_count": 98
        }
      ]
    },
    {
      "cell_type": "code",
      "source": [
        "other_parties = other_parties[3:]"
      ],
      "metadata": {
        "id": "14cTQzxd5n-K"
      },
      "execution_count": null,
      "outputs": []
    },
    {
      "cell_type": "code",
      "source": [
        "other_parties.append(\"IND\")"
      ],
      "metadata": {
        "id": "35049OrQ54fq"
      },
      "execution_count": null,
      "outputs": []
    },
    {
      "cell_type": "code",
      "source": [
        "other_parties"
      ],
      "metadata": {
        "colab": {
          "base_uri": "https://localhost:8080/"
        },
        "id": "UZTPNQ7_8d33",
        "outputId": "aedc0460-57f7-4825-d56f-9d0e5b3af9df"
      },
      "execution_count": null,
      "outputs": [
        {
          "output_type": "execute_result",
          "data": {
            "text/plain": [
              "['NNE',\n",
              " 'LIB',\n",
              " 'UNK',\n",
              " 'GRE',\n",
              " 'OTH',\n",
              " 'UN',\n",
              " 'W',\n",
              " 'IDP',\n",
              " 'CON',\n",
              " 'AMP',\n",
              " 'NPA',\n",
              " 'PPY',\n",
              " 'PFD',\n",
              " 'PBP',\n",
              " 'SEP',\n",
              " 'CST',\n",
              " 'IND']"
            ]
          },
          "metadata": {},
          "execution_count": 101
        }
      ]
    },
    {
      "cell_type": "code",
      "source": [
        "President[\"can_par_aff\"].isin(other_parties)"
      ],
      "metadata": {
        "colab": {
          "base_uri": "https://localhost:8080/"
        },
        "id": "35aA3sAN8fLw",
        "outputId": "5fb72879-a4c6-4839-b42c-c7e0314875b5"
      },
      "execution_count": null,
      "outputs": [
        {
          "output_type": "execute_result",
          "data": {
            "text/plain": [
              "1199    False\n",
              "1208    False\n",
              "1319    False\n",
              "1322     True\n",
              "1323    False\n",
              "        ...  \n",
              "1805    False\n",
              "1806     True\n",
              "1807     True\n",
              "1808    False\n",
              "1809     True\n",
              "Name: can_par_aff, Length: 158, dtype: bool"
            ]
          },
          "metadata": {},
          "execution_count": 102
        }
      ]
    },
    {
      "cell_type": "code",
      "source": [
        "President.loc[President[\"can_par_aff\"].isin(other_parties),\"can_par_aff\"] = \"other\""
      ],
      "metadata": {
        "id": "3WKe_HBO8g6t"
      },
      "execution_count": null,
      "outputs": []
    },
    {
      "cell_type": "code",
      "source": [
        "President[[\"can_par_aff\", \"winner\"]].value_counts()"
      ],
      "metadata": {
        "colab": {
          "base_uri": "https://localhost:8080/"
        },
        "id": "MnvKb4jA8iOJ",
        "outputId": "16791bac-4c67-4f5e-8699-4553ec42d73e"
      },
      "execution_count": null,
      "outputs": [
        {
          "output_type": "execute_result",
          "data": {
            "text/plain": [
              "can_par_aff  winner\n",
              "other        N         83\n",
              "REP          N         51\n",
              "DEM          N         23\n",
              "REP          Y          1\n",
              "dtype: int64"
            ]
          },
          "metadata": {},
          "execution_count": 104
        }
      ]
    },
    {
      "cell_type": "code",
      "source": [
        "from pandas.tseries.offsets import YearBegin\n",
        "X = ['REP', 'DEM','other']\n",
        "Y = [1,0,0]\n",
        "N = [51,23,83]\n",
        "\n",
        "X_axis = np.arange(len(X))\n",
        "\n",
        "plt.bar(X_axis - 0.2, Y, 0.4, label = 'Yes')\n",
        "plt.bar(X_axis + 0.2, N, 0.4, label = 'No')\n",
        "\n",
        "plt.xticks(X_axis, X)\n",
        "plt.xlabel(\"Political Party\")\n",
        "plt.ylabel(\"# of Candidates\")\n",
        "plt.title(\"Number of Candidates in each group\")\n",
        "plt.legend()\n",
        "plt.show()"
      ],
      "metadata": {
        "colab": {
          "base_uri": "https://localhost:8080/",
          "height": 295
        },
        "id": "KwvfuiJ-8jkO",
        "outputId": "6eae4520-442d-438f-cb49-98c8ef5af65e"
      },
      "execution_count": null,
      "outputs": [
        {
          "output_type": "display_data",
          "data": {
            "text/plain": [
              "<Figure size 432x288 with 1 Axes>"
            ],
            "image/png": "[encoded data removed]"
          },
          "metadata": {
            "needs_background": "light"
          }
        }
      ]
    },
    {
      "cell_type": "code",
      "source": [
        "can_inc_cha_ope_se = President.can_inc_cha_ope_sea.value_counts().to_frame().index.to_list()"
      ],
      "metadata": {
        "id": "BSP3CGNP92FG"
      },
      "execution_count": null,
      "outputs": []
    },
    {
      "cell_type": "code",
      "source": [
        "can_inc_cha_ope_se"
      ],
      "metadata": {
        "colab": {
          "base_uri": "https://localhost:8080/"
        },
        "id": "Vgxx2ew996mV",
        "outputId": "67552a74-ccf0-4a03-e302-c89da3b32302"
      },
      "execution_count": null,
      "outputs": [
        {
          "output_type": "execute_result",
          "data": {
            "text/plain": [
              "['OPEN', 'CHALLENGER']"
            ]
          },
          "metadata": {},
          "execution_count": 107
        }
      ]
    },
    {
      "cell_type": "code",
      "source": [
        "President.can_inc_cha_ope_sea.value_counts()"
      ],
      "metadata": {
        "colab": {
          "base_uri": "https://localhost:8080/"
        },
        "id": "FoxRUzCb-McV",
        "outputId": "1f70b9ed-5adc-47ad-dd6f-ac894a7d14bc"
      },
      "execution_count": null,
      "outputs": [
        {
          "output_type": "execute_result",
          "data": {
            "text/plain": [
              "OPEN          156\n",
              "CHALLENGER      2\n",
              "Name: can_inc_cha_ope_sea, dtype: int64"
            ]
          },
          "metadata": {},
          "execution_count": 108
        }
      ]
    },
    {
      "cell_type": "code",
      "source": [
        "President[[\"can_inc_cha_ope_sea\", \"winner\"]].value_counts()"
      ],
      "metadata": {
        "colab": {
          "base_uri": "https://localhost:8080/"
        },
        "id": "ZMgJxKOd99n8",
        "outputId": "4dab65ee-c464-4900-dd9a-c90475eda738"
      },
      "execution_count": null,
      "outputs": [
        {
          "output_type": "execute_result",
          "data": {
            "text/plain": [
              "can_inc_cha_ope_sea  winner\n",
              "OPEN                 N         155\n",
              "CHALLENGER           N           2\n",
              "OPEN                 Y           1\n",
              "dtype: int64"
            ]
          },
          "metadata": {},
          "execution_count": 109
        }
      ]
    },
    {
      "cell_type": "code",
      "source": [
        "from pandas.tseries.offsets import YearBegin\n",
        "X = ['Challenger', 'Incumbent','Open']\n",
        "Y = [15,379, 41]\n",
        "N = [698,17,277]\n",
        "\n",
        "X_axis = np.arange(len(X))\n",
        "\n",
        "plt.bar(X_axis - 0.2, Y, 0.4, label = 'Yes')\n",
        "plt.bar(X_axis + 0.2, N, 0.4, label = 'No')\n",
        "\n",
        "plt.xticks(X_axis, X)\n",
        "plt.xlabel(\"Candidate Incumbent Challenger Open Seat\")\n",
        "plt.ylabel(\"# of Candidates\")\n",
        "plt.title(\"Number of Candidates in each seat\")\n",
        "plt.legend()\n",
        "plt.show()"
      ],
      "metadata": {
        "colab": {
          "base_uri": "https://localhost:8080/",
          "height": 295
        },
        "id": "O12TLOXV9_OR",
        "outputId": "86efc711-f264-4830-9451-f2b3a140aae3"
      },
      "execution_count": null,
      "outputs": [
        {
          "output_type": "display_data",
          "data": {
            "text/plain": [
              "<Figure size 432x288 with 1 Axes>"
            ],
            "image/png": "[encoded data removed]"
          },
          "metadata": {
            "needs_background": "light"
          }
        }
      ]
    },
    {
      "cell_type": "code",
      "source": [
        "President[\"cas_on_han_beg_of_per\"] = President.cas_on_han_beg_of_per.replace(\"\\$\", \"\", regex = True).replace(\",\", \"\", regex = True).replace(\"[()]\", \"\", regex = True).astype(float)"
      ],
      "metadata": {
        "colab": {
          "base_uri": "https://localhost:8080/"
        },
        "id": "hxMvWfko-Y1V",
        "outputId": "f88f8284-16af-4241-8da5-6ef52180217c"
      },
      "execution_count": null,
      "outputs": [
        {
          "output_type": "stream",
          "name": "stderr",
          "text": [
            "<ipython-input-111-79f4a514d34e>:1: SettingWithCopyWarning: \n",
            "A value is trying to be set on a copy of a slice from a DataFrame.\n",
            "Try using .loc[row_indexer,col_indexer] = value instead\n",
            "\n",
            "See the caveats in the documentation: https://pandas.pydata.org/pandas-docs/stable/user_guide/indexing.html#returning-a-view-versus-a-copy\n",
            "  President[\"cas_on_han_beg_of_per\"] = President.cas_on_han_beg_of_per.replace(\"\\$\", \"\", regex = True).replace(\",\", \"\", regex = True).replace(\"[()]\", \"\", regex = True).astype(float)\n"
          ]
        }
      ]
    },
    {
      "cell_type": "code",
      "source": [
        "President.cas_on_han_beg_of_per.describe()"
      ],
      "metadata": {
        "colab": {
          "base_uri": "https://localhost:8080/"
        },
        "id": "9Bgt_7cO-b32",
        "outputId": "6c473a54-6cdb-4ca7-bc65-9ee7c8cd692b"
      },
      "execution_count": null,
      "outputs": [
        {
          "output_type": "execute_result",
          "data": {
            "text/plain": [
              "count    4.000000e+01\n",
              "mean     9.380479e+04\n",
              "std      5.289303e+05\n",
              "min      2.000000e+00\n",
              "25%      9.550000e+01\n",
              "50%      6.126350e+02\n",
              "75%      3.661000e+03\n",
              "max      3.338454e+06\n",
              "Name: cas_on_han_beg_of_per, dtype: float64"
            ]
          },
          "metadata": {},
          "execution_count": 112
        }
      ]
    },
    {
      "cell_type": "code",
      "source": [
        "sns.boxplot(President.cas_on_han_beg_of_per, President.winner)"
      ],
      "metadata": {
        "colab": {
          "base_uri": "https://localhost:8080/",
          "height": 354
        },
        "id": "BvpItrWG-dHS",
        "outputId": "5853def2-22b7-4113-bf94-2fb908a51799"
      },
      "execution_count": null,
      "outputs": [
        {
          "output_type": "stream",
          "name": "stderr",
          "text": [
            "/usr/local/lib/python3.9/dist-packages/seaborn/_decorators.py:36: FutureWarning: Pass the following variables as keyword args: x, y. From version 0.12, the only valid positional argument will be `data`, and passing other arguments without an explicit keyword will result in an error or misinterpretation.\n",
            "  warnings.warn(\n"
          ]
        },
        {
          "output_type": "execute_result",
          "data": {
            "text/plain": [
              "<AxesSubplot:xlabel='cas_on_han_beg_of_per', ylabel='winner'>"
            ]
          },
          "metadata": {},
          "execution_count": 113
        },
        {
          "output_type": "display_data",
          "data": {
            "text/plain": [
              "<Figure size 432x288 with 1 Axes>"
            ],
            "image/png": "[encoded data removed]"
          },
          "metadata": {
            "needs_background": "light"
          }
        }
      ]
    },
    {
      "cell_type": "code",
      "source": [
        "President[\"net_con\"] = President.net_con.replace(\"\\$\", \"\", regex = True).replace(\",\", \"\", regex = True).replace(\"[()]\", \"\", regex = True).astype(float)"
      ],
      "metadata": {
        "colab": {
          "base_uri": "https://localhost:8080/"
        },
        "id": "cLd_BYVh-jWf",
        "outputId": "4f34d976-f558-4a95-9182-4fd37a74ba27"
      },
      "execution_count": null,
      "outputs": [
        {
          "output_type": "stream",
          "name": "stderr",
          "text": [
            "<ipython-input-114-86bee9898319>:1: SettingWithCopyWarning: \n",
            "A value is trying to be set on a copy of a slice from a DataFrame.\n",
            "Try using .loc[row_indexer,col_indexer] = value instead\n",
            "\n",
            "See the caveats in the documentation: https://pandas.pydata.org/pandas-docs/stable/user_guide/indexing.html#returning-a-view-versus-a-copy\n",
            "  President[\"net_con\"] = President.net_con.replace(\"\\$\", \"\", regex = True).replace(\",\", \"\", regex = True).replace(\"[()]\", \"\", regex = True).astype(float)\n"
          ]
        }
      ]
    },
    {
      "cell_type": "code",
      "source": [
        "President.net_con.describe()"
      ],
      "metadata": {
        "colab": {
          "base_uri": "https://localhost:8080/"
        },
        "id": "7dL0441h-rmE",
        "outputId": "52cdced4-161b-431a-9047-9309c1a4d8e8"
      },
      "execution_count": null,
      "outputs": [
        {
          "output_type": "execute_result",
          "data": {
            "text/plain": [
              "count    6.300000e+01\n",
              "mean     1.276596e+08\n",
              "std      4.299333e+08\n",
              "min      2.686000e+01\n",
              "25%      3.030000e+03\n",
              "50%      4.614201e+04\n",
              "75%      2.640380e+07\n",
              "max      2.526103e+09\n",
              "Name: net_con, dtype: float64"
            ]
          },
          "metadata": {},
          "execution_count": 115
        }
      ]
    },
    {
      "cell_type": "code",
      "source": [
        "sns.boxplot(President.net_con, President.winner)"
      ],
      "metadata": {
        "colab": {
          "base_uri": "https://localhost:8080/",
          "height": 354
        },
        "id": "Kt8tQvhy-tT8",
        "outputId": "ff9d8661-dde1-414a-8f36-976c016eb436"
      },
      "execution_count": null,
      "outputs": [
        {
          "output_type": "stream",
          "name": "stderr",
          "text": [
            "/usr/local/lib/python3.9/dist-packages/seaborn/_decorators.py:36: FutureWarning: Pass the following variables as keyword args: x, y. From version 0.12, the only valid positional argument will be `data`, and passing other arguments without an explicit keyword will result in an error or misinterpretation.\n",
            "  warnings.warn(\n"
          ]
        },
        {
          "output_type": "execute_result",
          "data": {
            "text/plain": [
              "<AxesSubplot:xlabel='net_con', ylabel='winner'>"
            ]
          },
          "metadata": {},
          "execution_count": 116
        },
        {
          "output_type": "display_data",
          "data": {
            "text/plain": [
              "<Figure size 432x288 with 1 Axes>"
            ],
            "image/png": "[encoded data removed]"
          },
          "metadata": {
            "needs_background": "light"
          }
        }
      ]
    },
    {
      "cell_type": "code",
      "source": [
        "President.loc[President.winner==\"Y\"]"
      ],
      "metadata": {
        "colab": {
          "base_uri": "https://localhost:8080/",
          "height": 261
        },
        "id": "WvdqvLj13UMq",
        "outputId": "f3a3d342-2ae7-49d5-eb18-b56bf9ce9451"
      },
      "execution_count": null,
      "outputs": [
        {
          "output_type": "execute_result",
          "data": {
            "text/plain": [
              "         can_id                               can_nam can_off can_off_sta  \\\n",
              "1319  P80001571  TRUMP, DONALD J. / MICHAEL R. PENCE        P          US   \n",
              "\n",
              "      can_off_dis can_par_aff can_inc_cha_ope_sea          can_str1 can_str2  \\\n",
              "1319          0.0         REP                OPEN  725 FIFTH AVENUE      NaN   \n",
              "\n",
              "       can_cit  ... cas_on_han_beg_of_per  cas_on_han_clo_of_per  \\\n",
              "1319  NEW YORK  ...                   NaN        $15,994,453.57    \n",
              "\n",
              "           net_con       net_ope_exp  deb_owe_by_com deb_owe_to_com  \\\n",
              "1319  4.684419e+08  $923,650,997.64   $2,086,572.41             NaN   \n",
              "\n",
              "     cov_sta_dat cov_end_dat winner votes  \n",
              "1319    4/2/2015  10/19/2016      Y   NaN  \n",
              "\n",
              "[1 rows x 51 columns]"
            ],
            "text/html": [
              "\n",
              "  <div id=\"df-cf96f28d-d349-4454-9a43-7f244c99e836\">\n",
              "    <div class=\"colab-df-container\">\n",
              "      <div>\n",
              "<style scoped>\n",
              "    .dataframe tbody tr th:only-of-type {\n",
              "        vertical-align: middle;\n",
              "    }\n",
              "\n",
              "    .dataframe tbody tr th {\n",
              "        vertical-align: top;\n",
              "    }\n",
              "\n",
              "    .dataframe thead th {\n",
              "        text-align: right;\n",
              "    }\n",
              "</style>\n",
              "<table border=\"1\" class=\"dataframe\">\n",
              "  <thead>\n",
              "    <tr style=\"text-align: right;\">\n",
              "      <th></th>\n",
              "      <th>can_id</th>\n",
              "      <th>can_nam</th>\n",
              "      <th>can_off</th>\n",
              "      <th>can_off_sta</th>\n",
              "      <th>can_off_dis</th>\n",
              "      <th>can_par_aff</th>\n",
              "      <th>can_inc_cha_ope_sea</th>\n",
              "      <th>can_str1</th>\n",
              "      <th>can_str2</th>\n",
              "      <th>can_cit</th>\n",
              "      <th>...</th>\n",
              "      <th>cas_on_han_beg_of_per</th>\n",
              "      <th>cas_on_han_clo_of_per</th>\n",
              "      <th>net_con</th>\n",
              "      <th>net_ope_exp</th>\n",
              "      <th>deb_owe_by_com</th>\n",
              "      <th>deb_owe_to_com</th>\n",
              "      <th>cov_sta_dat</th>\n",
              "      <th>cov_end_dat</th>\n",
              "      <th>winner</th>\n",
              "      <th>votes</th>\n",
              "    </tr>\n",
              "  </thead>\n",
              "  <tbody>\n",
              "    <tr>\n",
              "      <th>1319</th>\n",
              "      <td>P80001571</td>\n",
              "      <td>TRUMP, DONALD J. / MICHAEL R. PENCE</td>\n",
              "      <td>P</td>\n",
              "      <td>US</td>\n",
              "      <td>0.0</td>\n",
              "      <td>REP</td>\n",
              "      <td>OPEN</td>\n",
              "      <td>725 FIFTH AVENUE</td>\n",
              "      <td>NaN</td>\n",
              "      <td>NEW YORK</td>\n",
              "      <td>...</td>\n",
              "      <td>NaN</td>\n",
              "      <td>$15,994,453.57</td>\n",
              "      <td>4.684419e+08</td>\n",
              "      <td>$923,650,997.64</td>\n",
              "      <td>$2,086,572.41</td>\n",
              "      <td>NaN</td>\n",
              "      <td>4/2/2015</td>\n",
              "      <td>10/19/2016</td>\n",
              "      <td>Y</td>\n",
              "      <td>NaN</td>\n",
              "    </tr>\n",
              "  </tbody>\n",
              "</table>\n",
              "<p>1 rows × 51 columns</p>\n",
              "</div>\n",
              "      <button class=\"colab-df-convert\" onclick=\"convertToInteractive('df-cf96f28d-d349-4454-9a43-7f244c99e836')\"\n",
              "              title=\"Convert this dataframe to an interactive table.\"\n",
              "              style=\"display:none;\">\n",
              "        \n",
              "  <svg xmlns=\"http://www.w3.org/2000/svg\" height=\"24px\"viewBox=\"0 0 24 24\"\n",
              "       width=\"24px\">\n",
              "    <path d=\"M0 0h24v24H0V0z\" fill=\"none\"/>\n",
              "    <path d=\"M18.56 5.44l.94 2.06.94-2.06 2.06-.94-2.06-.94-.94-2.06-.94 2.06-2.06.94zm-11 1L8.5 8.5l.94-2.06 2.06-.94-2.06-.94L8.5 2.5l-.94 2.06-2.06.94zm10 10l.94 2.06.94-2.06 2.06-.94-2.06-.94-.94-2.06-.94 2.06-2.06.94z\"/><path d=\"M17.41 7.96l-1.37-1.37c-.4-.4-.92-.59-1.43-.59-.52 0-1.04.2-1.43.59L10.3 9.45l-7.72 7.72c-.78.78-.78 2.05 0 2.83L4 21.41c.39.39.9.59 1.41.59.51 0 1.02-.2 1.41-.59l7.78-7.78 2.81-2.81c.8-.78.8-2.07 0-2.86zM5.41 20L4 18.59l7.72-7.72 1.47 1.35L5.41 20z\"/>\n",
              "  </svg>\n",
              "      </button>\n",
              "      \n",
              "  <style>\n",
              "    .colab-df-container {\n",
              "      display:flex;\n",
              "      flex-wrap:wrap;\n",
              "      gap: 12px;\n",
              "    }\n",
              "\n",
              "    .colab-df-convert {\n",
              "      background-color: #E8F0FE;\n",
              "      border: none;\n",
              "      border-radius: 50%;\n",
              "      cursor: pointer;\n",
              "      display: none;\n",
              "      fill: #1967D2;\n",
              "      height: 32px;\n",
              "      padding: 0 0 0 0;\n",
              "      width: 32px;\n",
              "    }\n",
              "\n",
              "    .colab-df-convert:hover {\n",
              "      background-color: #E2EBFA;\n",
              "      box-shadow: 0px 1px 2px rgba(60, 64, 67, 0.3), 0px 1px 3px 1px rgba(60, 64, 67, 0.15);\n",
              "      fill: #174EA6;\n",
              "    }\n",
              "\n",
              "    [theme=dark] .colab-df-convert {\n",
              "      background-color: #3B4455;\n",
              "      fill: #D2E3FC;\n",
              "    }\n",
              "\n",
              "    [theme=dark] .colab-df-convert:hover {\n",
              "      background-color: #434B5C;\n",
              "      box-shadow: 0px 1px 3px 1px rgba(0, 0, 0, 0.15);\n",
              "      filter: drop-shadow(0px 1px 2px rgba(0, 0, 0, 0.3));\n",
              "      fill: #FFFFFF;\n",
              "    }\n",
              "  </style>\n",
              "\n",
              "      <script>\n",
              "        const buttonEl =\n",
              "          document.querySelector('#df-cf96f28d-d349-4454-9a43-7f244c99e836 button.colab-df-convert');\n",
              "        buttonEl.style.display =\n",
              "          google.colab.kernel.accessAllowed ? 'block' : 'none';\n",
              "\n",
              "        async function convertToInteractive(key) {\n",
              "          const element = document.querySelector('#df-cf96f28d-d349-4454-9a43-7f244c99e836');\n",
              "          const dataTable =\n",
              "            await google.colab.kernel.invokeFunction('convertToInteractive',\n",
              "                                                     [key], {});\n",
              "          if (!dataTable) return;\n",
              "\n",
              "          const docLinkHtml = 'Like what you see? Visit the ' +\n",
              "            '<a target=\"_blank\" href=https://colab.research.google.com/notebooks/data_table.ipynb>data table notebook</a>'\n",
              "            + ' to learn more about interactive tables.';\n",
              "          element.innerHTML = '';\n",
              "          dataTable['output_type'] = 'display_data';\n",
              "          await google.colab.output.renderOutput(dataTable, element);\n",
              "          const docLink = document.createElement('div');\n",
              "          docLink.innerHTML = docLinkHtml;\n",
              "          element.appendChild(docLink);\n",
              "        }\n",
              "      </script>\n",
              "    </div>\n",
              "  </div>\n",
              "  "
            ]
          },
          "metadata": {},
          "execution_count": 117
        }
      ]
    },
    {
      "cell_type": "code",
      "source": [
        "President[\"net_ope_exp\"] = President.net_ope_exp.replace(\"\\$\", \"\", regex = True).replace(\",\", \"\", regex = True).replace(\"[()]\", \"\", regex = True).astype(float)"
      ],
      "metadata": {
        "colab": {
          "base_uri": "https://localhost:8080/"
        },
        "id": "ui2fOkxR_DP_",
        "outputId": "170f3bf4-f0bf-4354-afd0-3c1f45e492f0"
      },
      "execution_count": null,
      "outputs": [
        {
          "output_type": "stream",
          "name": "stderr",
          "text": [
            "<ipython-input-118-2e66899e489e>:1: SettingWithCopyWarning: \n",
            "A value is trying to be set on a copy of a slice from a DataFrame.\n",
            "Try using .loc[row_indexer,col_indexer] = value instead\n",
            "\n",
            "See the caveats in the documentation: https://pandas.pydata.org/pandas-docs/stable/user_guide/indexing.html#returning-a-view-versus-a-copy\n",
            "  President[\"net_ope_exp\"] = President.net_ope_exp.replace(\"\\$\", \"\", regex = True).replace(\",\", \"\", regex = True).replace(\"[()]\", \"\", regex = True).astype(float)\n"
          ]
        }
      ]
    },
    {
      "cell_type": "code",
      "source": [
        "President.net_ope_exp.describe()"
      ],
      "metadata": {
        "colab": {
          "base_uri": "https://localhost:8080/"
        },
        "id": "gqZ71qyR_GIm",
        "outputId": "3b543e34-b391-4ef4-da12-ee125a8942d5"
      },
      "execution_count": null,
      "outputs": [
        {
          "output_type": "execute_result",
          "data": {
            "text/plain": [
              "count    6.800000e+01\n",
              "mean     1.197630e+08\n",
              "std      4.057025e+08\n",
              "min      4.590000e+00\n",
              "25%      5.863382e+03\n",
              "50%      3.922440e+04\n",
              "75%      1.909191e+07\n",
              "max      2.466802e+09\n",
              "Name: net_ope_exp, dtype: float64"
            ]
          },
          "metadata": {},
          "execution_count": 119
        }
      ]
    },
    {
      "cell_type": "code",
      "source": [
        "sns.boxplot(President.net_ope_exp, President.winner)"
      ],
      "metadata": {
        "colab": {
          "base_uri": "https://localhost:8080/",
          "height": 354
        },
        "id": "2psm050I_HVY",
        "outputId": "19304528-0f27-4501-cb51-d482ee86100d"
      },
      "execution_count": null,
      "outputs": [
        {
          "output_type": "stream",
          "name": "stderr",
          "text": [
            "/usr/local/lib/python3.9/dist-packages/seaborn/_decorators.py:36: FutureWarning: Pass the following variables as keyword args: x, y. From version 0.12, the only valid positional argument will be `data`, and passing other arguments without an explicit keyword will result in an error or misinterpretation.\n",
            "  warnings.warn(\n"
          ]
        },
        {
          "output_type": "execute_result",
          "data": {
            "text/plain": [
              "<AxesSubplot:xlabel='net_ope_exp', ylabel='winner'>"
            ]
          },
          "metadata": {},
          "execution_count": 120
        },
        {
          "output_type": "display_data",
          "data": {
            "text/plain": [
              "<Figure size 432x288 with 1 Axes>"
            ],
            "image/png": "[encoded data removed]"
          },
          "metadata": {
            "needs_background": "light"
          }
        }
      ]
    },
    {
      "cell_type": "code",
      "source": [
        "President[\"deb_owe_by_com\"] = President.deb_owe_by_com.replace(\"\\$\", \"\", regex = True).replace(\",\", \"\", regex = True).replace(\"[()]\", \"\", regex = True).astype(float)"
      ],
      "metadata": {
        "colab": {
          "base_uri": "https://localhost:8080/"
        },
        "id": "AXiF_fmG_R2M",
        "outputId": "a0523b55-3f65-41ab-9b70-b08fbea85e1a"
      },
      "execution_count": null,
      "outputs": [
        {
          "output_type": "stream",
          "name": "stderr",
          "text": [
            "<ipython-input-121-68062757a5ff>:1: SettingWithCopyWarning: \n",
            "A value is trying to be set on a copy of a slice from a DataFrame.\n",
            "Try using .loc[row_indexer,col_indexer] = value instead\n",
            "\n",
            "See the caveats in the documentation: https://pandas.pydata.org/pandas-docs/stable/user_guide/indexing.html#returning-a-view-versus-a-copy\n",
            "  President[\"deb_owe_by_com\"] = President.deb_owe_by_com.replace(\"\\$\", \"\", regex = True).replace(\",\", \"\", regex = True).replace(\"[()]\", \"\", regex = True).astype(float)\n"
          ]
        }
      ]
    },
    {
      "cell_type": "code",
      "source": [
        "President.deb_owe_by_com.describe()"
      ],
      "metadata": {
        "colab": {
          "base_uri": "https://localhost:8080/"
        },
        "id": "6KynTgOK_ViV",
        "outputId": "1e0f548e-4e6f-4bb7-d320-329618510371"
      },
      "execution_count": null,
      "outputs": [
        {
          "output_type": "execute_result",
          "data": {
            "text/plain": [
              "count    4.400000e+01\n",
              "mean     4.082954e+05\n",
              "std      1.209233e+06\n",
              "min      1.000000e+00\n",
              "25%      3.650580e+03\n",
              "50%      1.876872e+04\n",
              "75%      2.647834e+05\n",
              "max      7.617975e+06\n",
              "Name: deb_owe_by_com, dtype: float64"
            ]
          },
          "metadata": {},
          "execution_count": 122
        }
      ]
    },
    {
      "cell_type": "code",
      "source": [
        "sns.boxplot(President.deb_owe_by_com, President.winner)"
      ],
      "metadata": {
        "colab": {
          "base_uri": "https://localhost:8080/",
          "height": 354
        },
        "id": "EfHnfqL-_W9r",
        "outputId": "6971b6e4-59ad-4e1b-ba7f-540ed0222780"
      },
      "execution_count": null,
      "outputs": [
        {
          "output_type": "stream",
          "name": "stderr",
          "text": [
            "/usr/local/lib/python3.9/dist-packages/seaborn/_decorators.py:36: FutureWarning: Pass the following variables as keyword args: x, y. From version 0.12, the only valid positional argument will be `data`, and passing other arguments without an explicit keyword will result in an error or misinterpretation.\n",
            "  warnings.warn(\n"
          ]
        },
        {
          "output_type": "execute_result",
          "data": {
            "text/plain": [
              "<AxesSubplot:xlabel='deb_owe_by_com', ylabel='winner'>"
            ]
          },
          "metadata": {},
          "execution_count": 123
        },
        {
          "output_type": "display_data",
          "data": {
            "text/plain": [
              "<Figure size 432x288 with 1 Axes>"
            ],
            "image/png": "[encoded data removed]"
          },
          "metadata": {
            "needs_background": "light"
          }
        }
      ]
    },
    {
      "cell_type": "code",
      "source": [
        "President[\"deb_owe_to_com\"] = President.deb_owe_to_com.replace(\"\\$\", \"\", regex = True).replace(\",\", \"\", regex = True).replace(\"[()]\", \"\", regex = True).astype(float)"
      ],
      "metadata": {
        "colab": {
          "base_uri": "https://localhost:8080/"
        },
        "id": "bJkyMM-b_Ydn",
        "outputId": "aaa2d8a9-5a7b-4a6b-9996-051a54543655"
      },
      "execution_count": null,
      "outputs": [
        {
          "output_type": "stream",
          "name": "stderr",
          "text": [
            "<ipython-input-124-dd74d70e4eb0>:1: SettingWithCopyWarning: \n",
            "A value is trying to be set on a copy of a slice from a DataFrame.\n",
            "Try using .loc[row_indexer,col_indexer] = value instead\n",
            "\n",
            "See the caveats in the documentation: https://pandas.pydata.org/pandas-docs/stable/user_guide/indexing.html#returning-a-view-versus-a-copy\n",
            "  President[\"deb_owe_to_com\"] = President.deb_owe_to_com.replace(\"\\$\", \"\", regex = True).replace(\",\", \"\", regex = True).replace(\"[()]\", \"\", regex = True).astype(float)\n"
          ]
        }
      ]
    },
    {
      "cell_type": "code",
      "source": [
        "President.deb_owe_to_com.describe()"
      ],
      "metadata": {
        "colab": {
          "base_uri": "https://localhost:8080/"
        },
        "id": "vYYpc-MI_bwO",
        "outputId": "341fa9fd-0104-48a9-9772-7355820274dc"
      },
      "execution_count": null,
      "outputs": [
        {
          "output_type": "execute_result",
          "data": {
            "text/plain": [
              "count         3.000000\n",
              "mean      57281.783333\n",
              "std       74586.824787\n",
              "min       11250.000000\n",
              "25%       14254.000000\n",
              "50%       17258.000000\n",
              "75%       80297.675000\n",
              "max      143337.350000\n",
              "Name: deb_owe_to_com, dtype: float64"
            ]
          },
          "metadata": {},
          "execution_count": 125
        }
      ]
    },
    {
      "cell_type": "code",
      "source": [
        "sns.boxplot(President.deb_owe_to_com, President.winner)"
      ],
      "metadata": {
        "colab": {
          "base_uri": "https://localhost:8080/",
          "height": 354
        },
        "id": "fWsrBjAq_c4h",
        "outputId": "a2f47459-4387-4c19-d089-81288c66d245"
      },
      "execution_count": null,
      "outputs": [
        {
          "output_type": "stream",
          "name": "stderr",
          "text": [
            "/usr/local/lib/python3.9/dist-packages/seaborn/_decorators.py:36: FutureWarning: Pass the following variables as keyword args: x, y. From version 0.12, the only valid positional argument will be `data`, and passing other arguments without an explicit keyword will result in an error or misinterpretation.\n",
            "  warnings.warn(\n"
          ]
        },
        {
          "output_type": "execute_result",
          "data": {
            "text/plain": [
              "<AxesSubplot:xlabel='deb_owe_to_com', ylabel='winner'>"
            ]
          },
          "metadata": {},
          "execution_count": 126
        },
        {
          "output_type": "display_data",
          "data": {
            "text/plain": [
              "<Figure size 432x288 with 1 Axes>"
            ],
            "image/png": "[encoded data removed]"
          },
          "metadata": {
            "needs_background": "light"
          }
        }
      ]
    },
    {
      "cell_type": "markdown",
      "source": [
        "Not enough data because there is only info from one election, if there was info from several years it would be possible to use the data to create a model."
      ],
      "metadata": {
        "id": "kilC-ZyF6lpO"
      }
    },
    {
      "cell_type": "code",
      "source": [],
      "metadata": {
        "id": "RvNFhlrJ6tz5"
      },
      "execution_count": null,
      "outputs": []
    },
    {
      "cell_type": "markdown",
      "source": [
        "\"can_inc_cha_ope_sea\", cas_on_han_beg_of_per, can_par_aff, net_con, net_ope_exp, deb_owe_by_com"
      ],
      "metadata": {
        "id": "36zb9IqL7n6U"
      }
    },
    {
      "cell_type": "code",
      "source": [
        "House = pd.get_dummies(House, columns = [\"can_inc_cha_ope_sea\", \"can_par_aff\"] )"
      ],
      "metadata": {
        "id": "uxeRuos189Hb"
      },
      "execution_count": null,
      "outputs": []
    },
    {
      "cell_type": "code",
      "source": [
        "House.columns.to_list()"
      ],
      "metadata": {
        "colab": {
          "base_uri": "https://localhost:8080/"
        },
        "id": "M6lNXduS950t",
        "outputId": "35554f1a-44b1-4732-f04c-88b6a6fe68d8"
      },
      "execution_count": null,
      "outputs": [
        {
          "output_type": "execute_result",
          "data": {
            "text/plain": [
              "['can_id',\n",
              " 'can_nam',\n",
              " 'can_off',\n",
              " 'can_off_sta',\n",
              " 'can_off_dis',\n",
              " 'can_str1',\n",
              " 'can_str2',\n",
              " 'can_cit',\n",
              " 'can_sta',\n",
              " 'can_zip',\n",
              " 'ind_ite_con',\n",
              " 'ind_uni_con',\n",
              " 'ind_con',\n",
              " 'par_com_con',\n",
              " 'oth_com_con',\n",
              " 'can_con',\n",
              " 'tot_con',\n",
              " 'tra_fro_oth_aut_com',\n",
              " 'can_loa',\n",
              " 'oth_loa',\n",
              " 'tot_loa',\n",
              " 'off_to_ope_exp',\n",
              " 'off_to_fun',\n",
              " 'off_to_leg_acc',\n",
              " 'oth_rec',\n",
              " 'tot_rec',\n",
              " 'ope_exp',\n",
              " 'exe_leg_acc_dis',\n",
              " 'fun_dis',\n",
              " 'tra_to_oth_aut_com',\n",
              " 'can_loa_rep',\n",
              " 'oth_loa_rep',\n",
              " 'tot_loa_rep',\n",
              " 'ind_ref',\n",
              " 'par_com_ref',\n",
              " 'oth_com_ref',\n",
              " 'tot_con_ref',\n",
              " 'oth_dis',\n",
              " 'tot_dis',\n",
              " 'cas_on_han_beg_of_per',\n",
              " 'cas_on_han_clo_of_per',\n",
              " 'net_con',\n",
              " 'net_ope_exp',\n",
              " 'deb_owe_by_com',\n",
              " 'deb_owe_to_com',\n",
              " 'cov_sta_dat',\n",
              " 'cov_end_dat',\n",
              " 'winner',\n",
              " 'votes',\n",
              " 'can_inc_cha_ope_sea_CHALLENGER',\n",
              " 'can_inc_cha_ope_sea_INCUMBENT',\n",
              " 'can_inc_cha_ope_sea_OPEN',\n",
              " 'can_par_aff_DEM',\n",
              " 'can_par_aff_REP',\n",
              " 'can_par_aff_other']"
            ]
          },
          "metadata": {},
          "execution_count": 128
        }
      ]
    },
    {
      "cell_type": "code",
      "source": [
        "House = House[['can_inc_cha_ope_sea_CHALLENGER',\n",
        " 'can_inc_cha_ope_sea_INCUMBENT',\n",
        " 'can_inc_cha_ope_sea_OPEN', \"cas_on_han_beg_of_per\", 'can_par_aff_DEM',\n",
        " 'can_par_aff_REP',\n",
        " 'can_par_aff_other', \"net_con\", \"net_ope_exp\", \"deb_owe_by_com\", \"winner\"]].dropna()"
      ],
      "metadata": {
        "id": "DwXkb-7gA_c5"
      },
      "execution_count": null,
      "outputs": []
    },
    {
      "cell_type": "code",
      "source": [
        "x = House[['can_inc_cha_ope_sea_CHALLENGER',\n",
        " 'can_inc_cha_ope_sea_INCUMBENT',\n",
        " 'can_inc_cha_ope_sea_OPEN', \"cas_on_han_beg_of_per\", 'can_par_aff_DEM',\n",
        " 'can_par_aff_REP',\n",
        " 'can_par_aff_other', \"net_con\", \"net_ope_exp\", \"deb_owe_by_com\"]]\n",
        "y = House[[\"winner\"]]"
      ],
      "metadata": {
        "id": "VLrA9CH57rrI"
      },
      "execution_count": null,
      "outputs": []
    },
    {
      "cell_type": "code",
      "source": [
        "from sklearn.model_selection import train_test_split"
      ],
      "metadata": {
        "id": "aPb46eXj8C8Q"
      },
      "execution_count": null,
      "outputs": []
    },
    {
      "cell_type": "code",
      "source": [
        "x_train, x_test, y_train, y_test = train_test_split(x, y)"
      ],
      "metadata": {
        "id": "Uvu9xxOz8OeR"
      },
      "execution_count": null,
      "outputs": []
    },
    {
      "cell_type": "code",
      "source": [
        "from sklearn.linear_model import LogisticRegression"
      ],
      "metadata": {
        "id": "aErbs_eK8bkr"
      },
      "execution_count": null,
      "outputs": []
    },
    {
      "cell_type": "code",
      "source": [
        "Houselr = LogisticRegression()"
      ],
      "metadata": {
        "id": "HJYn3cP18U5g"
      },
      "execution_count": null,
      "outputs": []
    },
    {
      "cell_type": "code",
      "source": [
        "Houselr.fit(x_train, y_train)"
      ],
      "metadata": {
        "colab": {
          "base_uri": "https://localhost:8080/",
          "height": 130
        },
        "id": "6uzzpZZJ8j1_",
        "outputId": "e7edcb22-c936-4533-b4ca-8eb29e267f21"
      },
      "execution_count": null,
      "outputs": [
        {
          "output_type": "stream",
          "name": "stderr",
          "text": [
            "/usr/local/lib/python3.9/dist-packages/sklearn/utils/validation.py:1143: DataConversionWarning: A column-vector y was passed when a 1d array was expected. Please change the shape of y to (n_samples, ), for example using ravel().\n",
            "  y = column_or_1d(y, warn=True)\n"
          ]
        },
        {
          "output_type": "execute_result",
          "data": {
            "text/plain": [
              "LogisticRegression()"
            ],
            "text/html": [
              "<style>#sk-container-id-1 {color: black;background-color: white;}#sk-container-id-1 pre{padding: 0;}#sk-container-id-1 div.sk-toggleable {background-color: white;}#sk-container-id-1 label.sk-toggleable__label {cursor: pointer;display: block;width: 100%;margin-bottom: 0;padding: 0.3em;box-sizing: border-box;text-align: center;}#sk-container-id-1 label.sk-toggleable__label-arrow:before {content: \"▸\";float: left;margin-right: 0.25em;color: #696969;}#sk-container-id-1 label.sk-toggleable__label-arrow:hover:before {color: black;}#sk-container-id-1 div.sk-estimator:hover label.sk-toggleable__label-arrow:before {color: black;}#sk-container-id-1 div.sk-toggleable__content {max-height: 0;max-width: 0;overflow: hidden;text-align: left;background-color: #f0f8ff;}#sk-container-id-1 div.sk-toggleable__content pre {margin: 0.2em;color: black;border-radius: 0.25em;background-color: #f0f8ff;}#sk-container-id-1 input.sk-toggleable__control:checked~div.sk-toggleable__content {max-height: 200px;max-width: 100%;overflow: auto;}#sk-container-id-1 input.sk-toggleable__control:checked~label.sk-toggleable__label-arrow:before {content: \"▾\";}#sk-container-id-1 div.sk-estimator input.sk-toggleable__control:checked~label.sk-toggleable__label {background-color: #d4ebff;}#sk-container-id-1 div.sk-label input.sk-toggleable__control:checked~label.sk-toggleable__label {background-color: #d4ebff;}#sk-container-id-1 input.sk-hidden--visually {border: 0;clip: rect(1px 1px 1px 1px);clip: rect(1px, 1px, 1px, 1px);height: 1px;margin: -1px;overflow: hidden;padding: 0;position: absolute;width: 1px;}#sk-container-id-1 div.sk-estimator {font-family: monospace;background-color: #f0f8ff;border: 1px dotted black;border-radius: 0.25em;box-sizing: border-box;margin-bottom: 0.5em;}#sk-container-id-1 div.sk-estimator:hover {background-color: #d4ebff;}#sk-container-id-1 div.sk-parallel-item::after {content: \"\";width: 100%;border-bottom: 1px solid gray;flex-grow: 1;}#sk-container-id-1 div.sk-label:hover label.sk-toggleable__label {background-color: #d4ebff;}#sk-container-id-1 div.sk-serial::before {content: \"\";position: absolute;border-left: 1px solid gray;box-sizing: border-box;top: 0;bottom: 0;left: 50%;z-index: 0;}#sk-container-id-1 div.sk-serial {display: flex;flex-direction: column;align-items: center;background-color: white;padding-right: 0.2em;padding-left: 0.2em;position: relative;}#sk-container-id-1 div.sk-item {position: relative;z-index: 1;}#sk-container-id-1 div.sk-parallel {display: flex;align-items: stretch;justify-content: center;background-color: white;position: relative;}#sk-container-id-1 div.sk-item::before, #sk-container-id-1 div.sk-parallel-item::before {content: \"\";position: absolute;border-left: 1px solid gray;box-sizing: border-box;top: 0;bottom: 0;left: 50%;z-index: -1;}#sk-container-id-1 div.sk-parallel-item {display: flex;flex-direction: column;z-index: 1;position: relative;background-color: white;}#sk-container-id-1 div.sk-parallel-item:first-child::after {align-self: flex-end;width: 50%;}#sk-container-id-1 div.sk-parallel-item:last-child::after {align-self: flex-start;width: 50%;}#sk-container-id-1 div.sk-parallel-item:only-child::after {width: 0;}#sk-container-id-1 div.sk-dashed-wrapped {border: 1px dashed gray;margin: 0 0.4em 0.5em 0.4em;box-sizing: border-box;padding-bottom: 0.4em;background-color: white;}#sk-container-id-1 div.sk-label label {font-family: monospace;font-weight: bold;display: inline-block;line-height: 1.2em;}#sk-container-id-1 div.sk-label-container {text-align: center;}#sk-container-id-1 div.sk-container {/* jupyter's `normalize.less` sets `[hidden] { display: none; }` but bootstrap.min.css set `[hidden] { display: none !important; }` so we also need the `!important` here to be able to override the default hidden behavior on the sphinx rendered scikit-learn.org. See: https://github.com/scikit-learn/scikit-learn/issues/21755 */display: inline-block !important;position: relative;}#sk-container-id-1 div.sk-text-repr-fallback {display: none;}</style><div id=\"sk-container-id-1\" class=\"sk-top-container\"><div class=\"sk-text-repr-fallback\"><pre>LogisticRegression()</pre><b>In a Jupyter environment, please rerun this cell to show the HTML representation or trust the notebook. <br />On GitHub, the HTML representation is unable to render, please try loading this page with nbviewer.org.</b></div><div class=\"sk-container\" hidden><div class=\"sk-item\"><div class=\"sk-estimator sk-toggleable\"><input class=\"sk-toggleable__control sk-hidden--visually\" id=\"sk-estimator-id-1\" type=\"checkbox\" checked><label for=\"sk-estimator-id-1\" class=\"sk-toggleable__label sk-toggleable__label-arrow\">LogisticRegression</label><div class=\"sk-toggleable__content\"><pre>LogisticRegression()</pre></div></div></div></div></div>"
            ]
          },
          "metadata": {},
          "execution_count": 135
        }
      ]
    },
    {
      "cell_type": "code",
      "source": [
        "trainpredictions = Houselr.predict(x_train)"
      ],
      "metadata": {
        "id": "WS9CMqjNBZ_L"
      },
      "execution_count": null,
      "outputs": []
    },
    {
      "cell_type": "code",
      "source": [
        "from sklearn import metrics"
      ],
      "metadata": {
        "id": "od5fkJ-AcNHz"
      },
      "execution_count": null,
      "outputs": []
    },
    {
      "cell_type": "code",
      "source": [
        "metrics.accuracy_score(y_train, trainpredictions)"
      ],
      "metadata": {
        "colab": {
          "base_uri": "https://localhost:8080/"
        },
        "id": "-h9zUMeocHm0",
        "outputId": "400758d1-8548-4447-d083-7e853f9424c7"
      },
      "execution_count": null,
      "outputs": [
        {
          "output_type": "execute_result",
          "data": {
            "text/plain": [
              "0.782608695652174"
            ]
          },
          "metadata": {},
          "execution_count": 138
        }
      ]
    },
    {
      "cell_type": "code",
      "source": [
        "metrics.confusion_matrix(y_train, trainpredictions)"
      ],
      "metadata": {
        "colab": {
          "base_uri": "https://localhost:8080/"
        },
        "id": "i-9MSkXGcP56",
        "outputId": "5c120af0-3e1f-48f7-b3d8-9c6ffbad96ec"
      },
      "execution_count": null,
      "outputs": [
        {
          "output_type": "execute_result",
          "data": {
            "text/plain": [
              "array([[54, 32],\n",
              "       [ 3, 72]])"
            ]
          },
          "metadata": {},
          "execution_count": 139
        }
      ]
    },
    {
      "cell_type": "code",
      "source": [
        "testpredictions = Houselr.predict(x_test)"
      ],
      "metadata": {
        "id": "xkv1wpc7cU7S"
      },
      "execution_count": null,
      "outputs": []
    },
    {
      "cell_type": "code",
      "source": [
        "metrics.accuracy_score(y_test, testpredictions)"
      ],
      "metadata": {
        "colab": {
          "base_uri": "https://localhost:8080/"
        },
        "id": "QvIyd37ZcZMX",
        "outputId": "6f9dc3bb-ec64-4b01-80ba-01ecc2572b24"
      },
      "execution_count": null,
      "outputs": [
        {
          "output_type": "execute_result",
          "data": {
            "text/plain": [
              "0.7592592592592593"
            ]
          },
          "metadata": {},
          "execution_count": 141
        }
      ]
    },
    {
      "cell_type": "code",
      "source": [
        "metrics.confusion_matrix(y_test, testpredictions)"
      ],
      "metadata": {
        "colab": {
          "base_uri": "https://localhost:8080/"
        },
        "id": "axHMTSiRcxs0",
        "outputId": "854e283c-5514-4502-c848-c7705ff0415f"
      },
      "execution_count": null,
      "outputs": [
        {
          "output_type": "execute_result",
          "data": {
            "text/plain": [
              "array([[12, 11],\n",
              "       [ 2, 29]])"
            ]
          },
          "metadata": {},
          "execution_count": 142
        }
      ]
    },
    {
      "cell_type": "code",
      "source": [
        "trainaccuracy = []\n",
        "testaccuracy = []\n"
      ],
      "metadata": {
        "id": "CC-wlvOmc2TU"
      },
      "execution_count": null,
      "outputs": []
    },
    {
      "cell_type": "code",
      "source": [
        "for i in range(5):\n",
        "  x_train, x_test, y_train, y_test = train_test_split(x, y)\n",
        "  Houselr = LogisticRegression()\n",
        "  Houselr.fit(x_train, y_train)\n",
        "  trainpredictions = Houselr.predict(x_train)\n",
        "  testpredictions = Houselr.predict(x_test)\n",
        "  trainaccuracy.append(metrics.accuracy_score(y_train, trainpredictions))\n",
        "  testaccuracy.append(metrics.accuracy_score(y_test, testpredictions))"
      ],
      "metadata": {
        "colab": {
          "base_uri": "https://localhost:8080/"
        },
        "id": "BPk7rzAndkbO",
        "outputId": "d753e64d-76a9-465c-abf4-91583981828f"
      },
      "execution_count": null,
      "outputs": [
        {
          "output_type": "stream",
          "name": "stderr",
          "text": [
            "/usr/local/lib/python3.9/dist-packages/sklearn/utils/validation.py:1143: DataConversionWarning: A column-vector y was passed when a 1d array was expected. Please change the shape of y to (n_samples, ), for example using ravel().\n",
            "  y = column_or_1d(y, warn=True)\n",
            "/usr/local/lib/python3.9/dist-packages/sklearn/utils/validation.py:1143: DataConversionWarning: A column-vector y was passed when a 1d array was expected. Please change the shape of y to (n_samples, ), for example using ravel().\n",
            "  y = column_or_1d(y, warn=True)\n",
            "/usr/local/lib/python3.9/dist-packages/sklearn/utils/validation.py:1143: DataConversionWarning: A column-vector y was passed when a 1d array was expected. Please change the shape of y to (n_samples, ), for example using ravel().\n",
            "  y = column_or_1d(y, warn=True)\n",
            "/usr/local/lib/python3.9/dist-packages/sklearn/utils/validation.py:1143: DataConversionWarning: A column-vector y was passed when a 1d array was expected. Please change the shape of y to (n_samples, ), for example using ravel().\n",
            "  y = column_or_1d(y, warn=True)\n",
            "/usr/local/lib/python3.9/dist-packages/sklearn/utils/validation.py:1143: DataConversionWarning: A column-vector y was passed when a 1d array was expected. Please change the shape of y to (n_samples, ), for example using ravel().\n",
            "  y = column_or_1d(y, warn=True)\n"
          ]
        }
      ]
    },
    {
      "cell_type": "code",
      "source": [
        "trainaccuracy"
      ],
      "metadata": {
        "colab": {
          "base_uri": "https://localhost:8080/"
        },
        "id": "aNobsOsGqe7O",
        "outputId": "39e03e51-3b84-4945-c0ce-ef16a2010139"
      },
      "execution_count": null,
      "outputs": [
        {
          "output_type": "execute_result",
          "data": {
            "text/plain": [
              "[0.782608695652174,\n",
              " 0.7142857142857143,\n",
              " 0.7204968944099379,\n",
              " 0.8322981366459627,\n",
              " 0.7329192546583851]"
            ]
          },
          "metadata": {},
          "execution_count": 145
        }
      ]
    },
    {
      "cell_type": "code",
      "source": [
        "testaccuracy"
      ],
      "metadata": {
        "colab": {
          "base_uri": "https://localhost:8080/"
        },
        "id": "j5TfoAGlqhme",
        "outputId": "c9dc40dc-9e9e-4841-8843-7b975742d23d"
      },
      "execution_count": null,
      "outputs": [
        {
          "output_type": "execute_result",
          "data": {
            "text/plain": [
              "[0.7592592592592593,\n",
              " 0.7777777777777778,\n",
              " 0.6851851851851852,\n",
              " 0.6851851851851852,\n",
              " 0.7037037037037037]"
            ]
          },
          "metadata": {},
          "execution_count": 146
        }
      ]
    },
    {
      "cell_type": "code",
      "source": [
        "Senate = Senate[['can_inc_cha_ope_sea', 'can_par_aff', \"cas_on_han_beg_of_per\", \"net_con\", \"net_ope_exp\", \"winner\"]]"
      ],
      "metadata": {
        "id": "KN6ymvQYuHN2"
      },
      "execution_count": null,
      "outputs": []
    },
    {
      "cell_type": "code",
      "source": [
        "Senate.head()"
      ],
      "metadata": {
        "colab": {
          "base_uri": "https://localhost:8080/",
          "height": 206
        },
        "id": "1xymWLRFvzyE",
        "outputId": "89642ae0-b04e-4f71-ccdb-b61f698dd5a6"
      },
      "execution_count": null,
      "outputs": [
        {
          "output_type": "execute_result",
          "data": {
            "text/plain": [
              "    can_inc_cha_ope_sea can_par_aff  cas_on_han_beg_of_per     net_con  \\\n",
              "379          CHALLENGER         DEM                    NaN  13059804.0   \n",
              "380          CHALLENGER         DEM                    NaN  14006424.0   \n",
              "383          CHALLENGER         REP                    NaN    483847.0   \n",
              "399          CHALLENGER         DEM                 2653.0     15026.0   \n",
              "402          CHALLENGER         DEM                    NaN      5735.0   \n",
              "\n",
              "     net_ope_exp winner  \n",
              "379   12412571.0      Y  \n",
              "380   13622825.0      Y  \n",
              "383    2358939.0      N  \n",
              "399      29603.0      N  \n",
              "402       6436.0      N  "
            ],
            "text/html": [
              "\n",
              "  <div id=\"df-b490851b-c685-4cb6-b939-880671af9c27\">\n",
              "    <div class=\"colab-df-container\">\n",
              "      <div>\n",
              "<style scoped>\n",
              "    .dataframe tbody tr th:only-of-type {\n",
              "        vertical-align: middle;\n",
              "    }\n",
              "\n",
              "    .dataframe tbody tr th {\n",
              "        vertical-align: top;\n",
              "    }\n",
              "\n",
              "    .dataframe thead th {\n",
              "        text-align: right;\n",
              "    }\n",
              "</style>\n",
              "<table border=\"1\" class=\"dataframe\">\n",
              "  <thead>\n",
              "    <tr style=\"text-align: right;\">\n",
              "      <th></th>\n",
              "      <th>can_inc_cha_ope_sea</th>\n",
              "      <th>can_par_aff</th>\n",
              "      <th>cas_on_han_beg_of_per</th>\n",
              "      <th>net_con</th>\n",
              "      <th>net_ope_exp</th>\n",
              "      <th>winner</th>\n",
              "    </tr>\n",
              "  </thead>\n",
              "  <tbody>\n",
              "    <tr>\n",
              "      <th>379</th>\n",
              "      <td>CHALLENGER</td>\n",
              "      <td>DEM</td>\n",
              "      <td>NaN</td>\n",
              "      <td>13059804.0</td>\n",
              "      <td>12412571.0</td>\n",
              "      <td>Y</td>\n",
              "    </tr>\n",
              "    <tr>\n",
              "      <th>380</th>\n",
              "      <td>CHALLENGER</td>\n",
              "      <td>DEM</td>\n",
              "      <td>NaN</td>\n",
              "      <td>14006424.0</td>\n",
              "      <td>13622825.0</td>\n",
              "      <td>Y</td>\n",
              "    </tr>\n",
              "    <tr>\n",
              "      <th>383</th>\n",
              "      <td>CHALLENGER</td>\n",
              "      <td>REP</td>\n",
              "      <td>NaN</td>\n",
              "      <td>483847.0</td>\n",
              "      <td>2358939.0</td>\n",
              "      <td>N</td>\n",
              "    </tr>\n",
              "    <tr>\n",
              "      <th>399</th>\n",
              "      <td>CHALLENGER</td>\n",
              "      <td>DEM</td>\n",
              "      <td>2653.0</td>\n",
              "      <td>15026.0</td>\n",
              "      <td>29603.0</td>\n",
              "      <td>N</td>\n",
              "    </tr>\n",
              "    <tr>\n",
              "      <th>402</th>\n",
              "      <td>CHALLENGER</td>\n",
              "      <td>DEM</td>\n",
              "      <td>NaN</td>\n",
              "      <td>5735.0</td>\n",
              "      <td>6436.0</td>\n",
              "      <td>N</td>\n",
              "    </tr>\n",
              "  </tbody>\n",
              "</table>\n",
              "</div>\n",
              "      <button class=\"colab-df-convert\" onclick=\"convertToInteractive('df-b490851b-c685-4cb6-b939-880671af9c27')\"\n",
              "              title=\"Convert this dataframe to an interactive table.\"\n",
              "              style=\"display:none;\">\n",
              "        \n",
              "  <svg xmlns=\"http://www.w3.org/2000/svg\" height=\"24px\"viewBox=\"0 0 24 24\"\n",
              "       width=\"24px\">\n",
              "    <path d=\"M0 0h24v24H0V0z\" fill=\"none\"/>\n",
              "    <path d=\"M18.56 5.44l.94 2.06.94-2.06 2.06-.94-2.06-.94-.94-2.06-.94 2.06-2.06.94zm-11 1L8.5 8.5l.94-2.06 2.06-.94-2.06-.94L8.5 2.5l-.94 2.06-2.06.94zm10 10l.94 2.06.94-2.06 2.06-.94-2.06-.94-.94-2.06-.94 2.06-2.06.94z\"/><path d=\"M17.41 7.96l-1.37-1.37c-.4-.4-.92-.59-1.43-.59-.52 0-1.04.2-1.43.59L10.3 9.45l-7.72 7.72c-.78.78-.78 2.05 0 2.83L4 21.41c.39.39.9.59 1.41.59.51 0 1.02-.2 1.41-.59l7.78-7.78 2.81-2.81c.8-.78.8-2.07 0-2.86zM5.41 20L4 18.59l7.72-7.72 1.47 1.35L5.41 20z\"/>\n",
              "  </svg>\n",
              "      </button>\n",
              "      \n",
              "  <style>\n",
              "    .colab-df-container {\n",
              "      display:flex;\n",
              "      flex-wrap:wrap;\n",
              "      gap: 12px;\n",
              "    }\n",
              "\n",
              "    .colab-df-convert {\n",
              "      background-color: #E8F0FE;\n",
              "      border: none;\n",
              "      border-radius: 50%;\n",
              "      cursor: pointer;\n",
              "      display: none;\n",
              "      fill: #1967D2;\n",
              "      height: 32px;\n",
              "      padding: 0 0 0 0;\n",
              "      width: 32px;\n",
              "    }\n",
              "\n",
              "    .colab-df-convert:hover {\n",
              "      background-color: #E2EBFA;\n",
              "      box-shadow: 0px 1px 2px rgba(60, 64, 67, 0.3), 0px 1px 3px 1px rgba(60, 64, 67, 0.15);\n",
              "      fill: #174EA6;\n",
              "    }\n",
              "\n",
              "    [theme=dark] .colab-df-convert {\n",
              "      background-color: #3B4455;\n",
              "      fill: #D2E3FC;\n",
              "    }\n",
              "\n",
              "    [theme=dark] .colab-df-convert:hover {\n",
              "      background-color: #434B5C;\n",
              "      box-shadow: 0px 1px 3px 1px rgba(0, 0, 0, 0.15);\n",
              "      filter: drop-shadow(0px 1px 2px rgba(0, 0, 0, 0.3));\n",
              "      fill: #FFFFFF;\n",
              "    }\n",
              "  </style>\n",
              "\n",
              "      <script>\n",
              "        const buttonEl =\n",
              "          document.querySelector('#df-b490851b-c685-4cb6-b939-880671af9c27 button.colab-df-convert');\n",
              "        buttonEl.style.display =\n",
              "          google.colab.kernel.accessAllowed ? 'block' : 'none';\n",
              "\n",
              "        async function convertToInteractive(key) {\n",
              "          const element = document.querySelector('#df-b490851b-c685-4cb6-b939-880671af9c27');\n",
              "          const dataTable =\n",
              "            await google.colab.kernel.invokeFunction('convertToInteractive',\n",
              "                                                     [key], {});\n",
              "          if (!dataTable) return;\n",
              "\n",
              "          const docLinkHtml = 'Like what you see? Visit the ' +\n",
              "            '<a target=\"_blank\" href=https://colab.research.google.com/notebooks/data_table.ipynb>data table notebook</a>'\n",
              "            + ' to learn more about interactive tables.';\n",
              "          element.innerHTML = '';\n",
              "          dataTable['output_type'] = 'display_data';\n",
              "          await google.colab.output.renderOutput(dataTable, element);\n",
              "          const docLink = document.createElement('div');\n",
              "          docLink.innerHTML = docLinkHtml;\n",
              "          element.appendChild(docLink);\n",
              "        }\n",
              "      </script>\n",
              "    </div>\n",
              "  </div>\n",
              "  "
            ]
          },
          "metadata": {},
          "execution_count": 148
        }
      ]
    },
    {
      "cell_type": "code",
      "source": [
        "Senate = Senate.dropna()"
      ],
      "metadata": {
        "id": "YhkrKgbQukTr"
      },
      "execution_count": null,
      "outputs": []
    },
    {
      "cell_type": "code",
      "source": [
        "Senate.head()"
      ],
      "metadata": {
        "colab": {
          "base_uri": "https://localhost:8080/",
          "height": 206
        },
        "id": "69Nl5_3Yv6Df",
        "outputId": "28315e2a-d293-4f9c-d871-28e84b80e6b8"
      },
      "execution_count": null,
      "outputs": [
        {
          "output_type": "execute_result",
          "data": {
            "text/plain": [
              "    can_inc_cha_ope_sea can_par_aff  cas_on_han_beg_of_per     net_con  \\\n",
              "399          CHALLENGER         DEM                2653.00    15026.00   \n",
              "421          CHALLENGER         DEM             1085080.00   510547.00   \n",
              "423          CHALLENGER       other                3722.00    12756.00   \n",
              "532          CHALLENGER         REP              246339.09  1826909.95   \n",
              "558          CHALLENGER         REP                 189.00   601270.00   \n",
              "\n",
              "     net_ope_exp winner  \n",
              "399     29603.00      N  \n",
              "421   4770944.00      N  \n",
              "423     12870.00      N  \n",
              "532   1915655.96      N  \n",
              "558    477811.00      N  "
            ],
            "text/html": [
              "\n",
              "  <div id=\"df-65dc5432-8b17-40b0-ae0b-bd99b3ec1dd4\">\n",
              "    <div class=\"colab-df-container\">\n",
              "      <div>\n",
              "<style scoped>\n",
              "    .dataframe tbody tr th:only-of-type {\n",
              "        vertical-align: middle;\n",
              "    }\n",
              "\n",
              "    .dataframe tbody tr th {\n",
              "        vertical-align: top;\n",
              "    }\n",
              "\n",
              "    .dataframe thead th {\n",
              "        text-align: right;\n",
              "    }\n",
              "</style>\n",
              "<table border=\"1\" class=\"dataframe\">\n",
              "  <thead>\n",
              "    <tr style=\"text-align: right;\">\n",
              "      <th></th>\n",
              "      <th>can_inc_cha_ope_sea</th>\n",
              "      <th>can_par_aff</th>\n",
              "      <th>cas_on_han_beg_of_per</th>\n",
              "      <th>net_con</th>\n",
              "      <th>net_ope_exp</th>\n",
              "      <th>winner</th>\n",
              "    </tr>\n",
              "  </thead>\n",
              "  <tbody>\n",
              "    <tr>\n",
              "      <th>399</th>\n",
              "      <td>CHALLENGER</td>\n",
              "      <td>DEM</td>\n",
              "      <td>2653.00</td>\n",
              "      <td>15026.00</td>\n",
              "      <td>29603.00</td>\n",
              "      <td>N</td>\n",
              "    </tr>\n",
              "    <tr>\n",
              "      <th>421</th>\n",
              "      <td>CHALLENGER</td>\n",
              "      <td>DEM</td>\n",
              "      <td>1085080.00</td>\n",
              "      <td>510547.00</td>\n",
              "      <td>4770944.00</td>\n",
              "      <td>N</td>\n",
              "    </tr>\n",
              "    <tr>\n",
              "      <th>423</th>\n",
              "      <td>CHALLENGER</td>\n",
              "      <td>other</td>\n",
              "      <td>3722.00</td>\n",
              "      <td>12756.00</td>\n",
              "      <td>12870.00</td>\n",
              "      <td>N</td>\n",
              "    </tr>\n",
              "    <tr>\n",
              "      <th>532</th>\n",
              "      <td>CHALLENGER</td>\n",
              "      <td>REP</td>\n",
              "      <td>246339.09</td>\n",
              "      <td>1826909.95</td>\n",
              "      <td>1915655.96</td>\n",
              "      <td>N</td>\n",
              "    </tr>\n",
              "    <tr>\n",
              "      <th>558</th>\n",
              "      <td>CHALLENGER</td>\n",
              "      <td>REP</td>\n",
              "      <td>189.00</td>\n",
              "      <td>601270.00</td>\n",
              "      <td>477811.00</td>\n",
              "      <td>N</td>\n",
              "    </tr>\n",
              "  </tbody>\n",
              "</table>\n",
              "</div>\n",
              "      <button class=\"colab-df-convert\" onclick=\"convertToInteractive('df-65dc5432-8b17-40b0-ae0b-bd99b3ec1dd4')\"\n",
              "              title=\"Convert this dataframe to an interactive table.\"\n",
              "              style=\"display:none;\">\n",
              "        \n",
              "  <svg xmlns=\"http://www.w3.org/2000/svg\" height=\"24px\"viewBox=\"0 0 24 24\"\n",
              "       width=\"24px\">\n",
              "    <path d=\"M0 0h24v24H0V0z\" fill=\"none\"/>\n",
              "    <path d=\"M18.56 5.44l.94 2.06.94-2.06 2.06-.94-2.06-.94-.94-2.06-.94 2.06-2.06.94zm-11 1L8.5 8.5l.94-2.06 2.06-.94-2.06-.94L8.5 2.5l-.94 2.06-2.06.94zm10 10l.94 2.06.94-2.06 2.06-.94-2.06-.94-.94-2.06-.94 2.06-2.06.94z\"/><path d=\"M17.41 7.96l-1.37-1.37c-.4-.4-.92-.59-1.43-.59-.52 0-1.04.2-1.43.59L10.3 9.45l-7.72 7.72c-.78.78-.78 2.05 0 2.83L4 21.41c.39.39.9.59 1.41.59.51 0 1.02-.2 1.41-.59l7.78-7.78 2.81-2.81c.8-.78.8-2.07 0-2.86zM5.41 20L4 18.59l7.72-7.72 1.47 1.35L5.41 20z\"/>\n",
              "  </svg>\n",
              "      </button>\n",
              "      \n",
              "  <style>\n",
              "    .colab-df-container {\n",
              "      display:flex;\n",
              "      flex-wrap:wrap;\n",
              "      gap: 12px;\n",
              "    }\n",
              "\n",
              "    .colab-df-convert {\n",
              "      background-color: #E8F0FE;\n",
              "      border: none;\n",
              "      border-radius: 50%;\n",
              "      cursor: pointer;\n",
              "      display: none;\n",
              "      fill: #1967D2;\n",
              "      height: 32px;\n",
              "      padding: 0 0 0 0;\n",
              "      width: 32px;\n",
              "    }\n",
              "\n",
              "    .colab-df-convert:hover {\n",
              "      background-color: #E2EBFA;\n",
              "      box-shadow: 0px 1px 2px rgba(60, 64, 67, 0.3), 0px 1px 3px 1px rgba(60, 64, 67, 0.15);\n",
              "      fill: #174EA6;\n",
              "    }\n",
              "\n",
              "    [theme=dark] .colab-df-convert {\n",
              "      background-color: #3B4455;\n",
              "      fill: #D2E3FC;\n",
              "    }\n",
              "\n",
              "    [theme=dark] .colab-df-convert:hover {\n",
              "      background-color: #434B5C;\n",
              "      box-shadow: 0px 1px 3px 1px rgba(0, 0, 0, 0.15);\n",
              "      filter: drop-shadow(0px 1px 2px rgba(0, 0, 0, 0.3));\n",
              "      fill: #FFFFFF;\n",
              "    }\n",
              "  </style>\n",
              "\n",
              "      <script>\n",
              "        const buttonEl =\n",
              "          document.querySelector('#df-65dc5432-8b17-40b0-ae0b-bd99b3ec1dd4 button.colab-df-convert');\n",
              "        buttonEl.style.display =\n",
              "          google.colab.kernel.accessAllowed ? 'block' : 'none';\n",
              "\n",
              "        async function convertToInteractive(key) {\n",
              "          const element = document.querySelector('#df-65dc5432-8b17-40b0-ae0b-bd99b3ec1dd4');\n",
              "          const dataTable =\n",
              "            await google.colab.kernel.invokeFunction('convertToInteractive',\n",
              "                                                     [key], {});\n",
              "          if (!dataTable) return;\n",
              "\n",
              "          const docLinkHtml = 'Like what you see? Visit the ' +\n",
              "            '<a target=\"_blank\" href=https://colab.research.google.com/notebooks/data_table.ipynb>data table notebook</a>'\n",
              "            + ' to learn more about interactive tables.';\n",
              "          element.innerHTML = '';\n",
              "          dataTable['output_type'] = 'display_data';\n",
              "          await google.colab.output.renderOutput(dataTable, element);\n",
              "          const docLink = document.createElement('div');\n",
              "          docLink.innerHTML = docLinkHtml;\n",
              "          element.appendChild(docLink);\n",
              "        }\n",
              "      </script>\n",
              "    </div>\n",
              "  </div>\n",
              "  "
            ]
          },
          "metadata": {},
          "execution_count": 150
        }
      ]
    },
    {
      "cell_type": "code",
      "source": [
        "Senate.shape"
      ],
      "metadata": {
        "colab": {
          "base_uri": "https://localhost:8080/"
        },
        "id": "-LD-QqqrwkF-",
        "outputId": "8b53157e-0749-461b-f041-89a93a2cb703"
      },
      "execution_count": null,
      "outputs": [
        {
          "output_type": "execute_result",
          "data": {
            "text/plain": [
              "(59, 6)"
            ]
          },
          "metadata": {},
          "execution_count": 151
        }
      ]
    },
    {
      "cell_type": "code",
      "source": [
        "Senate = pd.get_dummies(Senate, columns = [\"can_inc_cha_ope_sea\", \"can_par_aff\"] )"
      ],
      "metadata": {
        "id": "95BWDKpUrfF0"
      },
      "execution_count": null,
      "outputs": []
    },
    {
      "cell_type": "code",
      "source": [
        "Senate.columns.to_list()"
      ],
      "metadata": {
        "colab": {
          "base_uri": "https://localhost:8080/"
        },
        "id": "GakOWy_vr97w",
        "outputId": "3aeb536d-b219-448b-ff70-2f82563f8195"
      },
      "execution_count": null,
      "outputs": [
        {
          "output_type": "execute_result",
          "data": {
            "text/plain": [
              "['cas_on_han_beg_of_per',\n",
              " 'net_con',\n",
              " 'net_ope_exp',\n",
              " 'winner',\n",
              " 'can_inc_cha_ope_sea_CHALLENGER',\n",
              " 'can_inc_cha_ope_sea_INCUMBENT',\n",
              " 'can_inc_cha_ope_sea_OPEN',\n",
              " 'can_par_aff_DEM',\n",
              " 'can_par_aff_REP',\n",
              " 'can_par_aff_other']"
            ]
          },
          "metadata": {},
          "execution_count": 153
        }
      ]
    },
    {
      "cell_type": "code",
      "source": [
        "x = Senate[['can_inc_cha_ope_sea_CHALLENGER',\n",
        "       'can_inc_cha_ope_sea_INCUMBENT', 'can_inc_cha_ope_sea_OPEN',\n",
        "       'can_par_aff_DEM', 'can_par_aff_REP', 'can_par_aff_other', \"cas_on_han_beg_of_per\", \"net_con\", \"net_ope_exp\"]]\n",
        "y = Senate[[\"winner\"]]"
      ],
      "metadata": {
        "id": "jEkub8CiHZYy"
      },
      "execution_count": null,
      "outputs": []
    },
    {
      "cell_type": "code",
      "source": [
        "Senatelr = LogisticRegression()"
      ],
      "metadata": {
        "id": "XGmpc_-OHKu1"
      },
      "execution_count": null,
      "outputs": []
    },
    {
      "cell_type": "code",
      "source": [
        "x_train, x_test, y_train, y_test = train_test_split(x, y)"
      ],
      "metadata": {
        "id": "7aIQB3NgHNxj"
      },
      "execution_count": null,
      "outputs": []
    },
    {
      "cell_type": "code",
      "source": [
        "Senatelr.fit(x_train, y_train)"
      ],
      "metadata": {
        "colab": {
          "base_uri": "https://localhost:8080/",
          "height": 130
        },
        "id": "Ksd0l6WRHTc9",
        "outputId": "a8e1645e-6e58-40b2-974f-7612b2d53377"
      },
      "execution_count": null,
      "outputs": [
        {
          "output_type": "stream",
          "name": "stderr",
          "text": [
            "/usr/local/lib/python3.9/dist-packages/sklearn/utils/validation.py:1143: DataConversionWarning: A column-vector y was passed when a 1d array was expected. Please change the shape of y to (n_samples, ), for example using ravel().\n",
            "  y = column_or_1d(y, warn=True)\n"
          ]
        },
        {
          "output_type": "execute_result",
          "data": {
            "text/plain": [
              "LogisticRegression()"
            ],
            "text/html": [
              "<style>#sk-container-id-2 {color: black;background-color: white;}#sk-container-id-2 pre{padding: 0;}#sk-container-id-2 div.sk-toggleable {background-color: white;}#sk-container-id-2 label.sk-toggleable__label {cursor: pointer;display: block;width: 100%;margin-bottom: 0;padding: 0.3em;box-sizing: border-box;text-align: center;}#sk-container-id-2 label.sk-toggleable__label-arrow:before {content: \"▸\";float: left;margin-right: 0.25em;color: #696969;}#sk-container-id-2 label.sk-toggleable__label-arrow:hover:before {color: black;}#sk-container-id-2 div.sk-estimator:hover label.sk-toggleable__label-arrow:before {color: black;}#sk-container-id-2 div.sk-toggleable__content {max-height: 0;max-width: 0;overflow: hidden;text-align: left;background-color: #f0f8ff;}#sk-container-id-2 div.sk-toggleable__content pre {margin: 0.2em;color: black;border-radius: 0.25em;background-color: #f0f8ff;}#sk-container-id-2 input.sk-toggleable__control:checked~div.sk-toggleable__content {max-height: 200px;max-width: 100%;overflow: auto;}#sk-container-id-2 input.sk-toggleable__control:checked~label.sk-toggleable__label-arrow:before {content: \"▾\";}#sk-container-id-2 div.sk-estimator input.sk-toggleable__control:checked~label.sk-toggleable__label {background-color: #d4ebff;}#sk-container-id-2 div.sk-label input.sk-toggleable__control:checked~label.sk-toggleable__label {background-color: #d4ebff;}#sk-container-id-2 input.sk-hidden--visually {border: 0;clip: rect(1px 1px 1px 1px);clip: rect(1px, 1px, 1px, 1px);height: 1px;margin: -1px;overflow: hidden;padding: 0;position: absolute;width: 1px;}#sk-container-id-2 div.sk-estimator {font-family: monospace;background-color: #f0f8ff;border: 1px dotted black;border-radius: 0.25em;box-sizing: border-box;margin-bottom: 0.5em;}#sk-container-id-2 div.sk-estimator:hover {background-color: #d4ebff;}#sk-container-id-2 div.sk-parallel-item::after {content: \"\";width: 100%;border-bottom: 1px solid gray;flex-grow: 1;}#sk-container-id-2 div.sk-label:hover label.sk-toggleable__label {background-color: #d4ebff;}#sk-container-id-2 div.sk-serial::before {content: \"\";position: absolute;border-left: 1px solid gray;box-sizing: border-box;top: 0;bottom: 0;left: 50%;z-index: 0;}#sk-container-id-2 div.sk-serial {display: flex;flex-direction: column;align-items: center;background-color: white;padding-right: 0.2em;padding-left: 0.2em;position: relative;}#sk-container-id-2 div.sk-item {position: relative;z-index: 1;}#sk-container-id-2 div.sk-parallel {display: flex;align-items: stretch;justify-content: center;background-color: white;position: relative;}#sk-container-id-2 div.sk-item::before, #sk-container-id-2 div.sk-parallel-item::before {content: \"\";position: absolute;border-left: 1px solid gray;box-sizing: border-box;top: 0;bottom: 0;left: 50%;z-index: -1;}#sk-container-id-2 div.sk-parallel-item {display: flex;flex-direction: column;z-index: 1;position: relative;background-color: white;}#sk-container-id-2 div.sk-parallel-item:first-child::after {align-self: flex-end;width: 50%;}#sk-container-id-2 div.sk-parallel-item:last-child::after {align-self: flex-start;width: 50%;}#sk-container-id-2 div.sk-parallel-item:only-child::after {width: 0;}#sk-container-id-2 div.sk-dashed-wrapped {border: 1px dashed gray;margin: 0 0.4em 0.5em 0.4em;box-sizing: border-box;padding-bottom: 0.4em;background-color: white;}#sk-container-id-2 div.sk-label label {font-family: monospace;font-weight: bold;display: inline-block;line-height: 1.2em;}#sk-container-id-2 div.sk-label-container {text-align: center;}#sk-container-id-2 div.sk-container {/* jupyter's `normalize.less` sets `[hidden] { display: none; }` but bootstrap.min.css set `[hidden] { display: none !important; }` so we also need the `!important` here to be able to override the default hidden behavior on the sphinx rendered scikit-learn.org. See: https://github.com/scikit-learn/scikit-learn/issues/21755 */display: inline-block !important;position: relative;}#sk-container-id-2 div.sk-text-repr-fallback {display: none;}</style><div id=\"sk-container-id-2\" class=\"sk-top-container\"><div class=\"sk-text-repr-fallback\"><pre>LogisticRegression()</pre><b>In a Jupyter environment, please rerun this cell to show the HTML representation or trust the notebook. <br />On GitHub, the HTML representation is unable to render, please try loading this page with nbviewer.org.</b></div><div class=\"sk-container\" hidden><div class=\"sk-item\"><div class=\"sk-estimator sk-toggleable\"><input class=\"sk-toggleable__control sk-hidden--visually\" id=\"sk-estimator-id-2\" type=\"checkbox\" checked><label for=\"sk-estimator-id-2\" class=\"sk-toggleable__label sk-toggleable__label-arrow\">LogisticRegression</label><div class=\"sk-toggleable__content\"><pre>LogisticRegression()</pre></div></div></div></div></div>"
            ]
          },
          "metadata": {},
          "execution_count": 157
        }
      ]
    },
    {
      "cell_type": "code",
      "source": [
        "trainpredictions = Senatelr.predict(x_train)"
      ],
      "metadata": {
        "id": "0beP8QnqLNss"
      },
      "execution_count": null,
      "outputs": []
    },
    {
      "cell_type": "code",
      "source": [
        "testpredictions = Senatelr.predict(x_test)"
      ],
      "metadata": {
        "id": "Qu_4gstZw3DO"
      },
      "execution_count": null,
      "outputs": []
    },
    {
      "cell_type": "code",
      "source": [
        "trainaccuracy = metrics.accuracy_score(y_train, trainpredictions)"
      ],
      "metadata": {
        "id": "SMr2j8f6w9k9"
      },
      "execution_count": null,
      "outputs": []
    },
    {
      "cell_type": "code",
      "source": [
        "trainaccuracy"
      ],
      "metadata": {
        "colab": {
          "base_uri": "https://localhost:8080/"
        },
        "id": "YKph3enbxcys",
        "outputId": "134ed6f1-4c7c-4458-af7a-0b8604213343"
      },
      "execution_count": null,
      "outputs": [
        {
          "output_type": "execute_result",
          "data": {
            "text/plain": [
              "0.6590909090909091"
            ]
          },
          "metadata": {},
          "execution_count": 161
        }
      ]
    },
    {
      "cell_type": "code",
      "source": [
        "testaccuracy = metrics.accuracy_score(y_test, testpredictions)"
      ],
      "metadata": {
        "id": "IgUgImjaxgpc"
      },
      "execution_count": null,
      "outputs": []
    },
    {
      "cell_type": "code",
      "source": [
        "testaccuracy"
      ],
      "metadata": {
        "colab": {
          "base_uri": "https://localhost:8080/"
        },
        "id": "cQ8duqm2xn5w",
        "outputId": "80500f9b-a1dd-484e-cbb5-740707154dc6"
      },
      "execution_count": null,
      "outputs": [
        {
          "output_type": "execute_result",
          "data": {
            "text/plain": [
              "0.4666666666666667"
            ]
          },
          "metadata": {},
          "execution_count": 163
        }
      ]
    },
    {
      "cell_type": "code",
      "source": [
        "metrics.confusion_matrix(y_train, trainpredictions)"
      ],
      "metadata": {
        "colab": {
          "base_uri": "https://localhost:8080/"
        },
        "id": "VPxKxZ3HxxRn",
        "outputId": "11dd3a3e-cba6-40a2-99e9-514443ce47ee"
      },
      "execution_count": null,
      "outputs": [
        {
          "output_type": "execute_result",
          "data": {
            "text/plain": [
              "array([[ 8, 13],\n",
              "       [ 2, 21]])"
            ]
          },
          "metadata": {},
          "execution_count": 164
        }
      ]
    },
    {
      "cell_type": "code",
      "source": [
        "metrics.confusion_matrix(y_test, testpredictions)"
      ],
      "metadata": {
        "colab": {
          "base_uri": "https://localhost:8080/"
        },
        "id": "1p4ReXVnyHRq",
        "outputId": "1a9861f9-2783-4860-9935-00a97a793d3d"
      },
      "execution_count": null,
      "outputs": [
        {
          "output_type": "execute_result",
          "data": {
            "text/plain": [
              "array([[3, 8],\n",
              "       [0, 4]])"
            ]
          },
          "metadata": {},
          "execution_count": 165
        }
      ]
    },
    {
      "cell_type": "code",
      "source": [
        "trainaccuracy = []\n",
        "testaccuracy = []"
      ],
      "metadata": {
        "id": "-GYuiJ-GzMJM"
      },
      "execution_count": null,
      "outputs": []
    },
    {
      "cell_type": "code",
      "source": [
        "\n",
        "for i in range(5):\n",
        "  x_train, x_test, y_train, y_test = train_test_split(x, y)\n",
        "  Senatelr = LogisticRegression()\n",
        "  Senatelr.fit(x_train, y_train)\n",
        "  trainpredictions = Senatelr.predict(x_train)\n",
        "  testpredictions = Senatelr.predict(x_test)\n",
        "  trainaccuracy.append(metrics.accuracy_score(y_train, trainpredictions))\n",
        "  testaccuracy.append(metrics.accuracy_score(y_test, testpredictions))"
      ],
      "metadata": {
        "colab": {
          "base_uri": "https://localhost:8080/"
        },
        "id": "il3GGB6ryRxB",
        "outputId": "ff35243f-cef1-4ecf-eb1a-137cd86a178f"
      },
      "execution_count": null,
      "outputs": [
        {
          "output_type": "stream",
          "name": "stderr",
          "text": [
            "/usr/local/lib/python3.9/dist-packages/sklearn/utils/validation.py:1143: DataConversionWarning: A column-vector y was passed when a 1d array was expected. Please change the shape of y to (n_samples, ), for example using ravel().\n",
            "  y = column_or_1d(y, warn=True)\n",
            "/usr/local/lib/python3.9/dist-packages/sklearn/utils/validation.py:1143: DataConversionWarning: A column-vector y was passed when a 1d array was expected. Please change the shape of y to (n_samples, ), for example using ravel().\n",
            "  y = column_or_1d(y, warn=True)\n",
            "/usr/local/lib/python3.9/dist-packages/sklearn/utils/validation.py:1143: DataConversionWarning: A column-vector y was passed when a 1d array was expected. Please change the shape of y to (n_samples, ), for example using ravel().\n",
            "  y = column_or_1d(y, warn=True)\n",
            "/usr/local/lib/python3.9/dist-packages/sklearn/utils/validation.py:1143: DataConversionWarning: A column-vector y was passed when a 1d array was expected. Please change the shape of y to (n_samples, ), for example using ravel().\n",
            "  y = column_or_1d(y, warn=True)\n",
            "/usr/local/lib/python3.9/dist-packages/sklearn/utils/validation.py:1143: DataConversionWarning: A column-vector y was passed when a 1d array was expected. Please change the shape of y to (n_samples, ), for example using ravel().\n",
            "  y = column_or_1d(y, warn=True)\n"
          ]
        }
      ]
    },
    {
      "cell_type": "code",
      "source": [
        "trainaccuracy"
      ],
      "metadata": {
        "colab": {
          "base_uri": "https://localhost:8080/"
        },
        "id": "yUz4n7YYzlZM",
        "outputId": "b4f4972e-2248-4a0a-9f72-560091f3e9cd"
      },
      "execution_count": null,
      "outputs": [
        {
          "output_type": "execute_result",
          "data": {
            "text/plain": [
              "[0.6818181818181818,\n",
              " 0.6363636363636364,\n",
              " 0.6136363636363636,\n",
              " 0.7272727272727273,\n",
              " 0.7727272727272727]"
            ]
          },
          "metadata": {},
          "execution_count": 168
        }
      ]
    },
    {
      "cell_type": "code",
      "source": [
        "testaccuracy"
      ],
      "metadata": {
        "colab": {
          "base_uri": "https://localhost:8080/"
        },
        "id": "DAZLZw_bzn8m",
        "outputId": "77306cfc-0720-4293-c0ec-3712410e32be"
      },
      "execution_count": null,
      "outputs": [
        {
          "output_type": "execute_result",
          "data": {
            "text/plain": [
              "[0.3333333333333333,\n",
              " 0.4,\n",
              " 0.5333333333333333,\n",
              " 0.7333333333333333,\n",
              " 0.4666666666666667]"
            ]
          },
          "metadata": {},
          "execution_count": 169
        }
      ]
    },
    {
      "cell_type": "markdown",
      "source": [
        "The dataset was looking at the correlation between candidate spending and their chance of winning. We fit a separate model for the 3 categories, House, Senate, and President. I used Logistic Regression for both House and Senate models because there was a Yes or No outcome (win or lose). The variables I chose for the Senate model were:'can_inc_cha_ope_sea_CHALLENGER',\n",
        "       'can_inc_cha_ope_sea_INCUMBENT', 'can_inc_cha_ope_sea_OPEN',\n",
        "       'can_par_aff_DEM', 'can_par_aff_REP', 'can_par_aff_other', \"cas_on_han_beg_of_per\", \"net_con\", \"net_ope_exp\", and I chose them because there was a significant difference in the distribution of data for candidates who won and those who didn't. For the Senate model, it was overfitted, because the test accuracy was much lower then the train accuracy."
      ],
      "metadata": {
        "id": "cmkPsfJR0I8k"
      }
    }
  ]
}